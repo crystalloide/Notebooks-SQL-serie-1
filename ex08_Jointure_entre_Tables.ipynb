{
  "nbformat": 4,
  "nbformat_minor": 0,
  "metadata": {
    "anaconda-cloud": {},
    "kernelspec": {
      "name": "python3",
      "display_name": "Python 3"
    },
    "colab": {
      "name": "ex08_Jointure_entre_Tables.ipynb",
      "provenance": [],
      "collapsed_sections": [],
      "include_colab_link": true
    }
  },
  "cells": [
    {
      "cell_type": "markdown",
      "metadata": {
        "id": "view-in-github",
        "colab_type": "text"
      },
      "source": [
        "<a href=\"https://colab.research.google.com/github/crystalloide/Notebooks-SQL-serie-1/blob/main/ex08_Jointure_entre_Tables.ipynb\" target=\"_parent\"><img src=\"https://colab.research.google.com/assets/colab-badge.svg\" alt=\"Open In Colab\"/></a>"
      ]
    },
    {
      "cell_type": "markdown",
      "metadata": {
        "id": "x0ia9alaGHn0"
      },
      "source": [
        "## ex08 - Jointure entre tables\n",
        "\n",
        "Lorsque nous concevons un système de base de données complet en utilisant de bons principes de conception tels que la normalisation, différents aspects des informations doivent être séparés en tables normalisées. \n",
        "\n",
        "Dans un tel cas, nous avons souvent besoin de ***jointures*** pour récupérer des données de plusieurs tables dans une seule requête SELECT. \n",
        "\n",
        "Deux tables peuvent être jointes par un seul opérateur de jointure, mais le résultat peut être joint à nouveau avec d'autres tables. \n",
        "\n",
        "Il doit exister une colonne identique ou similaire entre les tables jointes.\n",
        "\n",
        "Pour connecter des tables dans une requête, nous utilisons une instruction ***JOIN ... ON***. \n",
        "\n",
        "Il existe différents types de jointures SQLite :\n",
        "- INNER JOIN (ou parfois appelé jointure simple)\n",
        "- LEFT OUTER JOIN (ou parfois appelé LEFT JOIN)\n",
        "- JOINTURE CROISÉE\n",
        "\n",
        "La jointure de type RIGHT OUTER JOIN et FULL OUTER JOIN ne sont pas prises en charge dans SQLite."
      ]
    },
    {
      "cell_type": "code",
      "metadata": {
        "id": "ln0vcjAoGHn2"
      },
      "source": [
        "%load_ext sql"
      ],
      "execution_count": 1,
      "outputs": []
    },
    {
      "cell_type": "code",
      "metadata": {
        "colab": {
          "base_uri": "https://localhost:8080/"
        },
        "id": "89Juyv_XBgSJ",
        "outputId": "0241152a-dd03-497d-e9a0-971d3e8ffffe"
      },
      "source": [
        "from google.colab import drive\r\n",
        "# drive.mount('/content/gdrive')\r\n",
        "drive.mount(\"/content/gdrive\", force_remount=True)\r\n"
      ],
      "execution_count": 2,
      "outputs": [
        {
          "output_type": "stream",
          "text": [
            "Mounted at /content/gdrive\n"
          ],
          "name": "stdout"
        }
      ]
    },
    {
      "cell_type": "markdown",
      "metadata": {
        "id": "_XyvbtebGHn2"
      },
      "source": [
        "### 1. Connection à la database demo.db3"
      ]
    },
    {
      "cell_type": "code",
      "metadata": {
        "colab": {
          "base_uri": "https://localhost:8080/",
          "height": 35
        },
        "id": "Jxq7_jluOr6q",
        "outputId": "1a5251cd-a0ea-47ef-cb5d-fdbd2bf0b6e3"
      },
      "source": [
        "%sql sqlite:////content/gdrive/MyDrive/Partage/Notebooks_Serie_1/demo.db3"
      ],
      "execution_count": 3,
      "outputs": [
        {
          "output_type": "execute_result",
          "data": {
            "application/vnd.google.colaboratory.intrinsic+json": {
              "type": "string"
            },
            "text/plain": [
              "'Connected: @/content/gdrive/MyDrive/Partage/Notebooks_Serie_1/demo.db3'"
            ]
          },
          "metadata": {
            "tags": []
          },
          "execution_count": 3
        }
      ]
    },
    {
      "cell_type": "markdown",
      "metadata": {
        "id": "uN-ZnGL9GHn3"
      },
      "source": [
        "Si vous ne vous souvenez pas des tables présentes dans la database de démonstration, vous pouvez toujours utiliser la commande suivante pour les retrouver."
      ]
    },
    {
      "cell_type": "code",
      "metadata": {
        "colab": {
          "base_uri": "https://localhost:8080/",
          "height": 453
        },
        "id": "Fa1etj4FGHn4",
        "outputId": "7d6dfe8d-7049-4bfd-ec98-9464d7bbd442"
      },
      "source": [
        "%sql SELECT name FROM sqlite_master WHERE type='table'"
      ],
      "execution_count": 4,
      "outputs": [
        {
          "output_type": "stream",
          "text": [
            " * sqlite:////content/gdrive/MyDrive/Partage/Notebooks_Serie_1/demo.db3\n",
            "Done.\n"
          ],
          "name": "stdout"
        },
        {
          "output_type": "execute_result",
          "data": {
            "text/html": [
              "<table>\n",
              "    <thead>\n",
              "        <tr>\n",
              "            <th>name</th>\n",
              "        </tr>\n",
              "    </thead>\n",
              "    <tbody>\n",
              "        <tr>\n",
              "            <td>rch</td>\n",
              "        </tr>\n",
              "        <tr>\n",
              "            <td>hru</td>\n",
              "        </tr>\n",
              "        <tr>\n",
              "            <td>sub</td>\n",
              "        </tr>\n",
              "        <tr>\n",
              "            <td>sed</td>\n",
              "        </tr>\n",
              "        <tr>\n",
              "            <td>watershed_daily</td>\n",
              "        </tr>\n",
              "        <tr>\n",
              "            <td>watershed_monthly</td>\n",
              "        </tr>\n",
              "        <tr>\n",
              "            <td>watershed_yearly</td>\n",
              "        </tr>\n",
              "        <tr>\n",
              "            <td>channel_dimension</td>\n",
              "        </tr>\n",
              "        <tr>\n",
              "            <td>hru_info</td>\n",
              "        </tr>\n",
              "        <tr>\n",
              "            <td>sub_info</td>\n",
              "        </tr>\n",
              "        <tr>\n",
              "            <td>rch_info</td>\n",
              "        </tr>\n",
              "        <tr>\n",
              "            <td>ave_plant</td>\n",
              "        </tr>\n",
              "        <tr>\n",
              "            <td>ave_annual_hru</td>\n",
              "        </tr>\n",
              "        <tr>\n",
              "            <td>ave_monthly_basin</td>\n",
              "        </tr>\n",
              "        <tr>\n",
              "            <td>ave_annual_basin</td>\n",
              "        </tr>\n",
              "        <tr>\n",
              "            <td>sqlite_sequence</td>\n",
              "        </tr>\n",
              "        <tr>\n",
              "            <td>watershed_yearly_bk</td>\n",
              "        </tr>\n",
              "        <tr>\n",
              "            <td>Temperature</td>\n",
              "        </tr>\n",
              "    </tbody>\n",
              "</table>"
            ],
            "text/plain": [
              "[('rch',),\n",
              " ('hru',),\n",
              " ('sub',),\n",
              " ('sed',),\n",
              " ('watershed_daily',),\n",
              " ('watershed_monthly',),\n",
              " ('watershed_yearly',),\n",
              " ('channel_dimension',),\n",
              " ('hru_info',),\n",
              " ('sub_info',),\n",
              " ('rch_info',),\n",
              " ('ave_plant',),\n",
              " ('ave_annual_hru',),\n",
              " ('ave_monthly_basin',),\n",
              " ('ave_annual_basin',),\n",
              " ('sqlite_sequence',),\n",
              " ('watershed_yearly_bk',),\n",
              " ('Temperature',)]"
            ]
          },
          "metadata": {
            "tags": []
          },
          "execution_count": 4
        }
      ]
    },
    {
      "cell_type": "markdown",
      "metadata": {
        "id": "U_T4CkTzGHn4"
      },
      "source": [
        "### 2. INNER JOIN\n",
        "\n",
        "L'INNER JOIN nous permet de fusionner deux tables ensemble. Mais si nous allons fusionner des tables, nous devons définir un point commun entre les deux afin que les enregistrements des deux tables s'alignent. Nous devons définir un ou plusieurs champs qu'ils ont en commun et les rejoindre.\n",
        "\n",
        "#### 2.1 Vérification des colonnes en commun entre deux tables\n",
        "\n",
        "Ici, nous prenons les tableaux de ***rch*** et ***sub*** comme exemple. \n",
        "Il y a trois colonnes communes de RCH / SUB, YR et MO.\n"
      ]
    },
    {
      "cell_type": "code",
      "metadata": {
        "id": "HmVGDGPnGHn4",
        "colab": {
          "base_uri": "https://localhost:8080/",
          "height": 211
        },
        "outputId": "fce9ff53-99a5-4374-b32a-4dc74e09725f"
      },
      "source": [
        "%sql SELECT * From rch LIMIT 3"
      ],
      "execution_count": 5,
      "outputs": [
        {
          "output_type": "stream",
          "text": [
            " * sqlite:////content/gdrive/MyDrive/Partage/Notebooks_Serie_1/demo.db3\n",
            "Done.\n"
          ],
          "name": "stdout"
        },
        {
          "output_type": "execute_result",
          "data": {
            "text/html": [
              "<table>\n",
              "    <thead>\n",
              "        <tr>\n",
              "            <th>RCH</th>\n",
              "            <th>YR</th>\n",
              "            <th>MO</th>\n",
              "            <th>FLOW_INcms</th>\n",
              "            <th>FLOW_OUTcms</th>\n",
              "            <th>EVAPcms</th>\n",
              "            <th>TLOSScms</th>\n",
              "            <th>SED_INtons</th>\n",
              "            <th>SED_OUTtons</th>\n",
              "            <th>SEDCONCmg_kg</th>\n",
              "            <th>ORGN_INkg</th>\n",
              "            <th>ORGN_OUTkg</th>\n",
              "            <th>ORGP_INkg</th>\n",
              "            <th>ORGP_OUTkg</th>\n",
              "            <th>NO3_INkg</th>\n",
              "            <th>NO3_OUTkg</th>\n",
              "            <th>NH4_INkg</th>\n",
              "            <th>NH4_OUTkg</th>\n",
              "            <th>NO2_INkg</th>\n",
              "            <th>NO2_OUTkg</th>\n",
              "            <th>MINP_INkg</th>\n",
              "            <th>MINP_OUTkg</th>\n",
              "            <th>CHLA_INkg</th>\n",
              "            <th>CHLA_OUTkg</th>\n",
              "            <th>CBOD_INkg</th>\n",
              "            <th>CBOD_OUTkg</th>\n",
              "            <th>DISOX_INkg</th>\n",
              "            <th>DISOX_OUTkg</th>\n",
              "            <th>SOLPST_INmg</th>\n",
              "            <th>SOLPST_OUTmg</th>\n",
              "            <th>SORPST_INmg</th>\n",
              "            <th>SORPST_OUTmg</th>\n",
              "            <th>REACTPSTmg</th>\n",
              "            <th>VOLPSTmg</th>\n",
              "            <th>SETTLPSTmg</th>\n",
              "            <th>RESUSP_PSTmg</th>\n",
              "            <th>DIFFUSEPSTmg</th>\n",
              "            <th>REACBEDPSTmg</th>\n",
              "            <th>BURYPSTmg</th>\n",
              "            <th>BED_PSTmg</th>\n",
              "            <th>BACTP_OUTct</th>\n",
              "            <th>BACTLP_OUTct</th>\n",
              "            <th>CMETAL_1kg</th>\n",
              "            <th>CMETAL_2kg</th>\n",
              "            <th>CMETAL_3kg</th>\n",
              "            <th>TOT_Nkg</th>\n",
              "            <th>TOT_Pkg</th>\n",
              "            <th>NO3ConcMg_l</th>\n",
              "            <th>WTMPdegc</th>\n",
              "        </tr>\n",
              "    </thead>\n",
              "    <tbody>\n",
              "        <tr>\n",
              "            <td>1</td>\n",
              "            <td>1981</td>\n",
              "            <td>1</td>\n",
              "            <td>146.34376525878906</td>\n",
              "            <td>146.2524871826172</td>\n",
              "            <td>0.09128088504076004</td>\n",
              "            <td>0.0</td>\n",
              "            <td>2.3320461650655488e-07</td>\n",
              "            <td>61619.46484375</td>\n",
              "            <td>155.3719024658203</td>\n",
              "            <td>0.016086287796497345</td>\n",
              "            <td>0.0</td>\n",
              "            <td>0.04825887829065323</td>\n",
              "            <td>0.0</td>\n",
              "            <td>362.0486755371094</td>\n",
              "            <td>361.8135070800781</td>\n",
              "            <td>203.620849609375</td>\n",
              "            <td>421.18377685546875</td>\n",
              "            <td>0.0</td>\n",
              "            <td>23.0184326171875</td>\n",
              "            <td>0.016107244417071342</td>\n",
              "            <td>0.0</td>\n",
              "            <td>1.1839052307949238e-11</td>\n",
              "            <td>0.0</td>\n",
              "            <td>0.0</td>\n",
              "            <td>0.0</td>\n",
              "            <td>5627225.0</td>\n",
              "            <td>5623486.5</td>\n",
              "            <td>0.0</td>\n",
              "            <td>0.0</td>\n",
              "            <td>0.0</td>\n",
              "            <td>0.0</td>\n",
              "            <td>0.0</td>\n",
              "            <td>0.0</td>\n",
              "            <td>0.0</td>\n",
              "            <td>0.0</td>\n",
              "            <td>0.0</td>\n",
              "            <td>0.0</td>\n",
              "            <td>0.0</td>\n",
              "            <td>0.0</td>\n",
              "            <td>0.0</td>\n",
              "            <td>0.0</td>\n",
              "            <td>0.0</td>\n",
              "            <td>0.0</td>\n",
              "            <td>0.0</td>\n",
              "            <td>806.0157470703125</td>\n",
              "            <td>0.0</td>\n",
              "            <td>0.0</td>\n",
              "            <td>0.0</td>\n",
              "        </tr>\n",
              "        <tr>\n",
              "            <td>2</td>\n",
              "            <td>1981</td>\n",
              "            <td>1</td>\n",
              "            <td>96.22569274902344</td>\n",
              "            <td>96.18285369873047</td>\n",
              "            <td>0.042821284383535385</td>\n",
              "            <td>0.0</td>\n",
              "            <td>1.6426764659627224e-07</td>\n",
              "            <td>0.0</td>\n",
              "            <td>0.0</td>\n",
              "            <td>0.01363153662532568</td>\n",
              "            <td>0.0</td>\n",
              "            <td>0.04089462012052536</td>\n",
              "            <td>0.0</td>\n",
              "            <td>315.60052490234375</td>\n",
              "            <td>315.4579772949219</td>\n",
              "            <td>0.0</td>\n",
              "            <td>127.00502014160156</td>\n",
              "            <td>0.0</td>\n",
              "            <td>0.0</td>\n",
              "            <td>0.013656049966812134</td>\n",
              "            <td>0.0</td>\n",
              "            <td>4.136972177163251e-16</td>\n",
              "            <td>0.0</td>\n",
              "            <td>0.0</td>\n",
              "            <td>0.0</td>\n",
              "            <td>3757606.5</td>\n",
              "            <td>3698301.5</td>\n",
              "            <td>0.0</td>\n",
              "            <td>0.0</td>\n",
              "            <td>0.0</td>\n",
              "            <td>0.0</td>\n",
              "            <td>0.0</td>\n",
              "            <td>0.0</td>\n",
              "            <td>0.0</td>\n",
              "            <td>0.0</td>\n",
              "            <td>0.0</td>\n",
              "            <td>0.0</td>\n",
              "            <td>0.0</td>\n",
              "            <td>0.0</td>\n",
              "            <td>0.0</td>\n",
              "            <td>0.0</td>\n",
              "            <td>0.0</td>\n",
              "            <td>0.0</td>\n",
              "            <td>0.0</td>\n",
              "            <td>442.4630126953125</td>\n",
              "            <td>0.0</td>\n",
              "            <td>0.0</td>\n",
              "            <td>0.0</td>\n",
              "        </tr>\n",
              "        <tr>\n",
              "            <td>3</td>\n",
              "            <td>1981</td>\n",
              "            <td>1</td>\n",
              "            <td>11.952718734741211</td>\n",
              "            <td>11.861368179321289</td>\n",
              "            <td>0.09135182946920395</td>\n",
              "            <td>0.0</td>\n",
              "            <td>2.0325823868461157e-07</td>\n",
              "            <td>2.0325823868461157e-07</td>\n",
              "            <td>6.595060941805286e-09</td>\n",
              "            <td>0.01146628800779581</td>\n",
              "            <td>0.0</td>\n",
              "            <td>0.03439886122941971</td>\n",
              "            <td>0.009118038229644299</td>\n",
              "            <td>48.2963752746582</td>\n",
              "            <td>47.93150329589844</td>\n",
              "            <td>0.0</td>\n",
              "            <td>62.467620849609375</td>\n",
              "            <td>0.0</td>\n",
              "            <td>0.0</td>\n",
              "            <td>0.011485105380415916</td>\n",
              "            <td>0.0</td>\n",
              "            <td>5.941028783295818e-14</td>\n",
              "            <td>0.0</td>\n",
              "            <td>0.0</td>\n",
              "            <td>0.0</td>\n",
              "            <td>360979.90625</td>\n",
              "            <td>456115.90625</td>\n",
              "            <td>0.0</td>\n",
              "            <td>0.0</td>\n",
              "            <td>0.0</td>\n",
              "            <td>0.0</td>\n",
              "            <td>0.0</td>\n",
              "            <td>0.0</td>\n",
              "            <td>0.0</td>\n",
              "            <td>0.0</td>\n",
              "            <td>0.0</td>\n",
              "            <td>0.0</td>\n",
              "            <td>0.0</td>\n",
              "            <td>0.0</td>\n",
              "            <td>0.0</td>\n",
              "            <td>0.0</td>\n",
              "            <td>0.0</td>\n",
              "            <td>0.0</td>\n",
              "            <td>0.0</td>\n",
              "            <td>110.39912414550781</td>\n",
              "            <td>0.009118038229644299</td>\n",
              "            <td>0.0</td>\n",
              "            <td>0.0</td>\n",
              "        </tr>\n",
              "    </tbody>\n",
              "</table>"
            ],
            "text/plain": [
              "[(1, 1981, 1, 146.34376525878906, 146.2524871826172, 0.09128088504076004, 0.0, 2.3320461650655488e-07, 61619.46484375, 155.3719024658203, 0.016086287796497345, 0.0, 0.04825887829065323, 0.0, 362.0486755371094, 361.8135070800781, 203.620849609375, 421.18377685546875, 0.0, 23.0184326171875, 0.016107244417071342, 0.0, 1.1839052307949238e-11, 0.0, 0.0, 0.0, 5627225.0, 5623486.5, 0.0, 0.0, 0.0, 0.0, 0.0, 0.0, 0.0, 0.0, 0.0, 0.0, 0.0, 0.0, 0.0, 0.0, 0.0, 0.0, 0.0, 806.0157470703125, 0.0, 0.0, 0.0),\n",
              " (2, 1981, 1, 96.22569274902344, 96.18285369873047, 0.042821284383535385, 0.0, 1.6426764659627224e-07, 0.0, 0.0, 0.01363153662532568, 0.0, 0.04089462012052536, 0.0, 315.60052490234375, 315.4579772949219, 0.0, 127.00502014160156, 0.0, 0.0, 0.013656049966812134, 0.0, 4.136972177163251e-16, 0.0, 0.0, 0.0, 3757606.5, 3698301.5, 0.0, 0.0, 0.0, 0.0, 0.0, 0.0, 0.0, 0.0, 0.0, 0.0, 0.0, 0.0, 0.0, 0.0, 0.0, 0.0, 0.0, 442.4630126953125, 0.0, 0.0, 0.0),\n",
              " (3, 1981, 1, 11.952718734741211, 11.861368179321289, 0.09135182946920395, 0.0, 2.0325823868461157e-07, 2.0325823868461157e-07, 6.595060941805286e-09, 0.01146628800779581, 0.0, 0.03439886122941971, 0.009118038229644299, 48.2963752746582, 47.93150329589844, 0.0, 62.467620849609375, 0.0, 0.0, 0.011485105380415916, 0.0, 5.941028783295818e-14, 0.0, 0.0, 0.0, 360979.90625, 456115.90625, 0.0, 0.0, 0.0, 0.0, 0.0, 0.0, 0.0, 0.0, 0.0, 0.0, 0.0, 0.0, 0.0, 0.0, 0.0, 0.0, 0.0, 110.39912414550781, 0.009118038229644299, 0.0, 0.0)]"
            ]
          },
          "metadata": {
            "tags": []
          },
          "execution_count": 5
        }
      ]
    },
    {
      "cell_type": "code",
      "metadata": {
        "id": "jM3ezaSIGHn4",
        "colab": {
          "base_uri": "https://localhost:8080/",
          "height": 211
        },
        "outputId": "b7e4042d-7007-4195-d3dc-80417e6e68b5"
      },
      "source": [
        "%sql SELECT * From sub LIMIT 3"
      ],
      "execution_count": 6,
      "outputs": [
        {
          "output_type": "stream",
          "text": [
            " * sqlite:////content/gdrive/MyDrive/Partage/Notebooks_Serie_1/demo.db3\n",
            "Done.\n"
          ],
          "name": "stdout"
        },
        {
          "output_type": "execute_result",
          "data": {
            "text/html": [
              "<table>\n",
              "    <thead>\n",
              "        <tr>\n",
              "            <th>SUB</th>\n",
              "            <th>YR</th>\n",
              "            <th>MO</th>\n",
              "            <th>PRECIPmm</th>\n",
              "            <th>SNOMELTmm</th>\n",
              "            <th>PETmm</th>\n",
              "            <th>ETmm</th>\n",
              "            <th>SWmm</th>\n",
              "            <th>PERCmm</th>\n",
              "            <th>SURQmm</th>\n",
              "            <th>GW_Qmm</th>\n",
              "            <th>WYLDmm</th>\n",
              "            <th>SYLDt_ha</th>\n",
              "            <th>ORGNkg_ha</th>\n",
              "            <th>ORGPkg_ha</th>\n",
              "            <th>NSURQkg_ha</th>\n",
              "            <th>SOLPkg_ha</th>\n",
              "            <th>SEDPkg_ha</th>\n",
              "            <th>LAT_Q_mm</th>\n",
              "            <th>LATNO3kg_h</th>\n",
              "            <th>GWNO3kg_ha</th>\n",
              "            <th>CHOLAmic_L</th>\n",
              "            <th>CBODU_mg_L</th>\n",
              "            <th>DOXQ_mg_L</th>\n",
              "            <th>TNO3kg_ha</th>\n",
              "            <th>QTILEmm</th>\n",
              "            <th>TVAPkg_ha</th>\n",
              "        </tr>\n",
              "    </thead>\n",
              "    <tbody>\n",
              "        <tr>\n",
              "            <td>1</td>\n",
              "            <td>1981</td>\n",
              "            <td>1</td>\n",
              "            <td>35.60198974609375</td>\n",
              "            <td>0.0</td>\n",
              "            <td>3.7207436561584473</td>\n",
              "            <td>0.24964235723018646</td>\n",
              "            <td>10.79859447479248</td>\n",
              "            <td>0.0</td>\n",
              "            <td>2.3795111701474525e-05</td>\n",
              "            <td>0.05372961238026619</td>\n",
              "            <td>0.2988955080509186</td>\n",
              "            <td>3.4497936191729694e-13</td>\n",
              "            <td>2.37964208338326e-08</td>\n",
              "            <td>2.37964208338326e-08</td>\n",
              "            <td>2.37964208338326e-08</td>\n",
              "            <td>2.37964208338326e-08</td>\n",
              "            <td>4.75928416676652e-08</td>\n",
              "            <td>0.0078118653036653996</td>\n",
              "            <td>0.0</td>\n",
              "            <td>1.5622873661413905e-07</td>\n",
              "            <td>0.0</td>\n",
              "            <td>0.0</td>\n",
              "            <td>0.0</td>\n",
              "            <td>0.0</td>\n",
              "            <td>0.0</td>\n",
              "            <td>0.0</td>\n",
              "        </tr>\n",
              "        <tr>\n",
              "            <td>2</td>\n",
              "            <td>1981</td>\n",
              "            <td>1</td>\n",
              "            <td>108.60607147216797</td>\n",
              "            <td>0.0</td>\n",
              "            <td>3.4504077434539795</td>\n",
              "            <td>0.45720556378364563</td>\n",
              "            <td>56.32500457763672</td>\n",
              "            <td>0.0</td>\n",
              "            <td>1.7237898646271788e-05</td>\n",
              "            <td>28.572050094604492</td>\n",
              "            <td>32.59342956542969</td>\n",
              "            <td>2.077378118700915e-13</td>\n",
              "            <td>1.7238855676282583e-08</td>\n",
              "            <td>1.7238855676282583e-08</td>\n",
              "            <td>1.7238855676282583e-08</td>\n",
              "            <td>1.7238855676282583e-08</td>\n",
              "            <td>3.4477711352565166e-08</td>\n",
              "            <td>0.03393149375915527</td>\n",
              "            <td>1.6220961697399616e-05</td>\n",
              "            <td>0.00038287980714812875</td>\n",
              "            <td>0.0</td>\n",
              "            <td>0.0</td>\n",
              "            <td>0.0</td>\n",
              "            <td>0.0</td>\n",
              "            <td>0.0</td>\n",
              "            <td>0.0</td>\n",
              "        </tr>\n",
              "        <tr>\n",
              "            <td>3</td>\n",
              "            <td>1981</td>\n",
              "            <td>1</td>\n",
              "            <td>149.30836486816406</td>\n",
              "            <td>0.0</td>\n",
              "            <td>10.566324234008789</td>\n",
              "            <td>6.027106285095215</td>\n",
              "            <td>71.0020980834961</td>\n",
              "            <td>0.0</td>\n",
              "            <td>2.4236529498011805e-05</td>\n",
              "            <td>3.9627554416656494</td>\n",
              "            <td>5.274456977844238</td>\n",
              "            <td>3.348758173971761e-13</td>\n",
              "            <td>1.8891142872234923e-08</td>\n",
              "            <td>1.8891142872234923e-08</td>\n",
              "            <td>1.8891142872234923e-08</td>\n",
              "            <td>1.8891142872234923e-08</td>\n",
              "            <td>3.7782285744469846e-08</td>\n",
              "            <td>0.00791492685675621</td>\n",
              "            <td>3.7224147035885835e-06</td>\n",
              "            <td>7.582882244605571e-05</td>\n",
              "            <td>0.0</td>\n",
              "            <td>0.0</td>\n",
              "            <td>0.0</td>\n",
              "            <td>0.0</td>\n",
              "            <td>0.0</td>\n",
              "            <td>0.0</td>\n",
              "        </tr>\n",
              "    </tbody>\n",
              "</table>"
            ],
            "text/plain": [
              "[(1, 1981, 1, 35.60198974609375, 0.0, 3.7207436561584473, 0.24964235723018646, 10.79859447479248, 0.0, 2.3795111701474525e-05, 0.05372961238026619, 0.2988955080509186, 3.4497936191729694e-13, 2.37964208338326e-08, 2.37964208338326e-08, 2.37964208338326e-08, 2.37964208338326e-08, 4.75928416676652e-08, 0.0078118653036653996, 0.0, 1.5622873661413905e-07, 0.0, 0.0, 0.0, 0.0, 0.0, 0.0),\n",
              " (2, 1981, 1, 108.60607147216797, 0.0, 3.4504077434539795, 0.45720556378364563, 56.32500457763672, 0.0, 1.7237898646271788e-05, 28.572050094604492, 32.59342956542969, 2.077378118700915e-13, 1.7238855676282583e-08, 1.7238855676282583e-08, 1.7238855676282583e-08, 1.7238855676282583e-08, 3.4477711352565166e-08, 0.03393149375915527, 1.6220961697399616e-05, 0.00038287980714812875, 0.0, 0.0, 0.0, 0.0, 0.0, 0.0),\n",
              " (3, 1981, 1, 149.30836486816406, 0.0, 10.566324234008789, 6.027106285095215, 71.0020980834961, 0.0, 2.4236529498011805e-05, 3.9627554416656494, 5.274456977844238, 3.348758173971761e-13, 1.8891142872234923e-08, 1.8891142872234923e-08, 1.8891142872234923e-08, 1.8891142872234923e-08, 3.7782285744469846e-08, 0.00791492685675621, 3.7224147035885835e-06, 7.582882244605571e-05, 0.0, 0.0, 0.0, 0.0, 0.0, 0.0)]"
            ]
          },
          "metadata": {
            "tags": []
          },
          "execution_count": 6
        }
      ]
    },
    {
      "cell_type": "markdown",
      "metadata": {
        "id": "wuvFfGivGHn5"
      },
      "source": [
        "#### 2.2 Faire une jointure de type \"inner join\"\n",
        "\n",
        "La syntaxe pour une INNER JOIN dans SQLite est la suivante :\n",
        ">SELECT columns<br>\n",
        ">FROM table1<br> \n",
        ">INNER JOIN table2<br>\n",
        ">ON table1.column = table2.column;\n",
        "\n",
        "Fait la jointure entre RCH/SUB, YR and MO. \n",
        "\n",
        "**Remarque** : Lors du SELECT (sélection) des colonnes communes, vous devrez explicitement attribuer un nom de table. \n",
        "\n",
        "Si les noms de colonne ou de table sont trop longs, il est possible d'utiliser des alias pour donner des noms plus courts.\n"
      ]
    },
    {
      "cell_type": "code",
      "metadata": {
        "id": "sgMbOIGMGHn5",
        "colab": {
          "base_uri": "https://localhost:8080/",
          "height": 163
        },
        "outputId": "59a85147-6dd2-4ff6-b09d-a3dce84c7be8"
      },
      "source": [
        "%%sql sqlite://\n",
        "SELECT RCH, rch.YR, rch.MO, FLOW_INcms, FLOW_OUTcms, PRECIPmm, PETmm\n",
        "FROM rch INNER JOIN sub\n",
        "ON rch.RCH = sub.SUB and rch.YR=sub.YR and rch.MO=sub.MO\n",
        "LIMIT 5"
      ],
      "execution_count": 7,
      "outputs": [
        {
          "output_type": "stream",
          "text": [
            "Done.\n"
          ],
          "name": "stdout"
        },
        {
          "output_type": "execute_result",
          "data": {
            "text/html": [
              "<table>\n",
              "    <thead>\n",
              "        <tr>\n",
              "            <th>RCH</th>\n",
              "            <th>YR</th>\n",
              "            <th>MO</th>\n",
              "            <th>FLOW_INcms</th>\n",
              "            <th>FLOW_OUTcms</th>\n",
              "            <th>PRECIPmm</th>\n",
              "            <th>PETmm</th>\n",
              "        </tr>\n",
              "    </thead>\n",
              "    <tbody>\n",
              "        <tr>\n",
              "            <td>1</td>\n",
              "            <td>1981</td>\n",
              "            <td>1</td>\n",
              "            <td>146.34376525878906</td>\n",
              "            <td>146.2524871826172</td>\n",
              "            <td>35.60198974609375</td>\n",
              "            <td>3.7207436561584473</td>\n",
              "        </tr>\n",
              "        <tr>\n",
              "            <td>2</td>\n",
              "            <td>1981</td>\n",
              "            <td>1</td>\n",
              "            <td>96.22569274902344</td>\n",
              "            <td>96.18285369873047</td>\n",
              "            <td>108.60607147216797</td>\n",
              "            <td>3.4504077434539795</td>\n",
              "        </tr>\n",
              "        <tr>\n",
              "            <td>3</td>\n",
              "            <td>1981</td>\n",
              "            <td>1</td>\n",
              "            <td>11.952718734741211</td>\n",
              "            <td>11.861368179321289</td>\n",
              "            <td>149.30836486816406</td>\n",
              "            <td>10.566324234008789</td>\n",
              "        </tr>\n",
              "        <tr>\n",
              "            <td>4</td>\n",
              "            <td>1981</td>\n",
              "            <td>1</td>\n",
              "            <td>49.48649215698242</td>\n",
              "            <td>49.40651321411133</td>\n",
              "            <td>108.60604858398438</td>\n",
              "            <td>10.674993515014648</td>\n",
              "        </tr>\n",
              "        <tr>\n",
              "            <td>5</td>\n",
              "            <td>1981</td>\n",
              "            <td>1</td>\n",
              "            <td>274.0668029785156</td>\n",
              "            <td>272.10601806640625</td>\n",
              "            <td>201.311279296875</td>\n",
              "            <td>27.179243087768555</td>\n",
              "        </tr>\n",
              "    </tbody>\n",
              "</table>"
            ],
            "text/plain": [
              "[(1, 1981, 1, 146.34376525878906, 146.2524871826172, 35.60198974609375, 3.7207436561584473),\n",
              " (2, 1981, 1, 96.22569274902344, 96.18285369873047, 108.60607147216797, 3.4504077434539795),\n",
              " (3, 1981, 1, 11.952718734741211, 11.861368179321289, 149.30836486816406, 10.566324234008789),\n",
              " (4, 1981, 1, 49.48649215698242, 49.40651321411133, 108.60604858398438, 10.674993515014648),\n",
              " (5, 1981, 1, 274.0668029785156, 272.10601806640625, 201.311279296875, 27.179243087768555)]"
            ]
          },
          "metadata": {
            "tags": []
          },
          "execution_count": 7
        }
      ]
    },
    {
      "cell_type": "markdown",
      "metadata": {
        "id": "nyfjp_VsGHn5"
      },
      "source": [
        "### 3. LEFT JOIN\n",
        "\n",
        "Semblable à la clause INNER JOIN, la clause LEFT JOIN est une clause facultative de l'instruction SELECT. \n",
        "\n",
        "La clause LEFT JOIN permet d'interroger les données de plusieurs tables corrélées. \n",
        "\n",
        "Ce type de jointure renvoie toutes les lignes de la table GAUCHE spécifiée dans la condition ON et uniquement les lignes de l'autre table où les champs joints sont égaux (la condition de jointure est remplie).\n",
        "\n",
        "La syntaxe de SQLite LEFT OUTER JOIN est la suivante:\n",
        ">SELECT columns<br>\n",
        ">FROM table1<br>\n",
        ">LEFT [OUTER] JOIN table2<br>\n",
        ">ON table1.column = table2.column;"
      ]
    },
    {
      "cell_type": "code",
      "metadata": {
        "id": "9SsZb0n2GHn5",
        "colab": {
          "base_uri": "https://localhost:8080/",
          "height": 163
        },
        "outputId": "8aa76ed6-78f4-4bc7-aeff-7ad7b7bf329d"
      },
      "source": [
        "%%sql sqlite://\n",
        "SELECT RCH, rch.YR, rch.MO, FLOW_INcms, FLOW_OUTcms, PRECIPmm, PETmm\n",
        "FROM rch LEFT JOIN sub\n",
        "ON rch.RCH = sub.SUB and rch.YR=sub.YR and rch.MO=sub.MO\n",
        "LIMIT 5"
      ],
      "execution_count": 8,
      "outputs": [
        {
          "output_type": "stream",
          "text": [
            "Done.\n"
          ],
          "name": "stdout"
        },
        {
          "output_type": "execute_result",
          "data": {
            "text/html": [
              "<table>\n",
              "    <thead>\n",
              "        <tr>\n",
              "            <th>RCH</th>\n",
              "            <th>YR</th>\n",
              "            <th>MO</th>\n",
              "            <th>FLOW_INcms</th>\n",
              "            <th>FLOW_OUTcms</th>\n",
              "            <th>PRECIPmm</th>\n",
              "            <th>PETmm</th>\n",
              "        </tr>\n",
              "    </thead>\n",
              "    <tbody>\n",
              "        <tr>\n",
              "            <td>1</td>\n",
              "            <td>1981</td>\n",
              "            <td>1</td>\n",
              "            <td>146.34376525878906</td>\n",
              "            <td>146.2524871826172</td>\n",
              "            <td>35.60198974609375</td>\n",
              "            <td>3.7207436561584473</td>\n",
              "        </tr>\n",
              "        <tr>\n",
              "            <td>2</td>\n",
              "            <td>1981</td>\n",
              "            <td>1</td>\n",
              "            <td>96.22569274902344</td>\n",
              "            <td>96.18285369873047</td>\n",
              "            <td>108.60607147216797</td>\n",
              "            <td>3.4504077434539795</td>\n",
              "        </tr>\n",
              "        <tr>\n",
              "            <td>3</td>\n",
              "            <td>1981</td>\n",
              "            <td>1</td>\n",
              "            <td>11.952718734741211</td>\n",
              "            <td>11.861368179321289</td>\n",
              "            <td>149.30836486816406</td>\n",
              "            <td>10.566324234008789</td>\n",
              "        </tr>\n",
              "        <tr>\n",
              "            <td>4</td>\n",
              "            <td>1981</td>\n",
              "            <td>1</td>\n",
              "            <td>49.48649215698242</td>\n",
              "            <td>49.40651321411133</td>\n",
              "            <td>108.60604858398438</td>\n",
              "            <td>10.674993515014648</td>\n",
              "        </tr>\n",
              "        <tr>\n",
              "            <td>5</td>\n",
              "            <td>1981</td>\n",
              "            <td>1</td>\n",
              "            <td>274.0668029785156</td>\n",
              "            <td>272.10601806640625</td>\n",
              "            <td>201.311279296875</td>\n",
              "            <td>27.179243087768555</td>\n",
              "        </tr>\n",
              "    </tbody>\n",
              "</table>"
            ],
            "text/plain": [
              "[(1, 1981, 1, 146.34376525878906, 146.2524871826172, 35.60198974609375, 3.7207436561584473),\n",
              " (2, 1981, 1, 96.22569274902344, 96.18285369873047, 108.60607147216797, 3.4504077434539795),\n",
              " (3, 1981, 1, 11.952718734741211, 11.861368179321289, 149.30836486816406, 10.566324234008789),\n",
              " (4, 1981, 1, 49.48649215698242, 49.40651321411133, 108.60604858398438, 10.674993515014648),\n",
              " (5, 1981, 1, 274.0668029785156, 272.10601806640625, 201.311279296875, 27.179243087768555)]"
            ]
          },
          "metadata": {
            "tags": []
          },
          "execution_count": 8
        }
      ]
    },
    {
      "cell_type": "markdown",
      "metadata": {
        "id": "dh7mazv4GHn6"
      },
      "source": [
        "### 4. CROSS JOIN\n",
        "\n",
        "Another type of join is called a SQLite CROSS JOIN. This type of join returns a combined result set with every row from the first table matched with every row from the second table. This is also called a Cartesian Product.\n",
        "\n",
        "Une autre sorte de jointure est appelée dans SQLite une jointure de type CROSS JOIN. \n",
        "\n",
        "Ce type de jointure renvoie un jeu de résultats combiné avec chaque ligne de la première table correspondant à chaque ligne de la deuxième table. \n",
        "\n",
        "Ceci est également appelé un produit cartésien.\n",
        "\n",
        "La syntaxe dans SQLite de CROSS JOIN est:\n",
        "\n",
        ">SELECT columns<br>\n",
        ">FROM table1<br>\n",
        ">CROSS JOIN table2;"
      ]
    },
    {
      "cell_type": "code",
      "metadata": {
        "id": "BmUNPHjlGHn6",
        "colab": {
          "base_uri": "https://localhost:8080/",
          "height": 163
        },
        "outputId": "af5d3857-cfb8-40ef-c390-7bbf2d610db0"
      },
      "source": [
        "%%sql sqlite://\n",
        "SELECT RCH, rch.YR, rch.MO, FLOW_INcms, FLOW_OUTcms, PRECIPmm, PETmm\n",
        "FROM rch\n",
        "CROSS JOIN sub\n",
        "LIMIT 5"
      ],
      "execution_count": 9,
      "outputs": [
        {
          "output_type": "stream",
          "text": [
            "Done.\n"
          ],
          "name": "stdout"
        },
        {
          "output_type": "execute_result",
          "data": {
            "text/html": [
              "<table>\n",
              "    <thead>\n",
              "        <tr>\n",
              "            <th>RCH</th>\n",
              "            <th>YR</th>\n",
              "            <th>MO</th>\n",
              "            <th>FLOW_INcms</th>\n",
              "            <th>FLOW_OUTcms</th>\n",
              "            <th>PRECIPmm</th>\n",
              "            <th>PETmm</th>\n",
              "        </tr>\n",
              "    </thead>\n",
              "    <tbody>\n",
              "        <tr>\n",
              "            <td>1</td>\n",
              "            <td>1981</td>\n",
              "            <td>1</td>\n",
              "            <td>146.34376525878906</td>\n",
              "            <td>146.2524871826172</td>\n",
              "            <td>35.60198974609375</td>\n",
              "            <td>3.7207436561584473</td>\n",
              "        </tr>\n",
              "        <tr>\n",
              "            <td>1</td>\n",
              "            <td>1981</td>\n",
              "            <td>1</td>\n",
              "            <td>146.34376525878906</td>\n",
              "            <td>146.2524871826172</td>\n",
              "            <td>108.60607147216797</td>\n",
              "            <td>3.4504077434539795</td>\n",
              "        </tr>\n",
              "        <tr>\n",
              "            <td>1</td>\n",
              "            <td>1981</td>\n",
              "            <td>1</td>\n",
              "            <td>146.34376525878906</td>\n",
              "            <td>146.2524871826172</td>\n",
              "            <td>149.30836486816406</td>\n",
              "            <td>10.566324234008789</td>\n",
              "        </tr>\n",
              "        <tr>\n",
              "            <td>1</td>\n",
              "            <td>1981</td>\n",
              "            <td>1</td>\n",
              "            <td>146.34376525878906</td>\n",
              "            <td>146.2524871826172</td>\n",
              "            <td>108.60604858398438</td>\n",
              "            <td>10.674993515014648</td>\n",
              "        </tr>\n",
              "        <tr>\n",
              "            <td>1</td>\n",
              "            <td>1981</td>\n",
              "            <td>1</td>\n",
              "            <td>146.34376525878906</td>\n",
              "            <td>146.2524871826172</td>\n",
              "            <td>201.311279296875</td>\n",
              "            <td>27.179243087768555</td>\n",
              "        </tr>\n",
              "    </tbody>\n",
              "</table>"
            ],
            "text/plain": [
              "[(1, 1981, 1, 146.34376525878906, 146.2524871826172, 35.60198974609375, 3.7207436561584473),\n",
              " (1, 1981, 1, 146.34376525878906, 146.2524871826172, 108.60607147216797, 3.4504077434539795),\n",
              " (1, 1981, 1, 146.34376525878906, 146.2524871826172, 149.30836486816406, 10.566324234008789),\n",
              " (1, 1981, 1, 146.34376525878906, 146.2524871826172, 108.60604858398438, 10.674993515014648),\n",
              " (1, 1981, 1, 146.34376525878906, 146.2524871826172, 201.311279296875, 27.179243087768555)]"
            ]
          },
          "metadata": {
            "tags": []
          },
          "execution_count": 9
        }
      ]
    },
    {
      "cell_type": "markdown",
      "metadata": {
        "id": "Ieu4NWWRGHn6"
      },
      "source": [
        "### 5. Requêtage de plusieurs tables à l'aide de JOIN\n",
        "\n",
        "Les bases de données relationnelles peuvent être assez complexes en termes de relations entre les tables. Parfois, nous devons récupérer des informations provenant de plus de deux tables.\n",
        "\n",
        "Nous pouvons utiliser la syntaxe suivante pour joindre plusieurs tables:\n",
        ">SELECT columns<br>\n",
        ">FROM table1<br>\n",
        ">INNER JOIN table2 ON table1.column = table2.column<br>\n",
        ">INNER JOIN table3 ON table1.column = table3.column<br>\n",
        ">...<br>\n",
        ">INNER JOIN tablen ON table1.column = tablen.column;\n",
        "\n",
        "Dans le langage SQL proprement dit, il n'y a pas de limite au nombre maximum de tables que vous pouvez joindre.\n",
        "\n",
        "Cependant, la plupart des SGBD ont leurs propres limites. Ce sera donc à vérifier en pratique en fonction du SGBD utilisé.\n",
        "\n",
        "De plus, la requête ralentira considérablement lors de la jonction d'un trop grand nombre de tables (par exemple, 4 tables ou plus). \n",
        "La performance dans un contexte réel en production s'en ressentira."
      ]
    },
    {
      "cell_type": "markdown",
      "metadata": {
        "id": "7TG3IL0EGHn6"
      },
      "source": [
        "### Conclusion\n",
        "\n",
        "Dans ce Notebook, nous avons pratiqué les trois principaux types de jointures dans SQLite: à savoir les jointures INNER, LEFT et CROSS. \n",
        "\n",
        "Les jointures nous permettent de récupérer des données dispersées sur plusieurs tables et de les assembler en quelque chose de plus significatif et descriptif. \n",
        "\n",
        "Nous pouvons prendre deux tables ou plus et les réunir dans une table plus grande qui a plus de contexte. \n",
        "\n",
        "De plus, l'utilisation d'alias nous permet de renommer les noms de colonnes ou de tables à la volée."
      ]
    }
  ]
}