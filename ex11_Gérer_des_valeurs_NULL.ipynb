{
  "nbformat": 4,
  "nbformat_minor": 0,
  "metadata": {
    "anaconda-cloud": {},
    "kernelspec": {
      "display_name": "Python [conda root]",
      "language": "python",
      "name": "conda-root-py"
    },
    "language_info": {
      "codemirror_mode": {
        "name": "ipython",
        "version": 2
      },
      "file_extension": ".py",
      "mimetype": "text/x-python",
      "name": "python",
      "nbconvert_exporter": "python",
      "pygments_lexer": "ipython2",
      "version": "2.7.12"
    },
    "colab": {
      "name": "ex11-Gérer des valeurs NULL.ipynb",
      "provenance": [],
      "collapsed_sections": []
    }
  },
  "cells": [
    {
      "cell_type": "markdown",
      "metadata": {
        "id": "gH01fY6APXbl"
      },
      "source": [
        "## ex11 - Gérer des valeurs NULL\n",
        "\n",
        "Les exemples de données dans les tables de demo.db3 présentés précédemment sont tous exacts et complets. \n",
        "\n",
        "Chaque ligne a une valeur pour chaque attribut. \n",
        "\n",
        "Cependant, les données réelles ne sont généralement pas aussi propres et ordonnées. Vous trouverez souvent des valeurs NULL dans certaines tables.\n",
        "\n",
        "Les valeurs nulles dans une base de données peuvent causer quelques maux de tête. De plus, les descriptions dans les normes SQL sur la façon de gérer les NULL semblent ambiguës. \n",
        "\n",
        "Il n'apparaît pas clairement dans les documents de normes comment les NULL doivent être traités dans toutes les [circonstances] (https://www.sqlite.org/nulls.html).\n",
        "\n",
        "Parfois, nous pouvons en fait éviter les NULL en définissant la contrainte NOT NULL lorsque nous créons une table. \n",
        "\n",
        "Cependant, il convient de garder à l'esprit que rendre les champs NOT NULL ne fonctionne pas toujours et pourrait créer plus de maux de tête qu'il ne guérit. Toutes les valeurs nulles ne signifient pas qu'il y a un problème avec les données.\n",
        "\n",
        "SQLite NULL est le terme utilisé pour représenter une valeur manquante. \n",
        "\n",
        "Une valeur NULL dans une table est une valeur dans un champ qui semble vide. Cependant, une valeur NULL ne doit pas simplement être considérée comme 0 (zéro) ou une chaîne vide comme «». Il s'agit d'une valeur de vide ou non définie.\n",
        "\n",
        "Ce notebook présentera:\n",
        "- Comment faite un **DROP** sur une table **IF EXISTS**\n",
        "- Comment faire un **CREATE** d'une nouvelle table à partir d'une table existante\n",
        "- Comment faire un ***UPDATE*** d'une table avec une condition WHERE\n",
        "- Comment faire un ***COUNT NULL*** avec ***IS NULL***\n",
        "- Comment donner des valeurs par défaut à ***NULL*** avec la fonction SQLite *** COALESCE ***"
      ]
    },
    {
      "cell_type": "code",
      "metadata": {
        "id": "c94iWVdoPXbm"
      },
      "source": [
        "%load_ext sql"
      ],
      "execution_count": null,
      "outputs": []
    },
    {
      "cell_type": "code",
      "metadata": {
        "colab": {
          "base_uri": "https://localhost:8080/"
        },
        "id": "89Juyv_XBgSJ",
        "outputId": "7f6490ae-1a56-4318-ba47-c89fd7b67314"
      },
      "source": [
        "from google.colab import drive\r\n",
        "# drive.mount('/content/gdrive')\r\n",
        "drive.mount(\"/content/gdrive\", force_remount=True)\r\n"
      ],
      "execution_count": null,
      "outputs": [
        {
          "output_type": "stream",
          "text": [
            "Mounted at /content/gdrive\n"
          ],
          "name": "stdout"
        }
      ]
    },
    {
      "cell_type": "markdown",
      "metadata": {
        "id": "_XyvbtebGHn2"
      },
      "source": [
        "### 1. Connection à la database demo.db3\r\n",
        "\r\n",
        "Il a été précisé que demo.db3 est un extrait d'une modélisation hydrologique. Par conséquent, les données de chaque table sont ordonnées et complètes sans valeurs NULL. Cependant, nous pouvons créer une table avec des valeurs NULL pour la démonstration."
      ]
    },
    {
      "cell_type": "code",
      "metadata": {
        "colab": {
          "base_uri": "https://localhost:8080/",
          "height": 35
        },
        "id": "Jxq7_jluOr6q",
        "outputId": "bc85fd16-b136-4ceb-a6c1-f9d9dee43dd4"
      },
      "source": [
        "%sql sqlite:////content/gdrive/MyDrive/Partage/Notebooks_Serie_1/demo.db3"
      ],
      "execution_count": null,
      "outputs": [
        {
          "output_type": "execute_result",
          "data": {
            "application/vnd.google.colaboratory.intrinsic+json": {
              "type": "string"
            },
            "text/plain": [
              "'Connected: @/content/gdrive/MyDrive/Partage/Notebooks_Serie_1/demo.db3'"
            ]
          },
          "metadata": {
            "tags": []
          },
          "execution_count": 4
        }
      ]
    },
    {
      "cell_type": "markdown",
      "metadata": {
        "id": "FSNAKzn-PXbo"
      },
      "source": [
        "Si vous ne vous souvenez pas des tables présentes dans la database de démonstration, vous pouvez toujours utiliser la commande suivante pour les retrouver."
      ]
    },
    {
      "cell_type": "code",
      "metadata": {
        "id": "BX70YfoAPXbo",
        "outputId": "32173ee2-d9ca-4a9b-9b35-aea801ba3cec"
      },
      "source": [
        "%sql SELECT name FROM sqlite_master WHERE type='table'"
      ],
      "execution_count": null,
      "outputs": [
        {
          "output_type": "stream",
          "text": [
            " * sqlite:///data/demo.db3\n",
            "Done.\n"
          ],
          "name": "stdout"
        },
        {
          "output_type": "execute_result",
          "data": {
            "text/html": [
              "<table>\n",
              "    <tr>\n",
              "        <th>name</th>\n",
              "    </tr>\n",
              "    <tr>\n",
              "        <td>rch</td>\n",
              "    </tr>\n",
              "    <tr>\n",
              "        <td>hru</td>\n",
              "    </tr>\n",
              "    <tr>\n",
              "        <td>sub</td>\n",
              "    </tr>\n",
              "    <tr>\n",
              "        <td>sed</td>\n",
              "    </tr>\n",
              "    <tr>\n",
              "        <td>watershed_daily</td>\n",
              "    </tr>\n",
              "    <tr>\n",
              "        <td>watershed_monthly</td>\n",
              "    </tr>\n",
              "    <tr>\n",
              "        <td>watershed_yearly</td>\n",
              "    </tr>\n",
              "    <tr>\n",
              "        <td>channel_dimension</td>\n",
              "    </tr>\n",
              "    <tr>\n",
              "        <td>hru_info</td>\n",
              "    </tr>\n",
              "    <tr>\n",
              "        <td>sub_info</td>\n",
              "    </tr>\n",
              "    <tr>\n",
              "        <td>rch_info</td>\n",
              "    </tr>\n",
              "    <tr>\n",
              "        <td>ave_plant</td>\n",
              "    </tr>\n",
              "    <tr>\n",
              "        <td>ave_annual_hru</td>\n",
              "    </tr>\n",
              "    <tr>\n",
              "        <td>ave_monthly_basin</td>\n",
              "    </tr>\n",
              "    <tr>\n",
              "        <td>ave_annual_basin</td>\n",
              "    </tr>\n",
              "    <tr>\n",
              "        <td>sqlite_sequence</td>\n",
              "    </tr>\n",
              "    <tr>\n",
              "        <td>watershed_yearly_bk</td>\n",
              "    </tr>\n",
              "</table>"
            ],
            "text/plain": [
              "[(u'rch',),\n",
              " (u'hru',),\n",
              " (u'sub',),\n",
              " (u'sed',),\n",
              " (u'watershed_daily',),\n",
              " (u'watershed_monthly',),\n",
              " (u'watershed_yearly',),\n",
              " (u'channel_dimension',),\n",
              " (u'hru_info',),\n",
              " (u'sub_info',),\n",
              " (u'rch_info',),\n",
              " (u'ave_plant',),\n",
              " (u'ave_annual_hru',),\n",
              " (u'ave_monthly_basin',),\n",
              " (u'ave_annual_basin',),\n",
              " (u'sqlite_sequence',),\n",
              " (u'watershed_yearly_bk',)]"
            ]
          },
          "metadata": {
            "tags": []
          },
          "execution_count": 3
        }
      ]
    },
    {
      "cell_type": "markdown",
      "metadata": {
        "id": "cblkB5OLPXbp"
      },
      "source": [
        "### 2. Create a table with NULL values from an existing table\n",
        "\n",
        "Take the table of watershed_yearly as an example.\n",
        "- ***Firstly, make a backup table***\n",
        "\n",
        ">The SQLite CREATE TABLE AS statement is used to create a table from an existing table by copying the existing table's columns."
      ]
    },
    {
      "cell_type": "code",
      "metadata": {
        "id": "lAapNv0wPXbp",
        "outputId": "1f94445d-b0cd-491e-d222-8703fb60b595"
      },
      "source": [
        "%%sql sqlite://\n",
        "DROP TABLE  IF EXISTS watershed_yearly_bk;\n",
        "CREATE TABLE watershed_yearly_bk AS SELECT * FROM watershed_yearly"
      ],
      "execution_count": null,
      "outputs": [
        {
          "output_type": "stream",
          "text": [
            "Done.\n",
            "Done.\n"
          ],
          "name": "stdout"
        },
        {
          "output_type": "execute_result",
          "data": {
            "text/plain": [
              "[]"
            ]
          },
          "metadata": {
            "tags": []
          },
          "execution_count": 4
        }
      ]
    },
    {
      "cell_type": "markdown",
      "metadata": {
        "id": "kbT-DvbTPXbp"
      },
      "source": [
        "Have a quick check of the backup table"
      ]
    },
    {
      "cell_type": "code",
      "metadata": {
        "id": "22qC5d63PXbp",
        "outputId": "3d3bceea-fce8-40d2-ea55-5e23021df02e"
      },
      "source": [
        "%%sql sqlite://\n",
        "SELECT YR, PREC_mm \n",
        "FROM watershed_yearly_bk\n",
        "---LIMIT 3"
      ],
      "execution_count": null,
      "outputs": [
        {
          "output_type": "stream",
          "text": [
            "Done.\n"
          ],
          "name": "stdout"
        },
        {
          "output_type": "execute_result",
          "data": {
            "text/html": [
              "<table>\n",
              "    <tr>\n",
              "        <th>YR</th>\n",
              "        <th>PREC_mm</th>\n",
              "    </tr>\n",
              "    <tr>\n",
              "        <td>1981</td>\n",
              "        <td>895.605102539</td>\n",
              "    </tr>\n",
              "    <tr>\n",
              "        <td>1982</td>\n",
              "        <td>884.670654297</td>\n",
              "    </tr>\n",
              "    <tr>\n",
              "        <td>1983</td>\n",
              "        <td>816.660522461</td>\n",
              "    </tr>\n",
              "    <tr>\n",
              "        <td>1984</td>\n",
              "        <td>867.57434082</td>\n",
              "    </tr>\n",
              "    <tr>\n",
              "        <td>1985</td>\n",
              "        <td>637.725524902</td>\n",
              "    </tr>\n",
              "    <tr>\n",
              "        <td>1986</td>\n",
              "        <td>733.841247559</td>\n",
              "    </tr>\n",
              "    <tr>\n",
              "        <td>1987</td>\n",
              "        <td>1007.89447021</td>\n",
              "    </tr>\n",
              "    <tr>\n",
              "        <td>1988</td>\n",
              "        <td>895.846618652</td>\n",
              "    </tr>\n",
              "    <tr>\n",
              "        <td>1989</td>\n",
              "        <td>930.10546875</td>\n",
              "    </tr>\n",
              "    <tr>\n",
              "        <td>1990</td>\n",
              "        <td>751.455383301</td>\n",
              "    </tr>\n",
              "    <tr>\n",
              "        <td>1991</td>\n",
              "        <td>984.470336914</td>\n",
              "    </tr>\n",
              "    <tr>\n",
              "        <td>1992</td>\n",
              "        <td>907.946350098</td>\n",
              "    </tr>\n",
              "    <tr>\n",
              "        <td>1993</td>\n",
              "        <td>1057.77331543</td>\n",
              "    </tr>\n",
              "    <tr>\n",
              "        <td>1994</td>\n",
              "        <td>802.126220703</td>\n",
              "    </tr>\n",
              "    <tr>\n",
              "        <td>1995</td>\n",
              "        <td>696.852783203</td>\n",
              "    </tr>\n",
              "    <tr>\n",
              "        <td>1996</td>\n",
              "        <td>799.967468262</td>\n",
              "    </tr>\n",
              "    <tr>\n",
              "        <td>1997</td>\n",
              "        <td>689.377502441</td>\n",
              "    </tr>\n",
              "    <tr>\n",
              "        <td>1998</td>\n",
              "        <td>843.460205078</td>\n",
              "    </tr>\n",
              "    <tr>\n",
              "        <td>1999</td>\n",
              "        <td>644.301635742</td>\n",
              "    </tr>\n",
              "    <tr>\n",
              "        <td>2000</td>\n",
              "        <td>497.951629639</td>\n",
              "    </tr>\n",
              "    <tr>\n",
              "        <td>2001</td>\n",
              "        <td>512.250915527</td>\n",
              "    </tr>\n",
              "    <tr>\n",
              "        <td>2002</td>\n",
              "        <td>702.02935791</td>\n",
              "    </tr>\n",
              "    <tr>\n",
              "        <td>2003</td>\n",
              "        <td>729.944213867</td>\n",
              "    </tr>\n",
              "    <tr>\n",
              "        <td>2004</td>\n",
              "        <td>818.378112793</td>\n",
              "    </tr>\n",
              "    <tr>\n",
              "        <td>2005</td>\n",
              "        <td>855.009216309</td>\n",
              "    </tr>\n",
              "    <tr>\n",
              "        <td>2006</td>\n",
              "        <td>612.290344238</td>\n",
              "    </tr>\n",
              "    <tr>\n",
              "        <td>2007</td>\n",
              "        <td>822.174682617</td>\n",
              "    </tr>\n",
              "    <tr>\n",
              "        <td>2008</td>\n",
              "        <td>740.08996582</td>\n",
              "    </tr>\n",
              "    <tr>\n",
              "        <td>2009</td>\n",
              "        <td>1040.90124512</td>\n",
              "    </tr>\n",
              "    <tr>\n",
              "        <td>2010</td>\n",
              "        <td>905.668457031</td>\n",
              "    </tr>\n",
              "</table>"
            ],
            "text/plain": [
              "[(1981, 895.6051025390625),\n",
              " (1982, 884.670654296875),\n",
              " (1983, 816.6605224609375),\n",
              " (1984, 867.5743408203125),\n",
              " (1985, 637.7255249023438),\n",
              " (1986, 733.8412475585938),\n",
              " (1987, 1007.8944702148438),\n",
              " (1988, 895.8466186523438),\n",
              " (1989, 930.10546875),\n",
              " (1990, 751.4553833007812),\n",
              " (1991, 984.4703369140625),\n",
              " (1992, 907.9463500976562),\n",
              " (1993, 1057.7733154296875),\n",
              " (1994, 802.126220703125),\n",
              " (1995, 696.852783203125),\n",
              " (1996, 799.9674682617188),\n",
              " (1997, 689.3775024414062),\n",
              " (1998, 843.460205078125),\n",
              " (1999, 644.3016357421875),\n",
              " (2000, 497.9516296386719),\n",
              " (2001, 512.2509155273438),\n",
              " (2002, 702.0293579101562),\n",
              " (2003, 729.9442138671875),\n",
              " (2004, 818.3781127929688),\n",
              " (2005, 855.0092163085938),\n",
              " (2006, 612.2903442382812),\n",
              " (2007, 822.1746826171875),\n",
              " (2008, 740.0899658203125),\n",
              " (2009, 1040.9012451171875),\n",
              " (2010, 905.66845703125)]"
            ]
          },
          "metadata": {
            "tags": []
          },
          "execution_count": 5
        }
      ]
    },
    {
      "cell_type": "markdown",
      "metadata": {
        "id": "_tjitbFSPXbp"
      },
      "source": [
        "- ***Secondly, make some values as NULLs***\n",
        "\n",
        ">SQLite UPDATE Query is used to modify the existing records in a table. You can use WHERE clause with UPDATE query to update selected rows, otherwise all the rows would be updated."
      ]
    },
    {
      "cell_type": "code",
      "metadata": {
        "id": "WSvRbh83PXbq",
        "outputId": "c0e60fd4-7102-4e08-a00f-07e0e7a59581"
      },
      "source": [
        "%%sql sqlite://\n",
        "UPDATE watershed_yearly_bk\n",
        "SET PREC_mm = NULL\n",
        "WHERE\n",
        "    PREC_mm < 850.0"
      ],
      "execution_count": null,
      "outputs": [
        {
          "output_type": "stream",
          "text": [
            "18 rows affected.\n"
          ],
          "name": "stdout"
        },
        {
          "output_type": "execute_result",
          "data": {
            "text/plain": [
              "[]"
            ]
          },
          "metadata": {
            "tags": []
          },
          "execution_count": 6
        }
      ]
    },
    {
      "cell_type": "markdown",
      "metadata": {
        "id": "80vMUUDiPXbq"
      },
      "source": [
        "### 3. Find NULLs\n",
        "\n",
        "Null values cannot be determined with an =. We need to use the IS NULL or IS NOT NULL statements to identify null values. So, to get all records with no recorded snow_depth, we could run this query."
      ]
    },
    {
      "cell_type": "code",
      "metadata": {
        "id": "aLI1EACVPXbq",
        "outputId": "332a155e-486d-4ca1-f7df-70c3b0cd777c"
      },
      "source": [
        "%%sql sqlite://\n",
        "SELECT  YR, PREC_mm\n",
        "FROM watershed_yearly_bk\n",
        "WHERE PREC_mm IS NULL"
      ],
      "execution_count": null,
      "outputs": [
        {
          "output_type": "stream",
          "text": [
            "Done.\n"
          ],
          "name": "stdout"
        },
        {
          "output_type": "execute_result",
          "data": {
            "text/html": [
              "<table>\n",
              "    <tr>\n",
              "        <th>YR</th>\n",
              "        <th>PREC_mm</th>\n",
              "    </tr>\n",
              "    <tr>\n",
              "        <td>1983</td>\n",
              "        <td>None</td>\n",
              "    </tr>\n",
              "    <tr>\n",
              "        <td>1985</td>\n",
              "        <td>None</td>\n",
              "    </tr>\n",
              "    <tr>\n",
              "        <td>1986</td>\n",
              "        <td>None</td>\n",
              "    </tr>\n",
              "    <tr>\n",
              "        <td>1990</td>\n",
              "        <td>None</td>\n",
              "    </tr>\n",
              "    <tr>\n",
              "        <td>1994</td>\n",
              "        <td>None</td>\n",
              "    </tr>\n",
              "    <tr>\n",
              "        <td>1995</td>\n",
              "        <td>None</td>\n",
              "    </tr>\n",
              "    <tr>\n",
              "        <td>1996</td>\n",
              "        <td>None</td>\n",
              "    </tr>\n",
              "    <tr>\n",
              "        <td>1997</td>\n",
              "        <td>None</td>\n",
              "    </tr>\n",
              "    <tr>\n",
              "        <td>1998</td>\n",
              "        <td>None</td>\n",
              "    </tr>\n",
              "    <tr>\n",
              "        <td>1999</td>\n",
              "        <td>None</td>\n",
              "    </tr>\n",
              "    <tr>\n",
              "        <td>2000</td>\n",
              "        <td>None</td>\n",
              "    </tr>\n",
              "    <tr>\n",
              "        <td>2001</td>\n",
              "        <td>None</td>\n",
              "    </tr>\n",
              "    <tr>\n",
              "        <td>2002</td>\n",
              "        <td>None</td>\n",
              "    </tr>\n",
              "    <tr>\n",
              "        <td>2003</td>\n",
              "        <td>None</td>\n",
              "    </tr>\n",
              "    <tr>\n",
              "        <td>2004</td>\n",
              "        <td>None</td>\n",
              "    </tr>\n",
              "    <tr>\n",
              "        <td>2006</td>\n",
              "        <td>None</td>\n",
              "    </tr>\n",
              "    <tr>\n",
              "        <td>2007</td>\n",
              "        <td>None</td>\n",
              "    </tr>\n",
              "    <tr>\n",
              "        <td>2008</td>\n",
              "        <td>None</td>\n",
              "    </tr>\n",
              "</table>"
            ],
            "text/plain": [
              "[(1983, None),\n",
              " (1985, None),\n",
              " (1986, None),\n",
              " (1990, None),\n",
              " (1994, None),\n",
              " (1995, None),\n",
              " (1996, None),\n",
              " (1997, None),\n",
              " (1998, None),\n",
              " (1999, None),\n",
              " (2000, None),\n",
              " (2001, None),\n",
              " (2002, None),\n",
              " (2003, None),\n",
              " (2004, None),\n",
              " (2006, None),\n",
              " (2007, None),\n",
              " (2008, None)]"
            ]
          },
          "metadata": {
            "tags": []
          },
          "execution_count": 7
        }
      ]
    },
    {
      "cell_type": "markdown",
      "metadata": {
        "id": "ks6D7w__PXbq"
      },
      "source": [
        "The count of years with NULLs"
      ]
    },
    {
      "cell_type": "code",
      "metadata": {
        "id": "4d0401q-PXbq",
        "outputId": "30e932f6-341f-4945-cf76-203ba3e57fc1"
      },
      "source": [
        "%%sql sqlite://\n",
        "SELECT  COUNT(YR) AS MISSING\n",
        "FROM watershed_yearly_bk\n",
        "WHERE PREC_mm IS NULL"
      ],
      "execution_count": null,
      "outputs": [
        {
          "output_type": "stream",
          "text": [
            "Done.\n"
          ],
          "name": "stdout"
        },
        {
          "output_type": "execute_result",
          "data": {
            "text/html": [
              "<table>\n",
              "    <tr>\n",
              "        <th>MISSING</th>\n",
              "    </tr>\n",
              "    <tr>\n",
              "        <td>18</td>\n",
              "    </tr>\n",
              "</table>"
            ],
            "text/plain": [
              "[(18,)]"
            ]
          },
          "metadata": {
            "tags": []
          },
          "execution_count": 8
        }
      ]
    },
    {
      "cell_type": "markdown",
      "metadata": {
        "id": "2gNhDVfBPXbr"
      },
      "source": [
        ":) It is right the number of rows we updated."
      ]
    },
    {
      "cell_type": "markdown",
      "metadata": {
        "id": "BViOuLsvPXbr"
      },
      "source": [
        "### 4. Handle NULLs\n",
        "\n",
        "NULLs can be ambiguous and annoying as ther are identified differently depending on data sources. Tale can have NULL values for a number of reasons such as observations that were not recorded and data corruption.\n",
        "\n",
        "In general, there are two main strategies to handle NULLs during the query session and ***NOT*** to change original data in the table.\n",
        "\n",
        "#### 4.1  Do not use rows with NULL values\n",
        "\n",
        "This strategy is quite simple as we always can filter the data with a ***WHERE IS NOT NULL*** condition. However, in practice, the data would be used at all, if the ratio of NULLs is too high."
      ]
    },
    {
      "cell_type": "code",
      "metadata": {
        "id": "CSxvDvckPXbr",
        "outputId": "af3872a8-464c-4f27-9d1e-5a74729bb041"
      },
      "source": [
        "%%sql sqlite://\n",
        "SELECT  YR, PREC_mm\n",
        "FROM watershed_yearly_bk\n",
        "WHERE PREC_mm IS NOT NULL"
      ],
      "execution_count": null,
      "outputs": [
        {
          "output_type": "stream",
          "text": [
            "Done.\n"
          ],
          "name": "stdout"
        },
        {
          "output_type": "execute_result",
          "data": {
            "text/html": [
              "<table>\n",
              "    <tr>\n",
              "        <th>YR</th>\n",
              "        <th>PREC_mm</th>\n",
              "    </tr>\n",
              "    <tr>\n",
              "        <td>1981</td>\n",
              "        <td>895.605102539</td>\n",
              "    </tr>\n",
              "    <tr>\n",
              "        <td>1982</td>\n",
              "        <td>884.670654297</td>\n",
              "    </tr>\n",
              "    <tr>\n",
              "        <td>1984</td>\n",
              "        <td>867.57434082</td>\n",
              "    </tr>\n",
              "    <tr>\n",
              "        <td>1987</td>\n",
              "        <td>1007.89447021</td>\n",
              "    </tr>\n",
              "    <tr>\n",
              "        <td>1988</td>\n",
              "        <td>895.846618652</td>\n",
              "    </tr>\n",
              "    <tr>\n",
              "        <td>1989</td>\n",
              "        <td>930.10546875</td>\n",
              "    </tr>\n",
              "    <tr>\n",
              "        <td>1991</td>\n",
              "        <td>984.470336914</td>\n",
              "    </tr>\n",
              "    <tr>\n",
              "        <td>1992</td>\n",
              "        <td>907.946350098</td>\n",
              "    </tr>\n",
              "    <tr>\n",
              "        <td>1993</td>\n",
              "        <td>1057.77331543</td>\n",
              "    </tr>\n",
              "    <tr>\n",
              "        <td>2005</td>\n",
              "        <td>855.009216309</td>\n",
              "    </tr>\n",
              "    <tr>\n",
              "        <td>2009</td>\n",
              "        <td>1040.90124512</td>\n",
              "    </tr>\n",
              "    <tr>\n",
              "        <td>2010</td>\n",
              "        <td>905.668457031</td>\n",
              "    </tr>\n",
              "</table>"
            ],
            "text/plain": [
              "[(1981, 895.6051025390625),\n",
              " (1982, 884.670654296875),\n",
              " (1984, 867.5743408203125),\n",
              " (1987, 1007.8944702148438),\n",
              " (1988, 895.8466186523438),\n",
              " (1989, 930.10546875),\n",
              " (1991, 984.4703369140625),\n",
              " (1992, 907.9463500976562),\n",
              " (1993, 1057.7733154296875),\n",
              " (2005, 855.0092163085938),\n",
              " (2009, 1040.9012451171875),\n",
              " (2010, 905.66845703125)]"
            ]
          },
          "metadata": {
            "tags": []
          },
          "execution_count": 9
        }
      ]
    },
    {
      "cell_type": "markdown",
      "metadata": {
        "id": "CxDqCatGPXbr"
      },
      "source": [
        "*Calculate the counts of NULLs, NOT_NULLs and total*. Keep in mind that the ***COUNT*** function will neglet NULL values."
      ]
    },
    {
      "cell_type": "code",
      "metadata": {
        "id": "uxPYeazVPXbr",
        "outputId": "3148e113-77e0-4f54-90e0-dc3b28eb0ba6"
      },
      "source": [
        "%%sql sqlite://\n",
        "SELECT SUM(CASE WHEN PREC_mm IS NULL THEN 1 else 0 END) COUNT_NULLs,\n",
        "       COUNT(PREC_mm) COUNT_NOT_NULLs,\n",
        "       COUNT(YR) AS TOTAL\n",
        "From watershed_yearly_bk"
      ],
      "execution_count": null,
      "outputs": [
        {
          "output_type": "stream",
          "text": [
            "Done.\n"
          ],
          "name": "stdout"
        },
        {
          "output_type": "execute_result",
          "data": {
            "text/html": [
              "<table>\n",
              "    <tr>\n",
              "        <th>COUNT_NULLs</th>\n",
              "        <th>COUNT_NOT_NULLs</th>\n",
              "        <th>TOTAL</th>\n",
              "    </tr>\n",
              "    <tr>\n",
              "        <td>18</td>\n",
              "        <td>12</td>\n",
              "        <td>30</td>\n",
              "    </tr>\n",
              "</table>"
            ],
            "text/plain": [
              "[(18, 12, 30)]"
            ]
          },
          "metadata": {
            "tags": []
          },
          "execution_count": 10
        }
      ]
    },
    {
      "cell_type": "code",
      "metadata": {
        "id": "EXdahPdIYD7o"
      },
      "source": [
        ""
      ],
      "execution_count": null,
      "outputs": []
    },
    {
      "cell_type": "markdown",
      "metadata": {
        "id": "SoX51dRVXobo"
      },
      "source": [
        ""
      ]
    },
    {
      "cell_type": "markdown",
      "metadata": {
        "id": "jm7qhhXvPXbs"
      },
      "source": [
        "#### 4.2 Replace NULL values with sensible values***\n",
        "\n",
        "It is recommended that you should firstly check the database document to make sure that nullable columns (columns that are allowed to have null values) have documented what a null value means from a business perspective before replacing NULL values with sensible values.\n",
        "\n",
        "The SQLite provides a more elegant way of handling NULL values. Tha is to use the COALESCE() function that accepts two or more arguments and returns the first non-null argument into a specified default value if it is null. If all the arguments are NULL, the COALESCE function returns NULL.\n",
        "\n",
        "The following illustrates the syntax of the COALESCE function:<br>\n",
        "*** COALESCE(parameter1, parameter2, …)***;<br>\n",
        "\n",
        "Here we want all NULLs of PREC_mm to be treated as the climatological mean of NOT NULLs."
      ]
    },
    {
      "cell_type": "markdown",
      "metadata": {
        "id": "O2lpxUNWPXbs"
      },
      "source": [
        "***Calculate the mean nof NON-NULLs***"
      ]
    },
    {
      "cell_type": "code",
      "metadata": {
        "id": "bwe0ih94PXbs",
        "outputId": "58790c72-c04d-4747-aac1-7f34b477170e"
      },
      "source": [
        "%%sql sqlite://\n",
        "SELECT avg(PREC_mm)\n",
        "From watershed_yearly_bk"
      ],
      "execution_count": null,
      "outputs": [
        {
          "output_type": "stream",
          "text": [
            "Done.\n"
          ],
          "name": "stdout"
        },
        {
          "output_type": "execute_result",
          "data": {
            "text/html": [
              "<table>\n",
              "    <tr>\n",
              "        <th>avg(PREC_mm)</th>\n",
              "    </tr>\n",
              "    <tr>\n",
              "        <td>936.122131348</td>\n",
              "    </tr>\n",
              "</table>"
            ],
            "text/plain": [
              "[(936.1221313476562,)]"
            ]
          },
          "metadata": {
            "tags": []
          },
          "execution_count": 11
        }
      ]
    },
    {
      "cell_type": "markdown",
      "metadata": {
        "id": "76Orvl6JPXbs"
      },
      "source": [
        "***Replace NULLs with the above mean of NON-NULLs***"
      ]
    },
    {
      "cell_type": "code",
      "metadata": {
        "id": "Yo8XaBUrPXbs",
        "outputId": "0619860f-2e3d-4cef-c121-ffb9d8eadbb4"
      },
      "source": [
        "%%sql sqlite://\n",
        "SELECT YR, COALESCE(PREC_mm, 936.122131348) as Precipitation\n",
        "From watershed_yearly_bk"
      ],
      "execution_count": null,
      "outputs": [
        {
          "output_type": "stream",
          "text": [
            "Done.\n"
          ],
          "name": "stdout"
        },
        {
          "output_type": "execute_result",
          "data": {
            "text/html": [
              "<table>\n",
              "    <tr>\n",
              "        <th>YR</th>\n",
              "        <th>Precipitation</th>\n",
              "    </tr>\n",
              "    <tr>\n",
              "        <td>1981</td>\n",
              "        <td>895.605102539</td>\n",
              "    </tr>\n",
              "    <tr>\n",
              "        <td>1982</td>\n",
              "        <td>884.670654297</td>\n",
              "    </tr>\n",
              "    <tr>\n",
              "        <td>1983</td>\n",
              "        <td>936.122131348</td>\n",
              "    </tr>\n",
              "    <tr>\n",
              "        <td>1984</td>\n",
              "        <td>867.57434082</td>\n",
              "    </tr>\n",
              "    <tr>\n",
              "        <td>1985</td>\n",
              "        <td>936.122131348</td>\n",
              "    </tr>\n",
              "    <tr>\n",
              "        <td>1986</td>\n",
              "        <td>936.122131348</td>\n",
              "    </tr>\n",
              "    <tr>\n",
              "        <td>1987</td>\n",
              "        <td>1007.89447021</td>\n",
              "    </tr>\n",
              "    <tr>\n",
              "        <td>1988</td>\n",
              "        <td>895.846618652</td>\n",
              "    </tr>\n",
              "    <tr>\n",
              "        <td>1989</td>\n",
              "        <td>930.10546875</td>\n",
              "    </tr>\n",
              "    <tr>\n",
              "        <td>1990</td>\n",
              "        <td>936.122131348</td>\n",
              "    </tr>\n",
              "    <tr>\n",
              "        <td>1991</td>\n",
              "        <td>984.470336914</td>\n",
              "    </tr>\n",
              "    <tr>\n",
              "        <td>1992</td>\n",
              "        <td>907.946350098</td>\n",
              "    </tr>\n",
              "    <tr>\n",
              "        <td>1993</td>\n",
              "        <td>1057.77331543</td>\n",
              "    </tr>\n",
              "    <tr>\n",
              "        <td>1994</td>\n",
              "        <td>936.122131348</td>\n",
              "    </tr>\n",
              "    <tr>\n",
              "        <td>1995</td>\n",
              "        <td>936.122131348</td>\n",
              "    </tr>\n",
              "    <tr>\n",
              "        <td>1996</td>\n",
              "        <td>936.122131348</td>\n",
              "    </tr>\n",
              "    <tr>\n",
              "        <td>1997</td>\n",
              "        <td>936.122131348</td>\n",
              "    </tr>\n",
              "    <tr>\n",
              "        <td>1998</td>\n",
              "        <td>936.122131348</td>\n",
              "    </tr>\n",
              "    <tr>\n",
              "        <td>1999</td>\n",
              "        <td>936.122131348</td>\n",
              "    </tr>\n",
              "    <tr>\n",
              "        <td>2000</td>\n",
              "        <td>936.122131348</td>\n",
              "    </tr>\n",
              "    <tr>\n",
              "        <td>2001</td>\n",
              "        <td>936.122131348</td>\n",
              "    </tr>\n",
              "    <tr>\n",
              "        <td>2002</td>\n",
              "        <td>936.122131348</td>\n",
              "    </tr>\n",
              "    <tr>\n",
              "        <td>2003</td>\n",
              "        <td>936.122131348</td>\n",
              "    </tr>\n",
              "    <tr>\n",
              "        <td>2004</td>\n",
              "        <td>936.122131348</td>\n",
              "    </tr>\n",
              "    <tr>\n",
              "        <td>2005</td>\n",
              "        <td>855.009216309</td>\n",
              "    </tr>\n",
              "    <tr>\n",
              "        <td>2006</td>\n",
              "        <td>936.122131348</td>\n",
              "    </tr>\n",
              "    <tr>\n",
              "        <td>2007</td>\n",
              "        <td>936.122131348</td>\n",
              "    </tr>\n",
              "    <tr>\n",
              "        <td>2008</td>\n",
              "        <td>936.122131348</td>\n",
              "    </tr>\n",
              "    <tr>\n",
              "        <td>2009</td>\n",
              "        <td>1040.90124512</td>\n",
              "    </tr>\n",
              "    <tr>\n",
              "        <td>2010</td>\n",
              "        <td>905.668457031</td>\n",
              "    </tr>\n",
              "</table>"
            ],
            "text/plain": [
              "[(1981, 895.6051025390625),\n",
              " (1982, 884.670654296875),\n",
              " (1983, 936.122131348),\n",
              " (1984, 867.5743408203125),\n",
              " (1985, 936.122131348),\n",
              " (1986, 936.122131348),\n",
              " (1987, 1007.8944702148438),\n",
              " (1988, 895.8466186523438),\n",
              " (1989, 930.10546875),\n",
              " (1990, 936.122131348),\n",
              " (1991, 984.4703369140625),\n",
              " (1992, 907.9463500976562),\n",
              " (1993, 1057.7733154296875),\n",
              " (1994, 936.122131348),\n",
              " (1995, 936.122131348),\n",
              " (1996, 936.122131348),\n",
              " (1997, 936.122131348),\n",
              " (1998, 936.122131348),\n",
              " (1999, 936.122131348),\n",
              " (2000, 936.122131348),\n",
              " (2001, 936.122131348),\n",
              " (2002, 936.122131348),\n",
              " (2003, 936.122131348),\n",
              " (2004, 936.122131348),\n",
              " (2005, 855.0092163085938),\n",
              " (2006, 936.122131348),\n",
              " (2007, 936.122131348),\n",
              " (2008, 936.122131348),\n",
              " (2009, 1040.9012451171875),\n",
              " (2010, 905.66845703125)]"
            ]
          },
          "metadata": {
            "tags": []
          },
          "execution_count": 12
        }
      ]
    },
    {
      "cell_type": "markdown",
      "metadata": {
        "id": "0NhYf3WhPXbt"
      },
      "source": [
        "### Summary\n",
        "\n",
        "Dealing with NULL values is a complicated task. It would be better to get assistances from domain experts or you know very clearly what the NULL vlaues were presented for."
      ]
    },
    {
      "cell_type": "code",
      "metadata": {
        "id": "Q_6fqktBPXbt"
      },
      "source": [
        ""
      ],
      "execution_count": null,
      "outputs": []
    }
  ]
}