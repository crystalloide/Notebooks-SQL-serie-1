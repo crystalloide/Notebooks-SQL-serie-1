{
  "nbformat": 4,
  "nbformat_minor": 0,
  "metadata": {
    "anaconda-cloud": {},
    "kernelspec": {
      "name": "python3",
      "display_name": "Python 3"
    },
    "colab": {
      "name": "ex11_Gérer_des_valeurs_NULL.ipynb",
      "provenance": [],
      "collapsed_sections": [],
      "include_colab_link": true
    }
  },
  "cells": [
    {
      "cell_type": "markdown",
      "metadata": {
        "id": "view-in-github",
        "colab_type": "text"
      },
      "source": [
        "<a href=\"https://colab.research.google.com/github/crystalloide/Notebooks-SQL-serie-1/blob/main/ex11_G%C3%A9rer_des_valeurs_NULL.ipynb\" target=\"_parent\"><img src=\"https://colab.research.google.com/assets/colab-badge.svg\" alt=\"Open In Colab\"/></a>"
      ]
    },
    {
      "cell_type": "markdown",
      "metadata": {
        "id": "gH01fY6APXbl"
      },
      "source": [
        "## ex11 - Gérer des valeurs NULL\n",
        "\n",
        "Les exemples de données dans les tables de demo.db3 présentés précédemment sont tous exacts et complets. \n",
        "\n",
        "Chaque ligne a une valeur pour chaque attribut. \n",
        "\n",
        "Cependant, les données réelles ne sont généralement pas aussi propres et ordonnées. Vous trouverez souvent des valeurs NULL dans certaines tables.\n",
        "\n",
        "Les valeurs nulles dans une base de données peuvent causer quelques maux de tête. De plus, les descriptions dans les normes SQL sur la façon de gérer les NULL semblent ambiguës. \n",
        "\n",
        "Il n'apparaît pas clairement dans les documents de normes comment les NULL doivent être traités dans toutes les [circonstances] (https://www.sqlite.org/nulls.html).\n",
        "\n",
        "Parfois, nous pouvons en fait éviter les NULL en définissant la contrainte NOT NULL lorsque nous créons une table. \n",
        "\n",
        "Cependant, il convient de garder à l'esprit que rendre les champs NOT NULL ne fonctionne pas toujours et pourrait créer plus de maux de tête qu'il ne guérit. Toutes les valeurs nulles ne signifient pas qu'il y a un problème avec les données.\n",
        "\n",
        "SQLite NULL est le terme utilisé pour représenter une valeur manquante. \n",
        "\n",
        "Une valeur NULL dans une table est une valeur dans un champ qui semble vide. Cependant, une valeur NULL ne doit pas simplement être considérée comme 0 (zéro) ou une chaîne vide comme «». Il s'agit d'une valeur de vide ou non définie.\n",
        "\n",
        "Ce notebook présentera:\n",
        "- Comment faite un **DROP** sur une table **IF EXISTS**\n",
        "- Comment faire un **CREATE** d'une nouvelle table à partir d'une table existante\n",
        "- Comment faire un ***UPDATE*** d'une table avec une condition WHERE\n",
        "- Comment faire un ***COUNT NULL*** avec ***IS NULL***\n",
        "- Comment donner des valeurs par défaut à ***NULL*** avec la fonction SQLite *** COALESCE ***"
      ]
    },
    {
      "cell_type": "code",
      "metadata": {
        "id": "c94iWVdoPXbm"
      },
      "source": [
        "%load_ext sql"
      ],
      "execution_count": 1,
      "outputs": []
    },
    {
      "cell_type": "code",
      "metadata": {
        "colab": {
          "base_uri": "https://localhost:8080/"
        },
        "id": "89Juyv_XBgSJ",
        "outputId": "61ffdc2f-e92c-43d9-93a7-17ebbd22afa3"
      },
      "source": [
        "from google.colab import drive\r\n",
        "# drive.mount('/content/gdrive')\r\n",
        "drive.mount(\"/content/gdrive\", force_remount=True)\r\n"
      ],
      "execution_count": 2,
      "outputs": [
        {
          "output_type": "stream",
          "text": [
            "Mounted at /content/gdrive\n"
          ],
          "name": "stdout"
        }
      ]
    },
    {
      "cell_type": "markdown",
      "metadata": {
        "id": "_XyvbtebGHn2"
      },
      "source": [
        "### 1. Connection à la database demo.db3\r\n",
        "\r\n",
        "Il a été précisé que demo.db3 est un extrait d'une modélisation hydrologique. Par conséquent, les données de chaque table sont ordonnées et complètes sans valeurs NULL. Cependant, nous pouvons créer une table avec des valeurs NULL pour la démonstration."
      ]
    },
    {
      "cell_type": "code",
      "metadata": {
        "colab": {
          "base_uri": "https://localhost:8080/",
          "height": 35
        },
        "id": "Jxq7_jluOr6q",
        "outputId": "d5df26a8-4079-4901-bbf8-22050e2ff3f4"
      },
      "source": [
        "%sql sqlite:////content/gdrive/MyDrive/Partage/Notebooks_Serie_1/demo.db3"
      ],
      "execution_count": 3,
      "outputs": [
        {
          "output_type": "execute_result",
          "data": {
            "application/vnd.google.colaboratory.intrinsic+json": {
              "type": "string"
            },
            "text/plain": [
              "'Connected: @/content/gdrive/MyDrive/Partage/Notebooks_Serie_1/demo.db3'"
            ]
          },
          "metadata": {
            "tags": []
          },
          "execution_count": 3
        }
      ]
    },
    {
      "cell_type": "markdown",
      "metadata": {
        "id": "FSNAKzn-PXbo"
      },
      "source": [
        "Si vous ne vous souvenez pas des tables présentes dans la database de démonstration, vous pouvez toujours utiliser la commande suivante pour les retrouver."
      ]
    },
    {
      "cell_type": "code",
      "metadata": {
        "id": "BX70YfoAPXbo",
        "colab": {
          "base_uri": "https://localhost:8080/",
          "height": 453
        },
        "outputId": "f988c764-81e1-45a4-a009-2a3d22b33170"
      },
      "source": [
        "%sql SELECT name FROM sqlite_master WHERE type='table'"
      ],
      "execution_count": 4,
      "outputs": [
        {
          "output_type": "stream",
          "text": [
            " * sqlite:////content/gdrive/MyDrive/Partage/Notebooks_Serie_1/demo.db3\n",
            "Done.\n"
          ],
          "name": "stdout"
        },
        {
          "output_type": "execute_result",
          "data": {
            "text/html": [
              "<table>\n",
              "    <thead>\n",
              "        <tr>\n",
              "            <th>name</th>\n",
              "        </tr>\n",
              "    </thead>\n",
              "    <tbody>\n",
              "        <tr>\n",
              "            <td>rch</td>\n",
              "        </tr>\n",
              "        <tr>\n",
              "            <td>hru</td>\n",
              "        </tr>\n",
              "        <tr>\n",
              "            <td>sub</td>\n",
              "        </tr>\n",
              "        <tr>\n",
              "            <td>sed</td>\n",
              "        </tr>\n",
              "        <tr>\n",
              "            <td>watershed_daily</td>\n",
              "        </tr>\n",
              "        <tr>\n",
              "            <td>watershed_monthly</td>\n",
              "        </tr>\n",
              "        <tr>\n",
              "            <td>watershed_yearly</td>\n",
              "        </tr>\n",
              "        <tr>\n",
              "            <td>channel_dimension</td>\n",
              "        </tr>\n",
              "        <tr>\n",
              "            <td>hru_info</td>\n",
              "        </tr>\n",
              "        <tr>\n",
              "            <td>sub_info</td>\n",
              "        </tr>\n",
              "        <tr>\n",
              "            <td>rch_info</td>\n",
              "        </tr>\n",
              "        <tr>\n",
              "            <td>ave_plant</td>\n",
              "        </tr>\n",
              "        <tr>\n",
              "            <td>ave_annual_hru</td>\n",
              "        </tr>\n",
              "        <tr>\n",
              "            <td>ave_monthly_basin</td>\n",
              "        </tr>\n",
              "        <tr>\n",
              "            <td>ave_annual_basin</td>\n",
              "        </tr>\n",
              "        <tr>\n",
              "            <td>sqlite_sequence</td>\n",
              "        </tr>\n",
              "        <tr>\n",
              "            <td>watershed_yearly_bk</td>\n",
              "        </tr>\n",
              "        <tr>\n",
              "            <td>Temperature</td>\n",
              "        </tr>\n",
              "    </tbody>\n",
              "</table>"
            ],
            "text/plain": [
              "[('rch',),\n",
              " ('hru',),\n",
              " ('sub',),\n",
              " ('sed',),\n",
              " ('watershed_daily',),\n",
              " ('watershed_monthly',),\n",
              " ('watershed_yearly',),\n",
              " ('channel_dimension',),\n",
              " ('hru_info',),\n",
              " ('sub_info',),\n",
              " ('rch_info',),\n",
              " ('ave_plant',),\n",
              " ('ave_annual_hru',),\n",
              " ('ave_monthly_basin',),\n",
              " ('ave_annual_basin',),\n",
              " ('sqlite_sequence',),\n",
              " ('watershed_yearly_bk',),\n",
              " ('Temperature',)]"
            ]
          },
          "metadata": {
            "tags": []
          },
          "execution_count": 4
        }
      ]
    },
    {
      "cell_type": "markdown",
      "metadata": {
        "id": "cblkB5OLPXbp"
      },
      "source": [
        "### 2. Création d'une table avec des valeurs NULL à partir d'une table existante\n",
        "\n",
        "Prenons l'exemple du tableau des watershed_yearly (ie bassins versants_année).\n",
        "- ***Tout d'abord, créons une table de sauvegarde***\n",
        "\n",
        "> L'instruction SQLite CREATE TABLE AS est utilisée pour créer une table à partir d'une table existante en copiant les colonnes de la table existante."
      ]
    },
    {
      "cell_type": "code",
      "metadata": {
        "id": "lAapNv0wPXbp",
        "colab": {
          "base_uri": "https://localhost:8080/"
        },
        "outputId": "6e46c953-1bcd-41d4-cfa4-7b5f059729c0"
      },
      "source": [
        "%%sql sqlite://\n",
        "DROP TABLE  IF EXISTS watershed_yearly_bk;\n",
        "CREATE TABLE watershed_yearly_bk AS SELECT * FROM watershed_yearly"
      ],
      "execution_count": 5,
      "outputs": [
        {
          "output_type": "stream",
          "text": [
            "Done.\n",
            "Done.\n"
          ],
          "name": "stdout"
        },
        {
          "output_type": "execute_result",
          "data": {
            "text/plain": [
              "[]"
            ]
          },
          "metadata": {
            "tags": []
          },
          "execution_count": 5
        }
      ]
    },
    {
      "cell_type": "markdown",
      "metadata": {
        "id": "kbT-DvbTPXbp"
      },
      "source": [
        "Vérifions rapidement la table de backup"
      ]
    },
    {
      "cell_type": "code",
      "metadata": {
        "id": "22qC5d63PXbp",
        "colab": {
          "base_uri": "https://localhost:8080/",
          "height": 685
        },
        "outputId": "abb19ed0-9ec7-4a45-c60d-8475e01f0ad6"
      },
      "source": [
        "%%sql sqlite://\n",
        "SELECT YR, PREC_mm \n",
        "FROM watershed_yearly_bk\n",
        "---LIMIT 3"
      ],
      "execution_count": 6,
      "outputs": [
        {
          "output_type": "stream",
          "text": [
            "Done.\n"
          ],
          "name": "stdout"
        },
        {
          "output_type": "execute_result",
          "data": {
            "text/html": [
              "<table>\n",
              "    <thead>\n",
              "        <tr>\n",
              "            <th>YR</th>\n",
              "            <th>PREC_mm</th>\n",
              "        </tr>\n",
              "    </thead>\n",
              "    <tbody>\n",
              "        <tr>\n",
              "            <td>1981</td>\n",
              "            <td>895.6051025390625</td>\n",
              "        </tr>\n",
              "        <tr>\n",
              "            <td>1982</td>\n",
              "            <td>884.670654296875</td>\n",
              "        </tr>\n",
              "        <tr>\n",
              "            <td>1983</td>\n",
              "            <td>816.6605224609375</td>\n",
              "        </tr>\n",
              "        <tr>\n",
              "            <td>1984</td>\n",
              "            <td>867.5743408203125</td>\n",
              "        </tr>\n",
              "        <tr>\n",
              "            <td>1985</td>\n",
              "            <td>637.7255249023438</td>\n",
              "        </tr>\n",
              "        <tr>\n",
              "            <td>1986</td>\n",
              "            <td>733.8412475585938</td>\n",
              "        </tr>\n",
              "        <tr>\n",
              "            <td>1987</td>\n",
              "            <td>1007.8944702148438</td>\n",
              "        </tr>\n",
              "        <tr>\n",
              "            <td>1988</td>\n",
              "            <td>895.8466186523438</td>\n",
              "        </tr>\n",
              "        <tr>\n",
              "            <td>1989</td>\n",
              "            <td>930.10546875</td>\n",
              "        </tr>\n",
              "        <tr>\n",
              "            <td>1990</td>\n",
              "            <td>751.4553833007812</td>\n",
              "        </tr>\n",
              "        <tr>\n",
              "            <td>1991</td>\n",
              "            <td>984.4703369140625</td>\n",
              "        </tr>\n",
              "        <tr>\n",
              "            <td>1992</td>\n",
              "            <td>907.9463500976562</td>\n",
              "        </tr>\n",
              "        <tr>\n",
              "            <td>1993</td>\n",
              "            <td>1057.7733154296875</td>\n",
              "        </tr>\n",
              "        <tr>\n",
              "            <td>1994</td>\n",
              "            <td>802.126220703125</td>\n",
              "        </tr>\n",
              "        <tr>\n",
              "            <td>1995</td>\n",
              "            <td>696.852783203125</td>\n",
              "        </tr>\n",
              "        <tr>\n",
              "            <td>1996</td>\n",
              "            <td>799.9674682617188</td>\n",
              "        </tr>\n",
              "        <tr>\n",
              "            <td>1997</td>\n",
              "            <td>689.3775024414062</td>\n",
              "        </tr>\n",
              "        <tr>\n",
              "            <td>1998</td>\n",
              "            <td>843.460205078125</td>\n",
              "        </tr>\n",
              "        <tr>\n",
              "            <td>1999</td>\n",
              "            <td>644.3016357421875</td>\n",
              "        </tr>\n",
              "        <tr>\n",
              "            <td>2000</td>\n",
              "            <td>497.9516296386719</td>\n",
              "        </tr>\n",
              "        <tr>\n",
              "            <td>2001</td>\n",
              "            <td>512.2509155273438</td>\n",
              "        </tr>\n",
              "        <tr>\n",
              "            <td>2002</td>\n",
              "            <td>702.0293579101562</td>\n",
              "        </tr>\n",
              "        <tr>\n",
              "            <td>2003</td>\n",
              "            <td>729.9442138671875</td>\n",
              "        </tr>\n",
              "        <tr>\n",
              "            <td>2004</td>\n",
              "            <td>818.3781127929688</td>\n",
              "        </tr>\n",
              "        <tr>\n",
              "            <td>2005</td>\n",
              "            <td>855.0092163085938</td>\n",
              "        </tr>\n",
              "        <tr>\n",
              "            <td>2006</td>\n",
              "            <td>612.2903442382812</td>\n",
              "        </tr>\n",
              "        <tr>\n",
              "            <td>2007</td>\n",
              "            <td>822.1746826171875</td>\n",
              "        </tr>\n",
              "        <tr>\n",
              "            <td>2008</td>\n",
              "            <td>740.0899658203125</td>\n",
              "        </tr>\n",
              "        <tr>\n",
              "            <td>2009</td>\n",
              "            <td>1040.9012451171875</td>\n",
              "        </tr>\n",
              "        <tr>\n",
              "            <td>2010</td>\n",
              "            <td>905.66845703125</td>\n",
              "        </tr>\n",
              "    </tbody>\n",
              "</table>"
            ],
            "text/plain": [
              "[(1981, 895.6051025390625),\n",
              " (1982, 884.670654296875),\n",
              " (1983, 816.6605224609375),\n",
              " (1984, 867.5743408203125),\n",
              " (1985, 637.7255249023438),\n",
              " (1986, 733.8412475585938),\n",
              " (1987, 1007.8944702148438),\n",
              " (1988, 895.8466186523438),\n",
              " (1989, 930.10546875),\n",
              " (1990, 751.4553833007812),\n",
              " (1991, 984.4703369140625),\n",
              " (1992, 907.9463500976562),\n",
              " (1993, 1057.7733154296875),\n",
              " (1994, 802.126220703125),\n",
              " (1995, 696.852783203125),\n",
              " (1996, 799.9674682617188),\n",
              " (1997, 689.3775024414062),\n",
              " (1998, 843.460205078125),\n",
              " (1999, 644.3016357421875),\n",
              " (2000, 497.9516296386719),\n",
              " (2001, 512.2509155273438),\n",
              " (2002, 702.0293579101562),\n",
              " (2003, 729.9442138671875),\n",
              " (2004, 818.3781127929688),\n",
              " (2005, 855.0092163085938),\n",
              " (2006, 612.2903442382812),\n",
              " (2007, 822.1746826171875),\n",
              " (2008, 740.0899658203125),\n",
              " (2009, 1040.9012451171875),\n",
              " (2010, 905.66845703125)]"
            ]
          },
          "metadata": {
            "tags": []
          },
          "execution_count": 6
        }
      ]
    },
    {
      "cell_type": "markdown",
      "metadata": {
        "id": "_tjitbFSPXbp"
      },
      "source": [
        "- ***Ensuite, définissons certaines des valeurs à NULL***\n",
        "\n",
        "> La requête SQLite UPDATE est utilisée pour modifier les enregistrements existants dans une table. \n",
        "\n",
        "> Nous utilisons ici la clause WHERE avec la requête UPDATE pour mettre à jour seulement les lignes sélectionnées, car bien sûr, sans clause where, toutes les lignes seraient mises à jour."
      ]
    },
    {
      "cell_type": "code",
      "metadata": {
        "id": "WSvRbh83PXbq",
        "colab": {
          "base_uri": "https://localhost:8080/"
        },
        "outputId": "5f4ec439-31c3-43a6-da58-ed93729aad67"
      },
      "source": [
        "%%sql sqlite://\n",
        "UPDATE watershed_yearly_bk\n",
        "SET PREC_mm = NULL\n",
        "WHERE\n",
        "    PREC_mm < 850.0"
      ],
      "execution_count": 7,
      "outputs": [
        {
          "output_type": "stream",
          "text": [
            "18 rows affected.\n"
          ],
          "name": "stdout"
        },
        {
          "output_type": "execute_result",
          "data": {
            "text/plain": [
              "[]"
            ]
          },
          "metadata": {
            "tags": []
          },
          "execution_count": 7
        }
      ]
    },
    {
      "cell_type": "markdown",
      "metadata": {
        "id": "80vMUUDiPXbq"
      },
      "source": [
        "### 3. Recherche des NULL\n",
        "\n",
        "Les valeurs nulles ne peuvent pas être déterminées avec un =. \n",
        "\n",
        "Nous devons utiliser les instructions IS NULL ou IS NOT NULL pour identifier les valeurs nulles. \n",
        "\n",
        "Donc, pour obtenir tous les enregistrements sans valeurs de précipitations enregistrées, nous pourrions exécuter la requête :"
      ]
    },
    {
      "cell_type": "code",
      "metadata": {
        "id": "aLI1EACVPXbq",
        "colab": {
          "base_uri": "https://localhost:8080/",
          "height": 435
        },
        "outputId": "6b688c6b-8120-4389-9b49-f26e8f644a24"
      },
      "source": [
        "%%sql sqlite://\n",
        "SELECT  YR, PREC_mm\n",
        "FROM watershed_yearly_bk\n",
        "WHERE PREC_mm IS NULL"
      ],
      "execution_count": 8,
      "outputs": [
        {
          "output_type": "stream",
          "text": [
            "Done.\n"
          ],
          "name": "stdout"
        },
        {
          "output_type": "execute_result",
          "data": {
            "text/html": [
              "<table>\n",
              "    <thead>\n",
              "        <tr>\n",
              "            <th>YR</th>\n",
              "            <th>PREC_mm</th>\n",
              "        </tr>\n",
              "    </thead>\n",
              "    <tbody>\n",
              "        <tr>\n",
              "            <td>1983</td>\n",
              "            <td>None</td>\n",
              "        </tr>\n",
              "        <tr>\n",
              "            <td>1985</td>\n",
              "            <td>None</td>\n",
              "        </tr>\n",
              "        <tr>\n",
              "            <td>1986</td>\n",
              "            <td>None</td>\n",
              "        </tr>\n",
              "        <tr>\n",
              "            <td>1990</td>\n",
              "            <td>None</td>\n",
              "        </tr>\n",
              "        <tr>\n",
              "            <td>1994</td>\n",
              "            <td>None</td>\n",
              "        </tr>\n",
              "        <tr>\n",
              "            <td>1995</td>\n",
              "            <td>None</td>\n",
              "        </tr>\n",
              "        <tr>\n",
              "            <td>1996</td>\n",
              "            <td>None</td>\n",
              "        </tr>\n",
              "        <tr>\n",
              "            <td>1997</td>\n",
              "            <td>None</td>\n",
              "        </tr>\n",
              "        <tr>\n",
              "            <td>1998</td>\n",
              "            <td>None</td>\n",
              "        </tr>\n",
              "        <tr>\n",
              "            <td>1999</td>\n",
              "            <td>None</td>\n",
              "        </tr>\n",
              "        <tr>\n",
              "            <td>2000</td>\n",
              "            <td>None</td>\n",
              "        </tr>\n",
              "        <tr>\n",
              "            <td>2001</td>\n",
              "            <td>None</td>\n",
              "        </tr>\n",
              "        <tr>\n",
              "            <td>2002</td>\n",
              "            <td>None</td>\n",
              "        </tr>\n",
              "        <tr>\n",
              "            <td>2003</td>\n",
              "            <td>None</td>\n",
              "        </tr>\n",
              "        <tr>\n",
              "            <td>2004</td>\n",
              "            <td>None</td>\n",
              "        </tr>\n",
              "        <tr>\n",
              "            <td>2006</td>\n",
              "            <td>None</td>\n",
              "        </tr>\n",
              "        <tr>\n",
              "            <td>2007</td>\n",
              "            <td>None</td>\n",
              "        </tr>\n",
              "        <tr>\n",
              "            <td>2008</td>\n",
              "            <td>None</td>\n",
              "        </tr>\n",
              "    </tbody>\n",
              "</table>"
            ],
            "text/plain": [
              "[(1983, None),\n",
              " (1985, None),\n",
              " (1986, None),\n",
              " (1990, None),\n",
              " (1994, None),\n",
              " (1995, None),\n",
              " (1996, None),\n",
              " (1997, None),\n",
              " (1998, None),\n",
              " (1999, None),\n",
              " (2000, None),\n",
              " (2001, None),\n",
              " (2002, None),\n",
              " (2003, None),\n",
              " (2004, None),\n",
              " (2006, None),\n",
              " (2007, None),\n",
              " (2008, None)]"
            ]
          },
          "metadata": {
            "tags": []
          },
          "execution_count": 8
        }
      ]
    },
    {
      "cell_type": "markdown",
      "metadata": {
        "id": "ks6D7w__PXbq"
      },
      "source": [
        "Comptage des années \"NULLs\""
      ]
    },
    {
      "cell_type": "code",
      "metadata": {
        "id": "4d0401q-PXbq",
        "colab": {
          "base_uri": "https://localhost:8080/",
          "height": 79
        },
        "outputId": "ddabc8ea-6d07-4b03-8777-c65a1c77c24c"
      },
      "source": [
        "%%sql sqlite://\n",
        "SELECT  COUNT(YR) AS MISSING\n",
        "FROM watershed_yearly_bk\n",
        "WHERE PREC_mm IS NULL"
      ],
      "execution_count": 9,
      "outputs": [
        {
          "output_type": "stream",
          "text": [
            "Done.\n"
          ],
          "name": "stdout"
        },
        {
          "output_type": "execute_result",
          "data": {
            "text/html": [
              "<table>\n",
              "    <thead>\n",
              "        <tr>\n",
              "            <th>MISSING</th>\n",
              "        </tr>\n",
              "    </thead>\n",
              "    <tbody>\n",
              "        <tr>\n",
              "            <td>18</td>\n",
              "        </tr>\n",
              "    </tbody>\n",
              "</table>"
            ],
            "text/plain": [
              "[(18,)]"
            ]
          },
          "metadata": {
            "tags": []
          },
          "execution_count": 9
        }
      ]
    },
    {
      "cell_type": "markdown",
      "metadata": {
        "id": "2gNhDVfBPXbr"
      },
      "source": [
        "C'est évidemment le nombre d'enregistrements que nous avions modifiés"
      ]
    },
    {
      "cell_type": "markdown",
      "metadata": {
        "id": "BViOuLsvPXbr"
      },
      "source": [
        "### 4. Comment gérer les NULL\n",
        "\n",
        "Les valeurs NULL peuvent être ambiguës et gênantes car elles sont identifiées différemment selon les sources de données. \n",
        "\n",
        "Il peut y avoir des valeurs NULL pour un certain nombre de raisons telles que les observations qui n'ont pas été enregistrées ou du fait de la corruption des données.\n",
        "\n",
        "\n",
        "En général, il existe deux stratégies principales pour gérer les valeurs NULL :\n",
        "\n",
        "\n",
        "\n",
        "#### 4.1 Ne pas utiliser de lignes avec des valeurs NULL\n",
        "\n",
        "Cette stratégie est assez simple car nous pouvons toujours filtrer les données avec une condition ***WHERE IS NOT NULL***. \n",
        "\n",
        "Cependant, dans la pratique, les données ne seraient pas représentatives ou même utilisées du tout, si le nombre de NULL est trop important.\n"
      ]
    },
    {
      "cell_type": "code",
      "metadata": {
        "id": "CSxvDvckPXbr",
        "colab": {
          "base_uri": "https://localhost:8080/",
          "height": 309
        },
        "outputId": "534481a6-eb9e-41dd-c4c2-23e3544e7953"
      },
      "source": [
        "%%sql sqlite://\n",
        "SELECT  YR, PREC_mm\n",
        "FROM watershed_yearly_bk\n",
        "WHERE PREC_mm IS NOT NULL"
      ],
      "execution_count": 10,
      "outputs": [
        {
          "output_type": "stream",
          "text": [
            "Done.\n"
          ],
          "name": "stdout"
        },
        {
          "output_type": "execute_result",
          "data": {
            "text/html": [
              "<table>\n",
              "    <thead>\n",
              "        <tr>\n",
              "            <th>YR</th>\n",
              "            <th>PREC_mm</th>\n",
              "        </tr>\n",
              "    </thead>\n",
              "    <tbody>\n",
              "        <tr>\n",
              "            <td>1981</td>\n",
              "            <td>895.6051025390625</td>\n",
              "        </tr>\n",
              "        <tr>\n",
              "            <td>1982</td>\n",
              "            <td>884.670654296875</td>\n",
              "        </tr>\n",
              "        <tr>\n",
              "            <td>1984</td>\n",
              "            <td>867.5743408203125</td>\n",
              "        </tr>\n",
              "        <tr>\n",
              "            <td>1987</td>\n",
              "            <td>1007.8944702148438</td>\n",
              "        </tr>\n",
              "        <tr>\n",
              "            <td>1988</td>\n",
              "            <td>895.8466186523438</td>\n",
              "        </tr>\n",
              "        <tr>\n",
              "            <td>1989</td>\n",
              "            <td>930.10546875</td>\n",
              "        </tr>\n",
              "        <tr>\n",
              "            <td>1991</td>\n",
              "            <td>984.4703369140625</td>\n",
              "        </tr>\n",
              "        <tr>\n",
              "            <td>1992</td>\n",
              "            <td>907.9463500976562</td>\n",
              "        </tr>\n",
              "        <tr>\n",
              "            <td>1993</td>\n",
              "            <td>1057.7733154296875</td>\n",
              "        </tr>\n",
              "        <tr>\n",
              "            <td>2005</td>\n",
              "            <td>855.0092163085938</td>\n",
              "        </tr>\n",
              "        <tr>\n",
              "            <td>2009</td>\n",
              "            <td>1040.9012451171875</td>\n",
              "        </tr>\n",
              "        <tr>\n",
              "            <td>2010</td>\n",
              "            <td>905.66845703125</td>\n",
              "        </tr>\n",
              "    </tbody>\n",
              "</table>"
            ],
            "text/plain": [
              "[(1981, 895.6051025390625),\n",
              " (1982, 884.670654296875),\n",
              " (1984, 867.5743408203125),\n",
              " (1987, 1007.8944702148438),\n",
              " (1988, 895.8466186523438),\n",
              " (1989, 930.10546875),\n",
              " (1991, 984.4703369140625),\n",
              " (1992, 907.9463500976562),\n",
              " (1993, 1057.7733154296875),\n",
              " (2005, 855.0092163085938),\n",
              " (2009, 1040.9012451171875),\n",
              " (2010, 905.66845703125)]"
            ]
          },
          "metadata": {
            "tags": []
          },
          "execution_count": 10
        }
      ]
    },
    {
      "cell_type": "markdown",
      "metadata": {
        "id": "CxDqCatGPXbr"
      },
      "source": [
        "*Calculate the counts of NULLs, NOT_NULLs and total*. Keep in mind that the ***COUNT*** function will neglet NULL values.\r\n",
        "\r\n",
        "* Calcul du nombre de **NULL**, de **NOT NULL** et du **TOTAL** \r\n",
        "\r\n",
        "Gardez à l'esprit que la fonction **COUNT** ne comptabilisera pas les valeurs **NULL**."
      ]
    },
    {
      "cell_type": "code",
      "metadata": {
        "id": "uxPYeazVPXbr",
        "colab": {
          "base_uri": "https://localhost:8080/",
          "height": 79
        },
        "outputId": "2b0e67de-220d-460e-9ef1-e52bda27a995"
      },
      "source": [
        "%%sql sqlite://\n",
        "SELECT SUM(CASE WHEN PREC_mm IS NULL THEN 1 else 0 END) COUNT_NULLs,\n",
        "       COUNT(PREC_mm) COUNT_NOT_NULLs,\n",
        "       COUNT(YR) AS TOTAL\n",
        "From watershed_yearly_bk"
      ],
      "execution_count": 11,
      "outputs": [
        {
          "output_type": "stream",
          "text": [
            "Done.\n"
          ],
          "name": "stdout"
        },
        {
          "output_type": "execute_result",
          "data": {
            "text/html": [
              "<table>\n",
              "    <thead>\n",
              "        <tr>\n",
              "            <th>COUNT_NULLs</th>\n",
              "            <th>COUNT_NOT_NULLs</th>\n",
              "            <th>TOTAL</th>\n",
              "        </tr>\n",
              "    </thead>\n",
              "    <tbody>\n",
              "        <tr>\n",
              "            <td>18</td>\n",
              "            <td>12</td>\n",
              "            <td>30</td>\n",
              "        </tr>\n",
              "    </tbody>\n",
              "</table>"
            ],
            "text/plain": [
              "[(18, 12, 30)]"
            ]
          },
          "metadata": {
            "tags": []
          },
          "execution_count": 11
        }
      ]
    },
    {
      "cell_type": "markdown",
      "metadata": {
        "id": "jm7qhhXvPXbs"
      },
      "source": [
        "#### 4.2 Remplacer les valeurs NULL par des valeurs précises ***\n",
        "\n",
        "Il est recommandé de vérifier d'abord le document décrivant la base de données afin de s'assurer que les colonnes NULL (colonnes autorisées à avoir des valeurs NULL) sont bien documentées et que l'on a bien précisé ce que signifie une valeur NULL d'un point de vue métier avant de remplacer les valeurs NULL par des valeurs précises.\n",
        "\n",
        "Le SQLite offre une manière plus élégante de gérer les valeurs NULL. \n",
        "\n",
        "Cela consiste à utiliser la fonction COALESCE () qui accepte deux ou plusieurs arguments, et renvoie le premier argument non nul dans une valeur par défaut spécifiée si elle est nulle. \n",
        "\n",
        "Si tous les arguments sont NULL, la fonction COALESCE renvoie NULL.\n",
        "\n",
        "Ce qui suit illustre la syntaxe de la fonction COALESCE: <br>\n",
        "*** COALESCE (paramètre1, paramètre2,…) ***; <br>\n",
        "\n",
        "Ici, nous voulons que tous les NULL de PREC_mm soient traités comme la moyenne climatologique de NOT NULL.\n"
      ]
    },
    {
      "cell_type": "markdown",
      "metadata": {
        "id": "O2lpxUNWPXbs"
      },
      "source": [
        "***Calculate the mean nof NON-NULLs***"
      ]
    },
    {
      "cell_type": "code",
      "metadata": {
        "id": "bwe0ih94PXbs",
        "colab": {
          "base_uri": "https://localhost:8080/",
          "height": 79
        },
        "outputId": "92ad2840-cbcb-44c7-a9c0-5eeae0bffce3"
      },
      "source": [
        "%%sql sqlite://\n",
        "SELECT avg(PREC_mm)\n",
        "From watershed_yearly_bk"
      ],
      "execution_count": 12,
      "outputs": [
        {
          "output_type": "stream",
          "text": [
            "Done.\n"
          ],
          "name": "stdout"
        },
        {
          "output_type": "execute_result",
          "data": {
            "text/html": [
              "<table>\n",
              "    <thead>\n",
              "        <tr>\n",
              "            <th>avg(PREC_mm)</th>\n",
              "        </tr>\n",
              "    </thead>\n",
              "    <tbody>\n",
              "        <tr>\n",
              "            <td>936.1221313476562</td>\n",
              "        </tr>\n",
              "    </tbody>\n",
              "</table>"
            ],
            "text/plain": [
              "[(936.1221313476562,)]"
            ]
          },
          "metadata": {
            "tags": []
          },
          "execution_count": 12
        }
      ]
    },
    {
      "cell_type": "markdown",
      "metadata": {
        "id": "76Orvl6JPXbs"
      },
      "source": [
        "***Remplacement des NULL par la moyenne ci-dessus des NON-NULL***"
      ]
    },
    {
      "cell_type": "code",
      "metadata": {
        "id": "Yo8XaBUrPXbs",
        "colab": {
          "base_uri": "https://localhost:8080/",
          "height": 685
        },
        "outputId": "edeb6cc8-8e5d-4034-c9cf-59b5e86d6f49"
      },
      "source": [
        "%%sql sqlite://\n",
        "SELECT YR, COALESCE(PREC_mm, 936.122131348) as Precipitation\n",
        "From watershed_yearly_bk"
      ],
      "execution_count": 13,
      "outputs": [
        {
          "output_type": "stream",
          "text": [
            "Done.\n"
          ],
          "name": "stdout"
        },
        {
          "output_type": "execute_result",
          "data": {
            "text/html": [
              "<table>\n",
              "    <thead>\n",
              "        <tr>\n",
              "            <th>YR</th>\n",
              "            <th>Precipitation</th>\n",
              "        </tr>\n",
              "    </thead>\n",
              "    <tbody>\n",
              "        <tr>\n",
              "            <td>1981</td>\n",
              "            <td>895.6051025390625</td>\n",
              "        </tr>\n",
              "        <tr>\n",
              "            <td>1982</td>\n",
              "            <td>884.670654296875</td>\n",
              "        </tr>\n",
              "        <tr>\n",
              "            <td>1983</td>\n",
              "            <td>936.122131348</td>\n",
              "        </tr>\n",
              "        <tr>\n",
              "            <td>1984</td>\n",
              "            <td>867.5743408203125</td>\n",
              "        </tr>\n",
              "        <tr>\n",
              "            <td>1985</td>\n",
              "            <td>936.122131348</td>\n",
              "        </tr>\n",
              "        <tr>\n",
              "            <td>1986</td>\n",
              "            <td>936.122131348</td>\n",
              "        </tr>\n",
              "        <tr>\n",
              "            <td>1987</td>\n",
              "            <td>1007.8944702148438</td>\n",
              "        </tr>\n",
              "        <tr>\n",
              "            <td>1988</td>\n",
              "            <td>895.8466186523438</td>\n",
              "        </tr>\n",
              "        <tr>\n",
              "            <td>1989</td>\n",
              "            <td>930.10546875</td>\n",
              "        </tr>\n",
              "        <tr>\n",
              "            <td>1990</td>\n",
              "            <td>936.122131348</td>\n",
              "        </tr>\n",
              "        <tr>\n",
              "            <td>1991</td>\n",
              "            <td>984.4703369140625</td>\n",
              "        </tr>\n",
              "        <tr>\n",
              "            <td>1992</td>\n",
              "            <td>907.9463500976562</td>\n",
              "        </tr>\n",
              "        <tr>\n",
              "            <td>1993</td>\n",
              "            <td>1057.7733154296875</td>\n",
              "        </tr>\n",
              "        <tr>\n",
              "            <td>1994</td>\n",
              "            <td>936.122131348</td>\n",
              "        </tr>\n",
              "        <tr>\n",
              "            <td>1995</td>\n",
              "            <td>936.122131348</td>\n",
              "        </tr>\n",
              "        <tr>\n",
              "            <td>1996</td>\n",
              "            <td>936.122131348</td>\n",
              "        </tr>\n",
              "        <tr>\n",
              "            <td>1997</td>\n",
              "            <td>936.122131348</td>\n",
              "        </tr>\n",
              "        <tr>\n",
              "            <td>1998</td>\n",
              "            <td>936.122131348</td>\n",
              "        </tr>\n",
              "        <tr>\n",
              "            <td>1999</td>\n",
              "            <td>936.122131348</td>\n",
              "        </tr>\n",
              "        <tr>\n",
              "            <td>2000</td>\n",
              "            <td>936.122131348</td>\n",
              "        </tr>\n",
              "        <tr>\n",
              "            <td>2001</td>\n",
              "            <td>936.122131348</td>\n",
              "        </tr>\n",
              "        <tr>\n",
              "            <td>2002</td>\n",
              "            <td>936.122131348</td>\n",
              "        </tr>\n",
              "        <tr>\n",
              "            <td>2003</td>\n",
              "            <td>936.122131348</td>\n",
              "        </tr>\n",
              "        <tr>\n",
              "            <td>2004</td>\n",
              "            <td>936.122131348</td>\n",
              "        </tr>\n",
              "        <tr>\n",
              "            <td>2005</td>\n",
              "            <td>855.0092163085938</td>\n",
              "        </tr>\n",
              "        <tr>\n",
              "            <td>2006</td>\n",
              "            <td>936.122131348</td>\n",
              "        </tr>\n",
              "        <tr>\n",
              "            <td>2007</td>\n",
              "            <td>936.122131348</td>\n",
              "        </tr>\n",
              "        <tr>\n",
              "            <td>2008</td>\n",
              "            <td>936.122131348</td>\n",
              "        </tr>\n",
              "        <tr>\n",
              "            <td>2009</td>\n",
              "            <td>1040.9012451171875</td>\n",
              "        </tr>\n",
              "        <tr>\n",
              "            <td>2010</td>\n",
              "            <td>905.66845703125</td>\n",
              "        </tr>\n",
              "    </tbody>\n",
              "</table>"
            ],
            "text/plain": [
              "[(1981, 895.6051025390625),\n",
              " (1982, 884.670654296875),\n",
              " (1983, 936.122131348),\n",
              " (1984, 867.5743408203125),\n",
              " (1985, 936.122131348),\n",
              " (1986, 936.122131348),\n",
              " (1987, 1007.8944702148438),\n",
              " (1988, 895.8466186523438),\n",
              " (1989, 930.10546875),\n",
              " (1990, 936.122131348),\n",
              " (1991, 984.4703369140625),\n",
              " (1992, 907.9463500976562),\n",
              " (1993, 1057.7733154296875),\n",
              " (1994, 936.122131348),\n",
              " (1995, 936.122131348),\n",
              " (1996, 936.122131348),\n",
              " (1997, 936.122131348),\n",
              " (1998, 936.122131348),\n",
              " (1999, 936.122131348),\n",
              " (2000, 936.122131348),\n",
              " (2001, 936.122131348),\n",
              " (2002, 936.122131348),\n",
              " (2003, 936.122131348),\n",
              " (2004, 936.122131348),\n",
              " (2005, 855.0092163085938),\n",
              " (2006, 936.122131348),\n",
              " (2007, 936.122131348),\n",
              " (2008, 936.122131348),\n",
              " (2009, 1040.9012451171875),\n",
              " (2010, 905.66845703125)]"
            ]
          },
          "metadata": {
            "tags": []
          },
          "execution_count": 13
        }
      ]
    },
    {
      "cell_type": "markdown",
      "metadata": {
        "id": "0NhYf3WhPXbt"
      },
      "source": [
        "### Conclusion \n",
        "\n",
        "Le traitement des valeurs NULL est une tâche complexe. \n",
        "\n",
        "Il est préférable de demander l'assistance d'experts du domaine Métier, sauf si vous savez déjà très clairement à quoi servent les valeurs NULL.\n"
      ]
    }
  ]
}