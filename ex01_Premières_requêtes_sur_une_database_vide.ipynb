{
  "nbformat": 4,
  "nbformat_minor": 0,
  "metadata": {
    "anaconda-cloud": {},
    "kernelspec": {
      "display_name": "Python [default]",
      "language": "python",
      "name": "python2"
    },
    "language_info": {
      "codemirror_mode": {
        "name": "ipython",
        "version": 2
      },
      "file_extension": ".py",
      "mimetype": "text/x-python",
      "name": "python",
      "nbconvert_exporter": "python",
      "pygments_lexer": "ipython2",
      "version": "2.7.12"
    },
    "colab": {
      "name": "ex01_Premières_requêtes_sur_une_database_vide.ipynb",
      "provenance": [],
      "collapsed_sections": [],
      "include_colab_link": true
    }
  },
  "cells": [
    {
      "cell_type": "markdown",
      "metadata": {
        "id": "view-in-github",
        "colab_type": "text"
      },
      "source": [
        "<a href=\"https://colab.research.google.com/github/crystalloide/Notebooks-SQL-serie-1/blob/main/ex01_Premi%C3%A8res_requ%C3%AAtes_sur_une_database_vide.ipynb\" target=\"_parent\"><img src=\"https://colab.research.google.com/assets/colab-badge.svg\" alt=\"Open In Colab\"/></a>"
      ]
    },
    {
      "cell_type": "markdown",
      "metadata": {
        "id": "86Rz6Wy0Ir_e"
      },
      "source": [
        "# Introduction rapide\n",
        "\n",
        "Voici un premier exercice simple mais complet pour montrer comment :\n",
        "- créer une base de données SQLite\n",
        "- créer un tableau de données\n",
        "- insérer des données dans la table\n",
        "- interroger les données de la table"
      ]
    },
    {
      "cell_type": "code",
      "metadata": {
        "id": "oFVulqZEIr_f"
      },
      "source": [
        "%load_ext sql"
      ],
      "execution_count": 1,
      "outputs": []
    },
    {
      "cell_type": "markdown",
      "metadata": {
        "id": "gHeAf8A7Ir_f"
      },
      "source": [
        "### Création d'une base de données SQLite\n",
        "\n",
        "Il est conseillé de créer votre propre base de données, de sorte que vous soyez libre d'effectuer toutes les opérations sur celle-ci. \n",
        "\n",
        "Si vous utilisez le shell SQLite, nous pouvons appliquer la commande *** open *** à la fois pour créer une base de données SQLite ou pour l'ouvrir au cas où elle existe déjà, comme:\n",
        "\n",
        "> sqlite> .open testdb\n",
        "\n",
        "De même, nous pouvons utiliser ipython-sql pour la même chose:"
      ]
    },
    {
      "cell_type": "code",
      "metadata": {
        "colab": {
          "base_uri": "https://localhost:8080/"
        },
        "id": "0nV-jmy-Ir_g",
        "outputId": "6d7dda44-5f22-499d-b256-3593ac9f8fb2"
      },
      "source": [
        "%sql sqlite:////content/writers.db3"
      ],
      "execution_count": 2,
      "outputs": [
        {
          "output_type": "execute_result",
          "data": {
            "text/plain": [
              "u'Connected: @/content/writers.db3'"
            ]
          },
          "metadata": {
            "tags": []
          },
          "execution_count": 2
        }
      ]
    },
    {
      "cell_type": "markdown",
      "metadata": {
        "id": "gteFjv2sIr_g"
      },
      "source": [
        "### Création d'une table\n",
        "\n",
        "***%%sql*** permet d'effectuer plusieurs instructions SQL dans une seule cellule du notebook.\n",
        "\n",
        "Nous allons créer la table à l'aide d'une commande SQL standard : **CREATE TABLE**\n",
        "\n",
        "Si la table existe déjà dans la base de données, une erreur sera retournée. \n",
        "\n",
        "De plus, nous avons défini ***PRIMARY KEY*** sur le champ USERID pour éviter d'insérer des auteurs en double dans la table."
      ]
    },
    {
      "cell_type": "code",
      "metadata": {
        "colab": {
          "base_uri": "https://localhost:8080/"
        },
        "id": "M9ClQ_rNIr_g",
        "outputId": "9f16a819-4fa9-46af-cae2-77baeeb52621"
      },
      "source": [
        "%%sql sqlite://\n",
        "CREATE TABLE writer(\n",
        "    FirstName VARCHAR(50) NOT NULL,\n",
        "    LastName VARCHAR(50) NOT NULL,  \n",
        "    USERID int  NOT NULL UNIQUE, \n",
        "    PRIMARY KEY (USERID)\n",
        ");"
      ],
      "execution_count": 3,
      "outputs": [
        {
          "output_type": "stream",
          "text": [
            "Done.\n"
          ],
          "name": "stdout"
        },
        {
          "output_type": "execute_result",
          "data": {
            "text/plain": [
              "[]"
            ]
          },
          "metadata": {
            "tags": []
          },
          "execution_count": 3
        }
      ]
    },
    {
      "cell_type": "markdown",
      "metadata": {
        "id": "RG-O4W8WIr_h"
      },
      "source": [
        "### Ajout de données dans la table\n",
        "\n",
        "La table que nous venons de créer est vide. \n",
        "\n",
        "Nous allons donc insérer des données à l'intérieur. \n",
        "\n",
        "Pour renseigner ces données sous forme de lignes, nous utiliserons la commande **INSERT**"
      ]
    },
    {
      "cell_type": "code",
      "metadata": {
        "colab": {
          "base_uri": "https://localhost:8080/"
        },
        "id": "pciUlXwKIr_h",
        "outputId": "a44d5f66-337e-4742-c4f9-aebf1c68a7de"
      },
      "source": [
        "%%sql sqlite://\n",
        "INSERT INTO writer VALUES ('William', 'Shakespeare', 1616);\n",
        "INSERT INTO writer VALUES ('Lin', 'Han', 1996);\n",
        "INSERT INTO writer VALUES ('Peter', 'Brecht', 1978);"
      ],
      "execution_count": 4,
      "outputs": [
        {
          "output_type": "stream",
          "text": [
            "1 rows affected.\n",
            "1 rows affected.\n",
            "1 rows affected.\n"
          ],
          "name": "stdout"
        },
        {
          "output_type": "execute_result",
          "data": {
            "text/plain": [
              "[]"
            ]
          },
          "metadata": {
            "tags": []
          },
          "execution_count": 4
        }
      ]
    },
    {
      "cell_type": "markdown",
      "metadata": {
        "id": "WMpneryOIr_h"
      },
      "source": [
        "### Exécution de notre 1ère requête\n",
        "\n",
        "Nous allons écrire une requête simple pour vérifier les résultats des opérations précédentes dans lesquelles nous avons créé une table et y avons inséré trois lignes de données. \n",
        "\n",
        "Pour cela, nous utiliserons la commande appelée **SELECT**\n",
        "\n",
        "nous pouvons mettre le résultat de la requête dans une variable nommée **sqlres** dans l'exemple suivant : "
      ]
    },
    {
      "cell_type": "code",
      "metadata": {
        "colab": {
          "base_uri": "https://localhost:8080/",
          "height": 139
        },
        "id": "tb8hadBLIr_h",
        "outputId": "49e1ca9b-114f-42a6-fd28-a5e5e9b5582e"
      },
      "source": [
        "sqlres = %sql SELECT * from writer\n",
        "sqlres"
      ],
      "execution_count": 5,
      "outputs": [
        {
          "output_type": "stream",
          "text": [
            " * sqlite:////content/writers.db3\n",
            "Done.\n"
          ],
          "name": "stdout"
        },
        {
          "output_type": "execute_result",
          "data": {
            "text/plain": [
              "[(u'William', u'Shakespeare', 1616),\n",
              " (u'Lin', u'Han', 1996),\n",
              " (u'Peter', u'Brecht', 1978)]"
            ],
            "text/html": [
              "<table>\n",
              "    <tr>\n",
              "        <th>FirstName</th>\n",
              "        <th>LastName</th>\n",
              "        <th>USERID</th>\n",
              "    </tr>\n",
              "    <tr>\n",
              "        <td>William</td>\n",
              "        <td>Shakespeare</td>\n",
              "        <td>1616</td>\n",
              "    </tr>\n",
              "    <tr>\n",
              "        <td>Lin</td>\n",
              "        <td>Han</td>\n",
              "        <td>1996</td>\n",
              "    </tr>\n",
              "    <tr>\n",
              "        <td>Peter</td>\n",
              "        <td>Brecht</td>\n",
              "        <td>1978</td>\n",
              "    </tr>\n",
              "</table>"
            ]
          },
          "metadata": {
            "tags": []
          },
          "execution_count": 5
        }
      ]
    },
    {
      "cell_type": "markdown",
      "metadata": {
        "id": "Na6-nlAHIr_i"
      },
      "source": [
        "Vous pouvez également sélectionner des colonnes spécifiques, en spécifiant leurs noms : "
      ]
    },
    {
      "cell_type": "code",
      "metadata": {
        "colab": {
          "base_uri": "https://localhost:8080/",
          "height": 139
        },
        "id": "lVF_SrZ-Ir_i",
        "outputId": "bc1702a4-f98a-45ff-a6cb-38b134f2b984"
      },
      "source": [
        "sqlres = %sql SELECT FirstName, LastName from writer\n",
        "sqlres"
      ],
      "execution_count": 6,
      "outputs": [
        {
          "output_type": "stream",
          "text": [
            " * sqlite:////content/writers.db3\n",
            "Done.\n"
          ],
          "name": "stdout"
        },
        {
          "output_type": "execute_result",
          "data": {
            "text/plain": [
              "[(u'William', u'Shakespeare'), (u'Lin', u'Han'), (u'Peter', u'Brecht')]"
            ],
            "text/html": [
              "<table>\n",
              "    <tr>\n",
              "        <th>FirstName</th>\n",
              "        <th>LastName</th>\n",
              "    </tr>\n",
              "    <tr>\n",
              "        <td>William</td>\n",
              "        <td>Shakespeare</td>\n",
              "    </tr>\n",
              "    <tr>\n",
              "        <td>Lin</td>\n",
              "        <td>Han</td>\n",
              "    </tr>\n",
              "    <tr>\n",
              "        <td>Peter</td>\n",
              "        <td>Brecht</td>\n",
              "    </tr>\n",
              "</table>"
            ]
          },
          "metadata": {
            "tags": []
          },
          "execution_count": 6
        }
      ]
    }
  ]
}