{
  "nbformat": 4,
  "nbformat_minor": 0,
  "metadata": {
    "anaconda-cloud": {},
    "kernelspec": {
      "display_name": "Python 3",
      "name": "python3"
    },
    "language_info": {
      "name": "python"
    },
    "colab": {
      "name": "ex01_Premières_requêtes_sur_une_database_vide.ipynb",
      "provenance": [],
      "collapsed_sections": []
    }
  },
  "cells": [
    {
      "cell_type": "markdown",
      "metadata": {
        "id": "86Rz6Wy0Ir_e"
      },
      "source": [
        "# Introduction rapide\n",
        "\n",
        "Voici un premier exercice simple mais complet pour montrer comment :\n",
        "- créer une base de données SQLite\n",
        "- créer un tableau de données\n",
        "- insérer des données dans la table\n",
        "- interroger les données de la table"
      ]
    },
    {
      "cell_type": "code",
      "metadata": {
        "id": "oFVulqZEIr_f"
      },
      "source": [
        "%load_ext sql"
      ],
      "execution_count": 1,
      "outputs": []
    },
    {
      "cell_type": "markdown",
      "metadata": {
        "id": "gHeAf8A7Ir_f"
      },
      "source": [
        "### Création d'une base de données SQLite\n",
        "\n",
        "Il est conseillé de créer votre propre base de données, de sorte que vous soyez libre d'effectuer toutes les opérations sur celle-ci. \n",
        "\n",
        "Si vous utilisez le shell SQLite, nous pouvons appliquer la commande **open** à la fois pour créer une base de données SQLite ou pour l'ouvrir au cas où elle existe déjà, comme ici :\n",
        "\n",
        "> sqlite> .open testdb\n",
        "\n",
        "De même, nous pouvons utiliser ipython-sql pour faire la même chose :"
      ]
    },
    {
      "cell_type": "code",
      "metadata": {
        "colab": {
          "base_uri": "https://localhost:8080/",
          "height": 35
        },
        "id": "0nV-jmy-Ir_g",
        "outputId": "7a62c121-1f1c-49a0-a8ca-7761af48a5ab"
      },
      "source": [
        "%sql sqlite:////content/writers.db3"
      ],
      "execution_count": null,
      "outputs": [
        {
          "output_type": "execute_result",
          "data": {
            "application/vnd.google.colaboratory.intrinsic+json": {
              "type": "string"
            },
            "text/plain": [
              "'Connected: @/content/writers.db3'"
            ]
          },
          "metadata": {},
          "execution_count": 2
        }
      ]
    },
    {
      "cell_type": "markdown",
      "metadata": {
        "id": "gteFjv2sIr_g"
      },
      "source": [
        "### Création d'une table\n",
        "\n",
        "***%%sql*** permet d'effectuer plusieurs instructions SQL dans une seule cellule du notebook.\n",
        "\n",
        "Nous allons créer la table à l'aide d'une commande SQL standard : **CREATE TABLE**\n",
        "\n",
        "Si la table existe déjà dans la base de données, une erreur sera retournée. \n",
        "\n",
        "De plus, nous avons défini ***PRIMARY KEY*** sur le champ USERID pour éviter d'insérer des auteurs en double dans la table."
      ]
    },
    {
      "cell_type": "code",
      "metadata": {
        "colab": {
          "base_uri": "https://localhost:8080/"
        },
        "id": "M9ClQ_rNIr_g",
        "outputId": "4d0df017-1355-47e2-bda9-9175cd9d06f9"
      },
      "source": [
        "%%sql sqlite://\n",
        "CREATE TABLE writer(\n",
        "    FirstName VARCHAR(50) NOT NULL,\n",
        "    LastName VARCHAR(50) NOT NULL,  \n",
        "    USERID int  NOT NULL UNIQUE, \n",
        "    PRIMARY KEY (USERID)\n",
        ");"
      ],
      "execution_count": null,
      "outputs": [
        {
          "output_type": "stream",
          "name": "stdout",
          "text": [
            "Done.\n"
          ]
        },
        {
          "output_type": "execute_result",
          "data": {
            "text/plain": [
              "[]"
            ]
          },
          "metadata": {},
          "execution_count": 3
        }
      ]
    },
    {
      "cell_type": "markdown",
      "metadata": {
        "id": "RG-O4W8WIr_h"
      },
      "source": [
        "### Ajout de données dans la table\n",
        "\n",
        "La table que nous venons de créer est vide. \n",
        "\n",
        "Nous allons donc insérer des données à l'intérieur. \n",
        "\n",
        "Pour renseigner ces données sous forme de lignes, nous utiliserons la commande **INSERT**"
      ]
    },
    {
      "cell_type": "code",
      "metadata": {
        "colab": {
          "base_uri": "https://localhost:8080/"
        },
        "id": "pciUlXwKIr_h",
        "outputId": "b4272878-1eb1-4ca3-9566-c0d9ee38dad6"
      },
      "source": [
        "%%sql sqlite://\n",
        "INSERT INTO writer VALUES ('William', 'Shakespeare', 1616);\n",
        "INSERT INTO writer VALUES ('Lin', 'Han', 1996);\n",
        "INSERT INTO writer VALUES ('Peter', 'Brecht', 1978);"
      ],
      "execution_count": null,
      "outputs": [
        {
          "output_type": "stream",
          "name": "stdout",
          "text": [
            "1 rows affected.\n",
            "1 rows affected.\n",
            "1 rows affected.\n"
          ]
        },
        {
          "output_type": "execute_result",
          "data": {
            "text/plain": [
              "[]"
            ]
          },
          "metadata": {},
          "execution_count": 4
        }
      ]
    },
    {
      "cell_type": "markdown",
      "metadata": {
        "id": "WMpneryOIr_h"
      },
      "source": [
        "### Exécution de notre 1ère requête\n",
        "\n",
        "Nous allons écrire une requête simple pour vérifier les résultats des opérations précédentes dans lesquelles nous avons créé une table et y avons inséré trois lignes de données. \n",
        "\n",
        "Pour cela, nous utiliserons la commande appelée **SELECT**\n",
        "\n",
        "nous pouvons mettre le résultat de la requête dans une variable nommée **sqlres** dans l'exemple suivant : "
      ]
    },
    {
      "cell_type": "code",
      "metadata": {
        "colab": {
          "base_uri": "https://localhost:8080/",
          "height": 137
        },
        "id": "tb8hadBLIr_h",
        "outputId": "8ec9a935-6865-400d-db47-cc6a3aa59d6a"
      },
      "source": [
        "sqlres = %sql SELECT * from writer\n",
        "sqlres"
      ],
      "execution_count": null,
      "outputs": [
        {
          "output_type": "stream",
          "name": "stdout",
          "text": [
            " * sqlite:////content/writers.db3\n",
            "Done.\n"
          ]
        },
        {
          "output_type": "execute_result",
          "data": {
            "text/html": [
              "<table>\n",
              "    <thead>\n",
              "        <tr>\n",
              "            <th>FirstName</th>\n",
              "            <th>LastName</th>\n",
              "            <th>USERID</th>\n",
              "        </tr>\n",
              "    </thead>\n",
              "    <tbody>\n",
              "        <tr>\n",
              "            <td>William</td>\n",
              "            <td>Shakespeare</td>\n",
              "            <td>1616</td>\n",
              "        </tr>\n",
              "        <tr>\n",
              "            <td>Lin</td>\n",
              "            <td>Han</td>\n",
              "            <td>1996</td>\n",
              "        </tr>\n",
              "        <tr>\n",
              "            <td>Peter</td>\n",
              "            <td>Brecht</td>\n",
              "            <td>1978</td>\n",
              "        </tr>\n",
              "    </tbody>\n",
              "</table>"
            ],
            "text/plain": [
              "[('William', 'Shakespeare', 1616),\n",
              " ('Lin', 'Han', 1996),\n",
              " ('Peter', 'Brecht', 1978)]"
            ]
          },
          "metadata": {},
          "execution_count": 6
        }
      ]
    },
    {
      "cell_type": "markdown",
      "metadata": {
        "id": "Na6-nlAHIr_i"
      },
      "source": [
        "Vous pouvez également sélectionner des colonnes spécifiques, en spécifiant leurs noms : "
      ]
    },
    {
      "cell_type": "code",
      "metadata": {
        "colab": {
          "base_uri": "https://localhost:8080/",
          "height": 137
        },
        "id": "lVF_SrZ-Ir_i",
        "outputId": "866b02ca-a5fa-4b6c-bd70-ee96136e89bf"
      },
      "source": [
        "sqlres = %sql SELECT FirstName, LastName from writer\n",
        "sqlres"
      ],
      "execution_count": null,
      "outputs": [
        {
          "output_type": "stream",
          "name": "stdout",
          "text": [
            " * sqlite:////content/writers.db3\n",
            "Done.\n"
          ]
        },
        {
          "output_type": "execute_result",
          "data": {
            "text/html": [
              "<table>\n",
              "    <thead>\n",
              "        <tr>\n",
              "            <th>FirstName</th>\n",
              "            <th>LastName</th>\n",
              "        </tr>\n",
              "    </thead>\n",
              "    <tbody>\n",
              "        <tr>\n",
              "            <td>William</td>\n",
              "            <td>Shakespeare</td>\n",
              "        </tr>\n",
              "        <tr>\n",
              "            <td>Lin</td>\n",
              "            <td>Han</td>\n",
              "        </tr>\n",
              "        <tr>\n",
              "            <td>Peter</td>\n",
              "            <td>Brecht</td>\n",
              "        </tr>\n",
              "    </tbody>\n",
              "</table>"
            ],
            "text/plain": [
              "[('William', 'Shakespeare'), ('Lin', 'Han'), ('Peter', 'Brecht')]"
            ]
          },
          "metadata": {},
          "execution_count": 7
        }
      ]
    }
  ]
}