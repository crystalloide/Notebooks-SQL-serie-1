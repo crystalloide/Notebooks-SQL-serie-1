{
  "nbformat": 4,
  "nbformat_minor": 0,
  "metadata": {
    "anaconda-cloud": {},
    "kernelspec": {
      "display_name": "Python [conda root]",
      "language": "python",
      "name": "conda-root-py"
    },
    "language_info": {
      "codemirror_mode": {
        "name": "ipython",
        "version": 2
      },
      "file_extension": ".py",
      "mimetype": "text/x-python",
      "name": "python",
      "nbconvert_exporter": "python",
      "pygments_lexer": "ipython2",
      "version": "2.7.12"
    },
    "colab": {
      "name": "ex07-Agrégation des données avec GROUP BY et ORDER BY.ipynb",
      "provenance": [],
      "collapsed_sections": []
    }
  },
  "cells": [
    {
      "cell_type": "markdown",
      "metadata": {
        "id": "cog_9IVyqBWz"
      },
      "source": [
        "## ex07 - Agrégation des données avec GROUP BY et ORDER BY\n",
        "\n",
        "La clause ***GROUP BY*** est une clause facultative de l'instruction SELECT. \n",
        "La clause GROUP BY un groupe sélectionné de lignes en lignes récapitulatives par valeurs d'une ou plusieurs colonnes.\n",
        "\n",
        "La clause GROUP BY renvoie une ligne pour chaque groupe. \n",
        "\n",
        "Pour chaque groupe, vous pouvez appliquer une fonction d'agrégation telle que ***MIN, MAX, SUM, COUNT ou AVG*** pour fournir plus d'informations sur chaque groupe."
      ]
    },
    {
      "cell_type": "code",
      "metadata": {
        "id": "iD1iv0vKqBW0"
      },
      "source": [
        "%load_ext sql"
      ],
      "execution_count": 1,
      "outputs": []
    },
    {
      "cell_type": "markdown",
      "metadata": {
        "id": "7tAUFUS2WYnn"
      },
      "source": [
        "### 0. Reconnectons notre Google Drive"
      ]
    },
    {
      "cell_type": "code",
      "metadata": {
        "colab": {
          "base_uri": "https://localhost:8080/"
        },
        "id": "89Juyv_XBgSJ",
        "outputId": "b562a3cb-8d39-4210-add5-064c7e68575b"
      },
      "source": [
        "from google.colab import drive\r\n",
        "# drive.mount('/content/gdrive')\r\n",
        "drive.mount(\"/content/gdrive\", force_remount=True)\r\n"
      ],
      "execution_count": 2,
      "outputs": [
        {
          "output_type": "stream",
          "text": [
            "Mounted at /content/gdrive\n"
          ],
          "name": "stdout"
        }
      ]
    },
    {
      "cell_type": "markdown",
      "metadata": {
        "id": "B9k_FV17Or6q"
      },
      "source": [
        "### 1. Connexion à la Database fournie pour le TP : demo.db3"
      ]
    },
    {
      "cell_type": "code",
      "metadata": {
        "colab": {
          "base_uri": "https://localhost:8080/",
          "height": 35
        },
        "id": "Jxq7_jluOr6q",
        "outputId": "1ab26280-b927-4bfe-cf4d-564829b2b1f2"
      },
      "source": [
        "%sql sqlite:////content/gdrive/MyDrive/Partage/Notebooks_Serie_1/demo.db3"
      ],
      "execution_count": 3,
      "outputs": [
        {
          "output_type": "execute_result",
          "data": {
            "application/vnd.google.colaboratory.intrinsic+json": {
              "type": "string"
            },
            "text/plain": [
              "'Connected: @/content/gdrive/MyDrive/Partage/Notebooks_Serie_1/demo.db3'"
            ]
          },
          "metadata": {
            "tags": []
          },
          "execution_count": 3
        }
      ]
    },
    {
      "cell_type": "markdown",
      "metadata": {
        "id": "sg06XIocWYno"
      },
      "source": [
        "Si vous ne connaissez toujours pas les tables présentes dans la database de démonstration :-), vous pouvez toujours utiliser la commande suivante pour le savoir. "
      ]
    },
    {
      "cell_type": "code",
      "metadata": {
        "colab": {
          "base_uri": "https://localhost:8080/",
          "height": 452
        },
        "id": "BLERDV-PWYnp",
        "outputId": "04067b2f-a4ba-4fbb-99c4-53f4105dc4cc"
      },
      "source": [
        "%sql SELECT name FROM sqlite_master WHERE type='table'"
      ],
      "execution_count": 4,
      "outputs": [
        {
          "output_type": "stream",
          "text": [
            " * sqlite:////content/gdrive/MyDrive/Partage/Notebooks_Serie_1/demo.db3\n",
            "Done.\n"
          ],
          "name": "stdout"
        },
        {
          "output_type": "execute_result",
          "data": {
            "text/html": [
              "<table>\n",
              "    <thead>\n",
              "        <tr>\n",
              "            <th>name</th>\n",
              "        </tr>\n",
              "    </thead>\n",
              "    <tbody>\n",
              "        <tr>\n",
              "            <td>rch</td>\n",
              "        </tr>\n",
              "        <tr>\n",
              "            <td>hru</td>\n",
              "        </tr>\n",
              "        <tr>\n",
              "            <td>sub</td>\n",
              "        </tr>\n",
              "        <tr>\n",
              "            <td>sed</td>\n",
              "        </tr>\n",
              "        <tr>\n",
              "            <td>watershed_daily</td>\n",
              "        </tr>\n",
              "        <tr>\n",
              "            <td>watershed_monthly</td>\n",
              "        </tr>\n",
              "        <tr>\n",
              "            <td>watershed_yearly</td>\n",
              "        </tr>\n",
              "        <tr>\n",
              "            <td>channel_dimension</td>\n",
              "        </tr>\n",
              "        <tr>\n",
              "            <td>hru_info</td>\n",
              "        </tr>\n",
              "        <tr>\n",
              "            <td>sub_info</td>\n",
              "        </tr>\n",
              "        <tr>\n",
              "            <td>rch_info</td>\n",
              "        </tr>\n",
              "        <tr>\n",
              "            <td>ave_plant</td>\n",
              "        </tr>\n",
              "        <tr>\n",
              "            <td>ave_annual_hru</td>\n",
              "        </tr>\n",
              "        <tr>\n",
              "            <td>ave_monthly_basin</td>\n",
              "        </tr>\n",
              "        <tr>\n",
              "            <td>ave_annual_basin</td>\n",
              "        </tr>\n",
              "        <tr>\n",
              "            <td>sqlite_sequence</td>\n",
              "        </tr>\n",
              "        <tr>\n",
              "            <td>watershed_yearly_bk</td>\n",
              "        </tr>\n",
              "        <tr>\n",
              "            <td>Temperature</td>\n",
              "        </tr>\n",
              "    </tbody>\n",
              "</table>"
            ],
            "text/plain": [
              "[('rch',),\n",
              " ('hru',),\n",
              " ('sub',),\n",
              " ('sed',),\n",
              " ('watershed_daily',),\n",
              " ('watershed_monthly',),\n",
              " ('watershed_yearly',),\n",
              " ('channel_dimension',),\n",
              " ('hru_info',),\n",
              " ('sub_info',),\n",
              " ('rch_info',),\n",
              " ('ave_plant',),\n",
              " ('ave_annual_hru',),\n",
              " ('ave_monthly_basin',),\n",
              " ('ave_annual_basin',),\n",
              " ('sqlite_sequence',),\n",
              " ('watershed_yearly_bk',),\n",
              " ('Temperature',)]"
            ]
          },
          "metadata": {
            "tags": []
          },
          "execution_count": 4
        }
      ]
    },
    {
      "cell_type": "markdown",
      "metadata": {
        "id": "q27TfFwGqBW2"
      },
      "source": [
        "### 2. Regroupement des données\n",
        "\n",
        "Prenons la table ***rch*** ici dans notre comme exemple\n",
        "\n",
        "#### 2.1 Regardons tout d'abord les colonnes de la table\n"
      ]
    },
    {
      "cell_type": "code",
      "metadata": {
        "colab": {
          "base_uri": "https://localhost:8080/",
          "height": 208
        },
        "id": "6KvDMXAkqBW3",
        "outputId": "6a9ad67d-f302-4529-af80-48d5c8d0627c"
      },
      "source": [
        "%sql SELECT * From rch LIMIT 3"
      ],
      "execution_count": 5,
      "outputs": [
        {
          "output_type": "stream",
          "text": [
            " * sqlite:////content/gdrive/MyDrive/Partage/Notebooks_Serie_1/demo.db3\n",
            "Done.\n"
          ],
          "name": "stdout"
        },
        {
          "output_type": "execute_result",
          "data": {
            "text/html": [
              "<table>\n",
              "    <thead>\n",
              "        <tr>\n",
              "            <th>RCH</th>\n",
              "            <th>YR</th>\n",
              "            <th>MO</th>\n",
              "            <th>FLOW_INcms</th>\n",
              "            <th>FLOW_OUTcms</th>\n",
              "            <th>EVAPcms</th>\n",
              "            <th>TLOSScms</th>\n",
              "            <th>SED_INtons</th>\n",
              "            <th>SED_OUTtons</th>\n",
              "            <th>SEDCONCmg_kg</th>\n",
              "            <th>ORGN_INkg</th>\n",
              "            <th>ORGN_OUTkg</th>\n",
              "            <th>ORGP_INkg</th>\n",
              "            <th>ORGP_OUTkg</th>\n",
              "            <th>NO3_INkg</th>\n",
              "            <th>NO3_OUTkg</th>\n",
              "            <th>NH4_INkg</th>\n",
              "            <th>NH4_OUTkg</th>\n",
              "            <th>NO2_INkg</th>\n",
              "            <th>NO2_OUTkg</th>\n",
              "            <th>MINP_INkg</th>\n",
              "            <th>MINP_OUTkg</th>\n",
              "            <th>CHLA_INkg</th>\n",
              "            <th>CHLA_OUTkg</th>\n",
              "            <th>CBOD_INkg</th>\n",
              "            <th>CBOD_OUTkg</th>\n",
              "            <th>DISOX_INkg</th>\n",
              "            <th>DISOX_OUTkg</th>\n",
              "            <th>SOLPST_INmg</th>\n",
              "            <th>SOLPST_OUTmg</th>\n",
              "            <th>SORPST_INmg</th>\n",
              "            <th>SORPST_OUTmg</th>\n",
              "            <th>REACTPSTmg</th>\n",
              "            <th>VOLPSTmg</th>\n",
              "            <th>SETTLPSTmg</th>\n",
              "            <th>RESUSP_PSTmg</th>\n",
              "            <th>DIFFUSEPSTmg</th>\n",
              "            <th>REACBEDPSTmg</th>\n",
              "            <th>BURYPSTmg</th>\n",
              "            <th>BED_PSTmg</th>\n",
              "            <th>BACTP_OUTct</th>\n",
              "            <th>BACTLP_OUTct</th>\n",
              "            <th>CMETAL_1kg</th>\n",
              "            <th>CMETAL_2kg</th>\n",
              "            <th>CMETAL_3kg</th>\n",
              "            <th>TOT_Nkg</th>\n",
              "            <th>TOT_Pkg</th>\n",
              "            <th>NO3ConcMg_l</th>\n",
              "            <th>WTMPdegc</th>\n",
              "        </tr>\n",
              "    </thead>\n",
              "    <tbody>\n",
              "        <tr>\n",
              "            <td>1</td>\n",
              "            <td>1981</td>\n",
              "            <td>1</td>\n",
              "            <td>146.34376525878906</td>\n",
              "            <td>146.2524871826172</td>\n",
              "            <td>0.09128088504076004</td>\n",
              "            <td>0.0</td>\n",
              "            <td>2.3320461650655488e-07</td>\n",
              "            <td>61619.46484375</td>\n",
              "            <td>155.3719024658203</td>\n",
              "            <td>0.016086287796497345</td>\n",
              "            <td>0.0</td>\n",
              "            <td>0.04825887829065323</td>\n",
              "            <td>0.0</td>\n",
              "            <td>362.0486755371094</td>\n",
              "            <td>361.8135070800781</td>\n",
              "            <td>203.620849609375</td>\n",
              "            <td>421.18377685546875</td>\n",
              "            <td>0.0</td>\n",
              "            <td>23.0184326171875</td>\n",
              "            <td>0.016107244417071342</td>\n",
              "            <td>0.0</td>\n",
              "            <td>1.1839052307949238e-11</td>\n",
              "            <td>0.0</td>\n",
              "            <td>0.0</td>\n",
              "            <td>0.0</td>\n",
              "            <td>5627225.0</td>\n",
              "            <td>5623486.5</td>\n",
              "            <td>0.0</td>\n",
              "            <td>0.0</td>\n",
              "            <td>0.0</td>\n",
              "            <td>0.0</td>\n",
              "            <td>0.0</td>\n",
              "            <td>0.0</td>\n",
              "            <td>0.0</td>\n",
              "            <td>0.0</td>\n",
              "            <td>0.0</td>\n",
              "            <td>0.0</td>\n",
              "            <td>0.0</td>\n",
              "            <td>0.0</td>\n",
              "            <td>0.0</td>\n",
              "            <td>0.0</td>\n",
              "            <td>0.0</td>\n",
              "            <td>0.0</td>\n",
              "            <td>0.0</td>\n",
              "            <td>806.0157470703125</td>\n",
              "            <td>0.0</td>\n",
              "            <td>0.0</td>\n",
              "            <td>0.0</td>\n",
              "        </tr>\n",
              "        <tr>\n",
              "            <td>2</td>\n",
              "            <td>1981</td>\n",
              "            <td>1</td>\n",
              "            <td>96.22569274902344</td>\n",
              "            <td>96.18285369873047</td>\n",
              "            <td>0.042821284383535385</td>\n",
              "            <td>0.0</td>\n",
              "            <td>1.6426764659627224e-07</td>\n",
              "            <td>0.0</td>\n",
              "            <td>0.0</td>\n",
              "            <td>0.01363153662532568</td>\n",
              "            <td>0.0</td>\n",
              "            <td>0.04089462012052536</td>\n",
              "            <td>0.0</td>\n",
              "            <td>315.60052490234375</td>\n",
              "            <td>315.4579772949219</td>\n",
              "            <td>0.0</td>\n",
              "            <td>127.00502014160156</td>\n",
              "            <td>0.0</td>\n",
              "            <td>0.0</td>\n",
              "            <td>0.013656049966812134</td>\n",
              "            <td>0.0</td>\n",
              "            <td>4.136972177163251e-16</td>\n",
              "            <td>0.0</td>\n",
              "            <td>0.0</td>\n",
              "            <td>0.0</td>\n",
              "            <td>3757606.5</td>\n",
              "            <td>3698301.5</td>\n",
              "            <td>0.0</td>\n",
              "            <td>0.0</td>\n",
              "            <td>0.0</td>\n",
              "            <td>0.0</td>\n",
              "            <td>0.0</td>\n",
              "            <td>0.0</td>\n",
              "            <td>0.0</td>\n",
              "            <td>0.0</td>\n",
              "            <td>0.0</td>\n",
              "            <td>0.0</td>\n",
              "            <td>0.0</td>\n",
              "            <td>0.0</td>\n",
              "            <td>0.0</td>\n",
              "            <td>0.0</td>\n",
              "            <td>0.0</td>\n",
              "            <td>0.0</td>\n",
              "            <td>0.0</td>\n",
              "            <td>442.4630126953125</td>\n",
              "            <td>0.0</td>\n",
              "            <td>0.0</td>\n",
              "            <td>0.0</td>\n",
              "        </tr>\n",
              "        <tr>\n",
              "            <td>3</td>\n",
              "            <td>1981</td>\n",
              "            <td>1</td>\n",
              "            <td>11.952718734741211</td>\n",
              "            <td>11.861368179321289</td>\n",
              "            <td>0.09135182946920395</td>\n",
              "            <td>0.0</td>\n",
              "            <td>2.0325823868461157e-07</td>\n",
              "            <td>2.0325823868461157e-07</td>\n",
              "            <td>6.595060941805286e-09</td>\n",
              "            <td>0.01146628800779581</td>\n",
              "            <td>0.0</td>\n",
              "            <td>0.03439886122941971</td>\n",
              "            <td>0.009118038229644299</td>\n",
              "            <td>48.2963752746582</td>\n",
              "            <td>47.93150329589844</td>\n",
              "            <td>0.0</td>\n",
              "            <td>62.467620849609375</td>\n",
              "            <td>0.0</td>\n",
              "            <td>0.0</td>\n",
              "            <td>0.011485105380415916</td>\n",
              "            <td>0.0</td>\n",
              "            <td>5.941028783295818e-14</td>\n",
              "            <td>0.0</td>\n",
              "            <td>0.0</td>\n",
              "            <td>0.0</td>\n",
              "            <td>360979.90625</td>\n",
              "            <td>456115.90625</td>\n",
              "            <td>0.0</td>\n",
              "            <td>0.0</td>\n",
              "            <td>0.0</td>\n",
              "            <td>0.0</td>\n",
              "            <td>0.0</td>\n",
              "            <td>0.0</td>\n",
              "            <td>0.0</td>\n",
              "            <td>0.0</td>\n",
              "            <td>0.0</td>\n",
              "            <td>0.0</td>\n",
              "            <td>0.0</td>\n",
              "            <td>0.0</td>\n",
              "            <td>0.0</td>\n",
              "            <td>0.0</td>\n",
              "            <td>0.0</td>\n",
              "            <td>0.0</td>\n",
              "            <td>0.0</td>\n",
              "            <td>110.39912414550781</td>\n",
              "            <td>0.009118038229644299</td>\n",
              "            <td>0.0</td>\n",
              "            <td>0.0</td>\n",
              "        </tr>\n",
              "    </tbody>\n",
              "</table>"
            ],
            "text/plain": [
              "[(1, 1981, 1, 146.34376525878906, 146.2524871826172, 0.09128088504076004, 0.0, 2.3320461650655488e-07, 61619.46484375, 155.3719024658203, 0.016086287796497345, 0.0, 0.04825887829065323, 0.0, 362.0486755371094, 361.8135070800781, 203.620849609375, 421.18377685546875, 0.0, 23.0184326171875, 0.016107244417071342, 0.0, 1.1839052307949238e-11, 0.0, 0.0, 0.0, 5627225.0, 5623486.5, 0.0, 0.0, 0.0, 0.0, 0.0, 0.0, 0.0, 0.0, 0.0, 0.0, 0.0, 0.0, 0.0, 0.0, 0.0, 0.0, 0.0, 806.0157470703125, 0.0, 0.0, 0.0),\n",
              " (2, 1981, 1, 96.22569274902344, 96.18285369873047, 0.042821284383535385, 0.0, 1.6426764659627224e-07, 0.0, 0.0, 0.01363153662532568, 0.0, 0.04089462012052536, 0.0, 315.60052490234375, 315.4579772949219, 0.0, 127.00502014160156, 0.0, 0.0, 0.013656049966812134, 0.0, 4.136972177163251e-16, 0.0, 0.0, 0.0, 3757606.5, 3698301.5, 0.0, 0.0, 0.0, 0.0, 0.0, 0.0, 0.0, 0.0, 0.0, 0.0, 0.0, 0.0, 0.0, 0.0, 0.0, 0.0, 0.0, 442.4630126953125, 0.0, 0.0, 0.0),\n",
              " (3, 1981, 1, 11.952718734741211, 11.861368179321289, 0.09135182946920395, 0.0, 2.0325823868461157e-07, 2.0325823868461157e-07, 6.595060941805286e-09, 0.01146628800779581, 0.0, 0.03439886122941971, 0.009118038229644299, 48.2963752746582, 47.93150329589844, 0.0, 62.467620849609375, 0.0, 0.0, 0.011485105380415916, 0.0, 5.941028783295818e-14, 0.0, 0.0, 0.0, 360979.90625, 456115.90625, 0.0, 0.0, 0.0, 0.0, 0.0, 0.0, 0.0, 0.0, 0.0, 0.0, 0.0, 0.0, 0.0, 0.0, 0.0, 0.0, 0.0, 110.39912414550781, 0.009118038229644299, 0.0, 0.0)]"
            ]
          },
          "metadata": {
            "tags": []
          },
          "execution_count": 5
        }
      ]
    },
    {
      "cell_type": "markdown",
      "metadata": {
        "id": "L91PGlqvqBW3"
      },
      "source": [
        "#### 2.2 Vérifier les valeurs uniques (distinctes)\n",
        "\n",
        "Tout d'abord, regardons le nombre de valeurs distinctes que l'on trouve dans la colonne RCH de la table rch. \n",
        "\n",
        "Nous pouvons utiliser le mot clé ***DISTINCT*** conjointement avec l'instruction SELECT, afin d'éliminer tous les enregistrements en double et récupérer uniquement les enregistrements uniques.\n"
      ]
    },
    {
      "cell_type": "code",
      "metadata": {
        "colab": {
          "base_uri": "https://localhost:8080/",
          "height": 78
        },
        "id": "khrJhZ15qBW3",
        "outputId": "3a35a93c-e9e7-44bd-c002-27e1c909a692"
      },
      "source": [
        "%%sql sqlite://\n",
        "SELECT COUNT(DISTINCT RCH) AS nRCH\n",
        "FROM rch"
      ],
      "execution_count": 6,
      "outputs": [
        {
          "output_type": "stream",
          "text": [
            "Done.\n"
          ],
          "name": "stdout"
        },
        {
          "output_type": "execute_result",
          "data": {
            "text/html": [
              "<table>\n",
              "    <thead>\n",
              "        <tr>\n",
              "            <th>nRCH</th>\n",
              "        </tr>\n",
              "    </thead>\n",
              "    <tbody>\n",
              "        <tr>\n",
              "            <td>23</td>\n",
              "        </tr>\n",
              "    </tbody>\n",
              "</table>"
            ],
            "text/plain": [
              "[(23,)]"
            ]
          },
          "metadata": {
            "tags": []
          },
          "execution_count": 6
        }
      ]
    },
    {
      "cell_type": "markdown",
      "metadata": {
        "id": "aIotx3M7qBW3"
      },
      "source": [
        "Nous pourrions également utiliser la clause ***GROUP BY*** afin d'obtenir une sortie plus lisible que la colonne de la table originelle car comportant moins de lignes : seules les valeurs uniques seront renvoyées."
      ]
    },
    {
      "cell_type": "code",
      "metadata": {
        "colab": {
          "base_uri": "https://localhost:8080/",
          "height": 540
        },
        "id": "ZB5v8AFjqBW4",
        "outputId": "26f3826d-5a46-41ec-b307-eb16500a7995"
      },
      "source": [
        "%%sql sqlite://\n",
        "SELECT RCH\n",
        "FROM rch\n",
        "GROUP BY RCH"
      ],
      "execution_count": 7,
      "outputs": [
        {
          "output_type": "stream",
          "text": [
            "Done.\n"
          ],
          "name": "stdout"
        },
        {
          "output_type": "execute_result",
          "data": {
            "text/html": [
              "<table>\n",
              "    <thead>\n",
              "        <tr>\n",
              "            <th>RCH</th>\n",
              "        </tr>\n",
              "    </thead>\n",
              "    <tbody>\n",
              "        <tr>\n",
              "            <td>1</td>\n",
              "        </tr>\n",
              "        <tr>\n",
              "            <td>2</td>\n",
              "        </tr>\n",
              "        <tr>\n",
              "            <td>3</td>\n",
              "        </tr>\n",
              "        <tr>\n",
              "            <td>4</td>\n",
              "        </tr>\n",
              "        <tr>\n",
              "            <td>5</td>\n",
              "        </tr>\n",
              "        <tr>\n",
              "            <td>6</td>\n",
              "        </tr>\n",
              "        <tr>\n",
              "            <td>7</td>\n",
              "        </tr>\n",
              "        <tr>\n",
              "            <td>8</td>\n",
              "        </tr>\n",
              "        <tr>\n",
              "            <td>9</td>\n",
              "        </tr>\n",
              "        <tr>\n",
              "            <td>10</td>\n",
              "        </tr>\n",
              "        <tr>\n",
              "            <td>11</td>\n",
              "        </tr>\n",
              "        <tr>\n",
              "            <td>12</td>\n",
              "        </tr>\n",
              "        <tr>\n",
              "            <td>13</td>\n",
              "        </tr>\n",
              "        <tr>\n",
              "            <td>14</td>\n",
              "        </tr>\n",
              "        <tr>\n",
              "            <td>15</td>\n",
              "        </tr>\n",
              "        <tr>\n",
              "            <td>16</td>\n",
              "        </tr>\n",
              "        <tr>\n",
              "            <td>17</td>\n",
              "        </tr>\n",
              "        <tr>\n",
              "            <td>18</td>\n",
              "        </tr>\n",
              "        <tr>\n",
              "            <td>19</td>\n",
              "        </tr>\n",
              "        <tr>\n",
              "            <td>20</td>\n",
              "        </tr>\n",
              "        <tr>\n",
              "            <td>21</td>\n",
              "        </tr>\n",
              "        <tr>\n",
              "            <td>22</td>\n",
              "        </tr>\n",
              "        <tr>\n",
              "            <td>23</td>\n",
              "        </tr>\n",
              "    </tbody>\n",
              "</table>"
            ],
            "text/plain": [
              "[(1,),\n",
              " (2,),\n",
              " (3,),\n",
              " (4,),\n",
              " (5,),\n",
              " (6,),\n",
              " (7,),\n",
              " (8,),\n",
              " (9,),\n",
              " (10,),\n",
              " (11,),\n",
              " (12,),\n",
              " (13,),\n",
              " (14,),\n",
              " (15,),\n",
              " (16,),\n",
              " (17,),\n",
              " (18,),\n",
              " (19,),\n",
              " (20,),\n",
              " (21,),\n",
              " (22,),\n",
              " (23,)]"
            ]
          },
          "metadata": {
            "tags": []
          },
          "execution_count": 7
        }
      ]
    },
    {
      "cell_type": "markdown",
      "metadata": {
        "id": "NYz8iDwcqBW4"
      },
      "source": [
        "#### 2.3 Utiliser les fonctions d'agrégation sur les groupes\n",
        "\n",
        "Nous pouvons obtenir davanatges de détails en agrégeant des données sur un groupe plutôt que sur des colonnes entières.\n"
      ]
    },
    {
      "cell_type": "code",
      "metadata": {
        "colab": {
          "base_uri": "https://localhost:8080/",
          "height": 540
        },
        "id": "d_C00ibFqBW4",
        "outputId": "6c5de58e-4222-4849-c006-e6ff60574be8"
      },
      "source": [
        "%%sql sqlite://\n",
        "SELECT RCH, AVG(FLOW_INcms), AVG(FLOW_OUTcms)\n",
        "FROM rch\n",
        "GROUP BY RCH"
      ],
      "execution_count": 8,
      "outputs": [
        {
          "output_type": "stream",
          "text": [
            "Done.\n"
          ],
          "name": "stdout"
        },
        {
          "output_type": "execute_result",
          "data": {
            "text/html": [
              "<table>\n",
              "    <thead>\n",
              "        <tr>\n",
              "            <th>RCH</th>\n",
              "            <th>AVG(FLOW_INcms)</th>\n",
              "            <th>AVG(FLOW_OUTcms)</th>\n",
              "        </tr>\n",
              "    </thead>\n",
              "    <tbody>\n",
              "        <tr>\n",
              "            <td>1</td>\n",
              "            <td>631.8990093310674</td>\n",
              "            <td>629.7380514648225</td>\n",
              "        </tr>\n",
              "        <tr>\n",
              "            <td>2</td>\n",
              "            <td>333.0202187087801</td>\n",
              "            <td>332.79249324997267</td>\n",
              "        </tr>\n",
              "        <tr>\n",
              "            <td>3</td>\n",
              "            <td>152.36708157062532</td>\n",
              "            <td>151.58638913697666</td>\n",
              "        </tr>\n",
              "        <tr>\n",
              "            <td>4</td>\n",
              "            <td>270.92289432916374</td>\n",
              "            <td>270.5829954958624</td>\n",
              "        </tr>\n",
              "        <tr>\n",
              "            <td>5</td>\n",
              "            <td>933.1512839211358</td>\n",
              "            <td>921.7582115385268</td>\n",
              "        </tr>\n",
              "        <tr>\n",
              "            <td>6</td>\n",
              "            <td>2700.088200208876</td>\n",
              "            <td>2697.8029292848373</td>\n",
              "        </tr>\n",
              "        <tr>\n",
              "            <td>7</td>\n",
              "            <td>69.64315097878377</td>\n",
              "            <td>68.53229562627091</td>\n",
              "        </tr>\n",
              "        <tr>\n",
              "            <td>8</td>\n",
              "            <td>1784.046529504988</td>\n",
              "            <td>1776.2703920046488</td>\n",
              "        </tr>\n",
              "        <tr>\n",
              "            <td>9</td>\n",
              "            <td>1689.8438427501255</td>\n",
              "            <td>1688.7743001672957</td>\n",
              "        </tr>\n",
              "        <tr>\n",
              "            <td>10</td>\n",
              "            <td>233.96010857224465</td>\n",
              "            <td>233.50774793492423</td>\n",
              "        </tr>\n",
              "        <tr>\n",
              "            <td>11</td>\n",
              "            <td>1626.5236574543846</td>\n",
              "            <td>1614.5366679032643</td>\n",
              "        </tr>\n",
              "        <tr>\n",
              "            <td>12</td>\n",
              "            <td>595.4463993251323</td>\n",
              "            <td>594.3839241716597</td>\n",
              "        </tr>\n",
              "        <tr>\n",
              "            <td>13</td>\n",
              "            <td>485.0579067746798</td>\n",
              "            <td>484.5191706750128</td>\n",
              "        </tr>\n",
              "        <tr>\n",
              "            <td>14</td>\n",
              "            <td>218.49423703187043</td>\n",
              "            <td>218.45375338461665</td>\n",
              "        </tr>\n",
              "        <tr>\n",
              "            <td>15</td>\n",
              "            <td>78.63512668444051</td>\n",
              "            <td>76.14785773319956</td>\n",
              "        </tr>\n",
              "        <tr>\n",
              "            <td>16</td>\n",
              "            <td>281.7426873054769</td>\n",
              "            <td>280.69021704279714</td>\n",
              "        </tr>\n",
              "        <tr>\n",
              "            <td>17</td>\n",
              "            <td>37.79267790690064</td>\n",
              "            <td>37.704887457564475</td>\n",
              "        </tr>\n",
              "        <tr>\n",
              "            <td>18</td>\n",
              "            <td>134.39293413791393</td>\n",
              "            <td>133.76857711888022</td>\n",
              "        </tr>\n",
              "        <tr>\n",
              "            <td>19</td>\n",
              "            <td>84.25120316512054</td>\n",
              "            <td>84.1577095127768</td>\n",
              "        </tr>\n",
              "        <tr>\n",
              "            <td>20</td>\n",
              "            <td>150.6475102369984</td>\n",
              "            <td>150.41951570461194</td>\n",
              "        </tr>\n",
              "        <tr>\n",
              "            <td>21</td>\n",
              "            <td>65.17107435870501</td>\n",
              "            <td>65.10127843287256</td>\n",
              "        </tr>\n",
              "        <tr>\n",
              "            <td>22</td>\n",
              "            <td>240.03635869224865</td>\n",
              "            <td>238.23909225828118</td>\n",
              "        </tr>\n",
              "        <tr>\n",
              "            <td>23</td>\n",
              "            <td>68.185183768885</td>\n",
              "            <td>67.95374260288146</td>\n",
              "        </tr>\n",
              "    </tbody>\n",
              "</table>"
            ],
            "text/plain": [
              "[(1, 631.8990093310674, 629.7380514648225),\n",
              " (2, 333.0202187087801, 332.79249324997267),\n",
              " (3, 152.36708157062532, 151.58638913697666),\n",
              " (4, 270.92289432916374, 270.5829954958624),\n",
              " (5, 933.1512839211358, 921.7582115385268),\n",
              " (6, 2700.088200208876, 2697.8029292848373),\n",
              " (7, 69.64315097878377, 68.53229562627091),\n",
              " (8, 1784.046529504988, 1776.2703920046488),\n",
              " (9, 1689.8438427501255, 1688.7743001672957),\n",
              " (10, 233.96010857224465, 233.50774793492423),\n",
              " (11, 1626.5236574543846, 1614.5366679032643),\n",
              " (12, 595.4463993251323, 594.3839241716597),\n",
              " (13, 485.0579067746798, 484.5191706750128),\n",
              " (14, 218.49423703187043, 218.45375338461665),\n",
              " (15, 78.63512668444051, 76.14785773319956),\n",
              " (16, 281.7426873054769, 280.69021704279714),\n",
              " (17, 37.79267790690064, 37.704887457564475),\n",
              " (18, 134.39293413791393, 133.76857711888022),\n",
              " (19, 84.25120316512054, 84.1577095127768),\n",
              " (20, 150.6475102369984, 150.41951570461194),\n",
              " (21, 65.17107435870501, 65.10127843287256),\n",
              " (22, 240.03635869224865, 238.23909225828118),\n",
              " (23, 68.185183768885, 67.95374260288146)]"
            ]
          },
          "metadata": {
            "tags": []
          },
          "execution_count": 8
        }
      ]
    },
    {
      "cell_type": "markdown",
      "metadata": {
        "id": "cbZTIVCvqBW4"
      },
      "source": [
        "### 3. Ordonner / Trier les enregistrements\n",
        "\n",
        "Tout d'abord, vérifions les années et les mois avec le maximum FLOW_INcms\n"
      ]
    },
    {
      "cell_type": "code",
      "metadata": {
        "id": "HxBoe84CqBW4",
        "outputId": "8d2787c6-11aa-4bc4-9e33-f379471aa918"
      },
      "source": [
        "%%sql sqlite://\n",
        "SELECT RCH, YR, MO, MAX(FLOW_INcms)\n",
        "FROM rch\n",
        "GROUP BY RCH"
      ],
      "execution_count": null,
      "outputs": [
        {
          "output_type": "stream",
          "text": [
            "Done.\n"
          ],
          "name": "stdout"
        },
        {
          "output_type": "execute_result",
          "data": {
            "text/html": [
              "<table>\n",
              "    <tr>\n",
              "        <th>RCH</th>\n",
              "        <th>YR</th>\n",
              "        <th>MO</th>\n",
              "        <th>MAX(FLOW_INcms)</th>\n",
              "    </tr>\n",
              "    <tr>\n",
              "        <td>1</td>\n",
              "        <td>1997</td>\n",
              "        <td>7</td>\n",
              "        <td>3758.95239258</td>\n",
              "    </tr>\n",
              "    <tr>\n",
              "        <td>2</td>\n",
              "        <td>1997</td>\n",
              "        <td>7</td>\n",
              "        <td>1820.23376465</td>\n",
              "    </tr>\n",
              "    <tr>\n",
              "        <td>3</td>\n",
              "        <td>1981</td>\n",
              "        <td>5</td>\n",
              "        <td>871.117736816</td>\n",
              "    </tr>\n",
              "    <tr>\n",
              "        <td>4</td>\n",
              "        <td>1997</td>\n",
              "        <td>7</td>\n",
              "        <td>1919.54003906</td>\n",
              "    </tr>\n",
              "    <tr>\n",
              "        <td>5</td>\n",
              "        <td>1997</td>\n",
              "        <td>7</td>\n",
              "        <td>3961.94506836</td>\n",
              "    </tr>\n",
              "    <tr>\n",
              "        <td>6</td>\n",
              "        <td>1992</td>\n",
              "        <td>6</td>\n",
              "        <td>10503.7236328</td>\n",
              "    </tr>\n",
              "    <tr>\n",
              "        <td>7</td>\n",
              "        <td>1992</td>\n",
              "        <td>3</td>\n",
              "        <td>352.160858154</td>\n",
              "    </tr>\n",
              "    <tr>\n",
              "        <td>8</td>\n",
              "        <td>1994</td>\n",
              "        <td>5</td>\n",
              "        <td>7693.54345703</td>\n",
              "    </tr>\n",
              "    <tr>\n",
              "        <td>9</td>\n",
              "        <td>1994</td>\n",
              "        <td>5</td>\n",
              "        <td>7507.53515625</td>\n",
              "    </tr>\n",
              "    <tr>\n",
              "        <td>10</td>\n",
              "        <td>2010</td>\n",
              "        <td>5</td>\n",
              "        <td>1513.65100098</td>\n",
              "    </tr>\n",
              "    <tr>\n",
              "        <td>11</td>\n",
              "        <td>1994</td>\n",
              "        <td>5</td>\n",
              "        <td>7375.59814453</td>\n",
              "    </tr>\n",
              "    <tr>\n",
              "        <td>12</td>\n",
              "        <td>2010</td>\n",
              "        <td>5</td>\n",
              "        <td>3167.54492188</td>\n",
              "    </tr>\n",
              "    <tr>\n",
              "        <td>13</td>\n",
              "        <td>1997</td>\n",
              "        <td>6</td>\n",
              "        <td>3291.47900391</td>\n",
              "    </tr>\n",
              "    <tr>\n",
              "        <td>14</td>\n",
              "        <td>1997</td>\n",
              "        <td>6</td>\n",
              "        <td>1798.09533691</td>\n",
              "    </tr>\n",
              "    <tr>\n",
              "        <td>15</td>\n",
              "        <td>2010</td>\n",
              "        <td>2</td>\n",
              "        <td>445.295684814</td>\n",
              "    </tr>\n",
              "    <tr>\n",
              "        <td>16</td>\n",
              "        <td>1999</td>\n",
              "        <td>5</td>\n",
              "        <td>1628.87585449</td>\n",
              "    </tr>\n",
              "    <tr>\n",
              "        <td>17</td>\n",
              "        <td>1995</td>\n",
              "        <td>6</td>\n",
              "        <td>226.178619385</td>\n",
              "    </tr>\n",
              "    <tr>\n",
              "        <td>18</td>\n",
              "        <td>1997</td>\n",
              "        <td>6</td>\n",
              "        <td>1161.75158691</td>\n",
              "    </tr>\n",
              "    <tr>\n",
              "        <td>19</td>\n",
              "        <td>1997</td>\n",
              "        <td>6</td>\n",
              "        <td>637.02142334</td>\n",
              "    </tr>\n",
              "    <tr>\n",
              "        <td>20</td>\n",
              "        <td>1996</td>\n",
              "        <td>6</td>\n",
              "        <td>1081.85876465</td>\n",
              "    </tr>\n",
              "    <tr>\n",
              "        <td>21</td>\n",
              "        <td>1997</td>\n",
              "        <td>6</td>\n",
              "        <td>590.975463867</td>\n",
              "    </tr>\n",
              "    <tr>\n",
              "        <td>22</td>\n",
              "        <td>1997</td>\n",
              "        <td>6</td>\n",
              "        <td>1428.43603516</td>\n",
              "    </tr>\n",
              "    <tr>\n",
              "        <td>23</td>\n",
              "        <td>1997</td>\n",
              "        <td>6</td>\n",
              "        <td>604.881103516</td>\n",
              "    </tr>\n",
              "</table>"
            ],
            "text/plain": [
              "[(1, 1997, 7, 3758.952392578125),\n",
              " (2, 1997, 7, 1820.2337646484375),\n",
              " (3, 1981, 5, 871.1177368164062),\n",
              " (4, 1997, 7, 1919.5400390625),\n",
              " (5, 1997, 7, 3961.945068359375),\n",
              " (6, 1992, 6, 10503.7236328125),\n",
              " (7, 1992, 3, 352.1608581542969),\n",
              " (8, 1994, 5, 7693.54345703125),\n",
              " (9, 1994, 5, 7507.53515625),\n",
              " (10, 2010, 5, 1513.6510009765625),\n",
              " (11, 1994, 5, 7375.59814453125),\n",
              " (12, 2010, 5, 3167.544921875),\n",
              " (13, 1997, 6, 3291.47900390625),\n",
              " (14, 1997, 6, 1798.0953369140625),\n",
              " (15, 2010, 2, 445.2956848144531),\n",
              " (16, 1999, 5, 1628.8758544921875),\n",
              " (17, 1995, 6, 226.17861938476562),\n",
              " (18, 1997, 6, 1161.7515869140625),\n",
              " (19, 1997, 6, 637.0214233398438),\n",
              " (20, 1996, 6, 1081.8587646484375),\n",
              " (21, 1997, 6, 590.9754638671875),\n",
              " (22, 1997, 6, 1428.43603515625),\n",
              " (23, 1997, 6, 604.881103515625)]"
            ]
          },
          "metadata": {
            "tags": []
          },
          "execution_count": 8
        }
      ]
    },
    {
      "cell_type": "markdown",
      "metadata": {
        "id": "jWUdX2oIqBW5"
      },
      "source": [
        "Il est évident que les colonnes ***YR*** \"année\" et ***MO*** \"mois\" ne sont pas triées dans un ordre normal. \r\n",
        "\r\n",
        "C'est le bon moment pour utiliser la clause ***ORDER BY***, que vous pouvez placer à la fin d'une instruction SQL (après un WHERE et un GROUP BY). \r\n",
        "\r\n",
        "Nous pouvons trier les résultats de la requête par année, puis par mois.\r\n"
      ]
    },
    {
      "cell_type": "code",
      "metadata": {
        "colab": {
          "base_uri": "https://localhost:8080/",
          "height": 540
        },
        "id": "ylU7Ls5JqBW5",
        "outputId": "3406d1c5-a3eb-4e28-b2a8-95a8ab536a1b"
      },
      "source": [
        "%%sql sqlite://\n",
        "SELECT RCH, YR, MO, ROUND(MAX(FLOW_INcms),2)\n",
        "FROM rch\n",
        "GROUP BY RCH\n",
        "ORDER BY YR, MO"
      ],
      "execution_count": 9,
      "outputs": [
        {
          "output_type": "stream",
          "text": [
            "Done.\n"
          ],
          "name": "stdout"
        },
        {
          "output_type": "execute_result",
          "data": {
            "text/html": [
              "<table>\n",
              "    <thead>\n",
              "        <tr>\n",
              "            <th>RCH</th>\n",
              "            <th>YR</th>\n",
              "            <th>MO</th>\n",
              "            <th>ROUND(MAX(FLOW_INcms),2)</th>\n",
              "        </tr>\n",
              "    </thead>\n",
              "    <tbody>\n",
              "        <tr>\n",
              "            <td>3</td>\n",
              "            <td>1981</td>\n",
              "            <td>5</td>\n",
              "            <td>871.12</td>\n",
              "        </tr>\n",
              "        <tr>\n",
              "            <td>7</td>\n",
              "            <td>1992</td>\n",
              "            <td>3</td>\n",
              "            <td>352.16</td>\n",
              "        </tr>\n",
              "        <tr>\n",
              "            <td>6</td>\n",
              "            <td>1992</td>\n",
              "            <td>6</td>\n",
              "            <td>10503.72</td>\n",
              "        </tr>\n",
              "        <tr>\n",
              "            <td>8</td>\n",
              "            <td>1994</td>\n",
              "            <td>5</td>\n",
              "            <td>7693.54</td>\n",
              "        </tr>\n",
              "        <tr>\n",
              "            <td>9</td>\n",
              "            <td>1994</td>\n",
              "            <td>5</td>\n",
              "            <td>7507.54</td>\n",
              "        </tr>\n",
              "        <tr>\n",
              "            <td>11</td>\n",
              "            <td>1994</td>\n",
              "            <td>5</td>\n",
              "            <td>7375.6</td>\n",
              "        </tr>\n",
              "        <tr>\n",
              "            <td>17</td>\n",
              "            <td>1995</td>\n",
              "            <td>6</td>\n",
              "            <td>226.18</td>\n",
              "        </tr>\n",
              "        <tr>\n",
              "            <td>20</td>\n",
              "            <td>1996</td>\n",
              "            <td>6</td>\n",
              "            <td>1081.86</td>\n",
              "        </tr>\n",
              "        <tr>\n",
              "            <td>13</td>\n",
              "            <td>1997</td>\n",
              "            <td>6</td>\n",
              "            <td>3291.48</td>\n",
              "        </tr>\n",
              "        <tr>\n",
              "            <td>14</td>\n",
              "            <td>1997</td>\n",
              "            <td>6</td>\n",
              "            <td>1798.1</td>\n",
              "        </tr>\n",
              "        <tr>\n",
              "            <td>18</td>\n",
              "            <td>1997</td>\n",
              "            <td>6</td>\n",
              "            <td>1161.75</td>\n",
              "        </tr>\n",
              "        <tr>\n",
              "            <td>19</td>\n",
              "            <td>1997</td>\n",
              "            <td>6</td>\n",
              "            <td>637.02</td>\n",
              "        </tr>\n",
              "        <tr>\n",
              "            <td>21</td>\n",
              "            <td>1997</td>\n",
              "            <td>6</td>\n",
              "            <td>590.98</td>\n",
              "        </tr>\n",
              "        <tr>\n",
              "            <td>22</td>\n",
              "            <td>1997</td>\n",
              "            <td>6</td>\n",
              "            <td>1428.44</td>\n",
              "        </tr>\n",
              "        <tr>\n",
              "            <td>23</td>\n",
              "            <td>1997</td>\n",
              "            <td>6</td>\n",
              "            <td>604.88</td>\n",
              "        </tr>\n",
              "        <tr>\n",
              "            <td>1</td>\n",
              "            <td>1997</td>\n",
              "            <td>7</td>\n",
              "            <td>3758.95</td>\n",
              "        </tr>\n",
              "        <tr>\n",
              "            <td>2</td>\n",
              "            <td>1997</td>\n",
              "            <td>7</td>\n",
              "            <td>1820.23</td>\n",
              "        </tr>\n",
              "        <tr>\n",
              "            <td>4</td>\n",
              "            <td>1997</td>\n",
              "            <td>7</td>\n",
              "            <td>1919.54</td>\n",
              "        </tr>\n",
              "        <tr>\n",
              "            <td>5</td>\n",
              "            <td>1997</td>\n",
              "            <td>7</td>\n",
              "            <td>3961.95</td>\n",
              "        </tr>\n",
              "        <tr>\n",
              "            <td>16</td>\n",
              "            <td>1999</td>\n",
              "            <td>5</td>\n",
              "            <td>1628.88</td>\n",
              "        </tr>\n",
              "        <tr>\n",
              "            <td>15</td>\n",
              "            <td>2010</td>\n",
              "            <td>2</td>\n",
              "            <td>445.3</td>\n",
              "        </tr>\n",
              "        <tr>\n",
              "            <td>10</td>\n",
              "            <td>2010</td>\n",
              "            <td>5</td>\n",
              "            <td>1513.65</td>\n",
              "        </tr>\n",
              "        <tr>\n",
              "            <td>12</td>\n",
              "            <td>2010</td>\n",
              "            <td>5</td>\n",
              "            <td>3167.54</td>\n",
              "        </tr>\n",
              "    </tbody>\n",
              "</table>"
            ],
            "text/plain": [
              "[(3, 1981, 5, 871.12),\n",
              " (7, 1992, 3, 352.16),\n",
              " (6, 1992, 6, 10503.72),\n",
              " (8, 1994, 5, 7693.54),\n",
              " (9, 1994, 5, 7507.54),\n",
              " (11, 1994, 5, 7375.6),\n",
              " (17, 1995, 6, 226.18),\n",
              " (20, 1996, 6, 1081.86),\n",
              " (13, 1997, 6, 3291.48),\n",
              " (14, 1997, 6, 1798.1),\n",
              " (18, 1997, 6, 1161.75),\n",
              " (19, 1997, 6, 637.02),\n",
              " (21, 1997, 6, 590.98),\n",
              " (22, 1997, 6, 1428.44),\n",
              " (23, 1997, 6, 604.88),\n",
              " (1, 1997, 7, 3758.95),\n",
              " (2, 1997, 7, 1820.23),\n",
              " (4, 1997, 7, 1919.54),\n",
              " (5, 1997, 7, 3961.95),\n",
              " (16, 1999, 5, 1628.88),\n",
              " (15, 2010, 2, 445.3),\n",
              " (10, 2010, 5, 1513.65),\n",
              " (12, 2010, 5, 3167.54)]"
            ]
          },
          "metadata": {
            "tags": []
          },
          "execution_count": 9
        }
      ]
    },
    {
      "cell_type": "markdown",
      "metadata": {
        "id": "hiDOXiSvqBW5"
      },
      "source": [
        "Par défaut, le tri se fait avec le paramètre ***ASC***, qui classe donc les données par ordre croissant. \r\n",
        "\r\n",
        "Nous pouvons trier par ordre décroissant en appliquant l'option ***DESC***.\r\n"
      ]
    },
    {
      "cell_type": "code",
      "metadata": {
        "colab": {
          "base_uri": "https://localhost:8080/",
          "height": 540
        },
        "id": "LbaVKNaeqBW5",
        "outputId": "c9fc7c2d-df36-4d1d-c553-267d7b81d7fb"
      },
      "source": [
        "%%sql sqlite://\n",
        "SELECT RCH, YR, MO, ROUND(MAX(FLOW_INcms),2)\n",
        "FROM rch\n",
        "GROUP BY RCH\n",
        "ORDER BY YR DESC, MO"
      ],
      "execution_count": 10,
      "outputs": [
        {
          "output_type": "stream",
          "text": [
            "Done.\n"
          ],
          "name": "stdout"
        },
        {
          "output_type": "execute_result",
          "data": {
            "text/html": [
              "<table>\n",
              "    <thead>\n",
              "        <tr>\n",
              "            <th>RCH</th>\n",
              "            <th>YR</th>\n",
              "            <th>MO</th>\n",
              "            <th>ROUND(MAX(FLOW_INcms),2)</th>\n",
              "        </tr>\n",
              "    </thead>\n",
              "    <tbody>\n",
              "        <tr>\n",
              "            <td>15</td>\n",
              "            <td>2010</td>\n",
              "            <td>2</td>\n",
              "            <td>445.3</td>\n",
              "        </tr>\n",
              "        <tr>\n",
              "            <td>10</td>\n",
              "            <td>2010</td>\n",
              "            <td>5</td>\n",
              "            <td>1513.65</td>\n",
              "        </tr>\n",
              "        <tr>\n",
              "            <td>12</td>\n",
              "            <td>2010</td>\n",
              "            <td>5</td>\n",
              "            <td>3167.54</td>\n",
              "        </tr>\n",
              "        <tr>\n",
              "            <td>16</td>\n",
              "            <td>1999</td>\n",
              "            <td>5</td>\n",
              "            <td>1628.88</td>\n",
              "        </tr>\n",
              "        <tr>\n",
              "            <td>13</td>\n",
              "            <td>1997</td>\n",
              "            <td>6</td>\n",
              "            <td>3291.48</td>\n",
              "        </tr>\n",
              "        <tr>\n",
              "            <td>14</td>\n",
              "            <td>1997</td>\n",
              "            <td>6</td>\n",
              "            <td>1798.1</td>\n",
              "        </tr>\n",
              "        <tr>\n",
              "            <td>18</td>\n",
              "            <td>1997</td>\n",
              "            <td>6</td>\n",
              "            <td>1161.75</td>\n",
              "        </tr>\n",
              "        <tr>\n",
              "            <td>19</td>\n",
              "            <td>1997</td>\n",
              "            <td>6</td>\n",
              "            <td>637.02</td>\n",
              "        </tr>\n",
              "        <tr>\n",
              "            <td>21</td>\n",
              "            <td>1997</td>\n",
              "            <td>6</td>\n",
              "            <td>590.98</td>\n",
              "        </tr>\n",
              "        <tr>\n",
              "            <td>22</td>\n",
              "            <td>1997</td>\n",
              "            <td>6</td>\n",
              "            <td>1428.44</td>\n",
              "        </tr>\n",
              "        <tr>\n",
              "            <td>23</td>\n",
              "            <td>1997</td>\n",
              "            <td>6</td>\n",
              "            <td>604.88</td>\n",
              "        </tr>\n",
              "        <tr>\n",
              "            <td>1</td>\n",
              "            <td>1997</td>\n",
              "            <td>7</td>\n",
              "            <td>3758.95</td>\n",
              "        </tr>\n",
              "        <tr>\n",
              "            <td>2</td>\n",
              "            <td>1997</td>\n",
              "            <td>7</td>\n",
              "            <td>1820.23</td>\n",
              "        </tr>\n",
              "        <tr>\n",
              "            <td>4</td>\n",
              "            <td>1997</td>\n",
              "            <td>7</td>\n",
              "            <td>1919.54</td>\n",
              "        </tr>\n",
              "        <tr>\n",
              "            <td>5</td>\n",
              "            <td>1997</td>\n",
              "            <td>7</td>\n",
              "            <td>3961.95</td>\n",
              "        </tr>\n",
              "        <tr>\n",
              "            <td>20</td>\n",
              "            <td>1996</td>\n",
              "            <td>6</td>\n",
              "            <td>1081.86</td>\n",
              "        </tr>\n",
              "        <tr>\n",
              "            <td>17</td>\n",
              "            <td>1995</td>\n",
              "            <td>6</td>\n",
              "            <td>226.18</td>\n",
              "        </tr>\n",
              "        <tr>\n",
              "            <td>8</td>\n",
              "            <td>1994</td>\n",
              "            <td>5</td>\n",
              "            <td>7693.54</td>\n",
              "        </tr>\n",
              "        <tr>\n",
              "            <td>9</td>\n",
              "            <td>1994</td>\n",
              "            <td>5</td>\n",
              "            <td>7507.54</td>\n",
              "        </tr>\n",
              "        <tr>\n",
              "            <td>11</td>\n",
              "            <td>1994</td>\n",
              "            <td>5</td>\n",
              "            <td>7375.6</td>\n",
              "        </tr>\n",
              "        <tr>\n",
              "            <td>7</td>\n",
              "            <td>1992</td>\n",
              "            <td>3</td>\n",
              "            <td>352.16</td>\n",
              "        </tr>\n",
              "        <tr>\n",
              "            <td>6</td>\n",
              "            <td>1992</td>\n",
              "            <td>6</td>\n",
              "            <td>10503.72</td>\n",
              "        </tr>\n",
              "        <tr>\n",
              "            <td>3</td>\n",
              "            <td>1981</td>\n",
              "            <td>5</td>\n",
              "            <td>871.12</td>\n",
              "        </tr>\n",
              "    </tbody>\n",
              "</table>"
            ],
            "text/plain": [
              "[(15, 2010, 2, 445.3),\n",
              " (10, 2010, 5, 1513.65),\n",
              " (12, 2010, 5, 3167.54),\n",
              " (16, 1999, 5, 1628.88),\n",
              " (13, 1997, 6, 3291.48),\n",
              " (14, 1997, 6, 1798.1),\n",
              " (18, 1997, 6, 1161.75),\n",
              " (19, 1997, 6, 637.02),\n",
              " (21, 1997, 6, 590.98),\n",
              " (22, 1997, 6, 1428.44),\n",
              " (23, 1997, 6, 604.88),\n",
              " (1, 1997, 7, 3758.95),\n",
              " (2, 1997, 7, 1820.23),\n",
              " (4, 1997, 7, 1919.54),\n",
              " (5, 1997, 7, 3961.95),\n",
              " (20, 1996, 6, 1081.86),\n",
              " (17, 1995, 6, 226.18),\n",
              " (8, 1994, 5, 7693.54),\n",
              " (9, 1994, 5, 7507.54),\n",
              " (11, 1994, 5, 7375.6),\n",
              " (7, 1992, 3, 352.16),\n",
              " (6, 1992, 6, 10503.72),\n",
              " (3, 1981, 5, 871.12)]"
            ]
          },
          "metadata": {
            "tags": []
          },
          "execution_count": 10
        }
      ]
    },
    {
      "cell_type": "markdown",
      "metadata": {
        "id": "sPE-RX_rqBW5"
      },
      "source": [
        "### 4. Filtrer les données sur les groupes avec la clause HAVING\n",
        "\n",
        "Parfois, nous souhaitons filtrer les enregistrements en fonction d'un groupe ou d'une valeur agrégée. \n",
        "\n",
        "Alors que le premier réflexe serait peut être d'utiliser une instruction WHERE, cela ne fonctionnera pas car le WHERE filtre les enregistrements et ne filtre pas les agrégations. \n",
        "\n",
        "Par exemple, nous essayons d'utiliser un WHERE pour filtrer les résultats où MAX (FLOW_INcms) est supérieur à 3000. \n",
        "\n",
        "Cela obtiendra une sqlite3.OperationalError pour cause de mauvaise utilisation de la fonction d'agrégation."
      ]
    },
    {
      "cell_type": "code",
      "metadata": {
        "id": "-1xbuAttqBW6",
        "outputId": "3d9e3d47-3f7b-4467-8d61-e4b7490cc931"
      },
      "source": [
        "%%sql sqlite://\n",
        "SELECT RCH, YR, MO, MAX(FLOW_INcms) as MAX_FLOWIN\n",
        "FROM rch\n",
        "WHERE MAX_FLOWIN > 3000.0\n",
        "GROUP BY RCH\n",
        "ORDER BY YR DESC, MO"
      ],
      "execution_count": null,
      "outputs": [
        {
          "output_type": "stream",
          "text": [
            "(sqlite3.OperationalError) misuse of aggregate: MAX() [SQL: u'SELECT RCH, YR, MO, MAX(FLOW_INcms) as MAX_FLOWIN\\nFROM rch\\nWHERE MAX_FLOWIN > 3000.0\\nGROUP BY RCH\\nORDER BY YR DESC, MO']\n"
          ],
          "name": "stdout"
        }
      ]
    },
    {
      "cell_type": "markdown",
      "metadata": {
        "id": "xXV_m-kcqBW6"
      },
      "source": [
        "Dans ce cas, nous utiliserons la clause ***HAVING*** pour spécifier une condition de filtre pour un groupe ou un agrégat. \n",
        "\n",
        "La clause HAVING est une clause facultative de l'instruction SELECT. \n",
        "\n",
        "Nous utilisons souvent la clause HAVING avec la clause GROUP BY. \n",
        "\n",
        "La clause GROUP BY regroupe un ensemble de lignes en un ensemble de lignes ou de groupes récapitulatifs. \n",
        "\n",
        "La clause HAVING filtre ensuite les groupes en fonction des conditions spécifiées.\n",
        "\n",
        "*** Il est à noter que la clause HAVING doit suivre strictement la clause GROUP BY. ***\n"
      ]
    },
    {
      "cell_type": "code",
      "metadata": {
        "id": "HRXH43tIqBW6",
        "outputId": "e6d2807c-618b-46ea-eece-c78976a6b1bb"
      },
      "source": [
        "%%sql sqlite://\n",
        "SELECT RCH, YR, MO, MAX(FLOW_INcms) as MAX_FLOWIN\n",
        "FROM rch\n",
        "GROUP BY RCH\n",
        "HAVING MAX_FLOWIN > 3000.0\n",
        "ORDER BY YR DESC, MO"
      ],
      "execution_count": null,
      "outputs": [
        {
          "output_type": "stream",
          "text": [
            "Done.\n"
          ],
          "name": "stdout"
        },
        {
          "output_type": "execute_result",
          "data": {
            "text/html": [
              "<table>\n",
              "    <tr>\n",
              "        <th>RCH</th>\n",
              "        <th>YR</th>\n",
              "        <th>MO</th>\n",
              "        <th>MAX_FLOWIN</th>\n",
              "    </tr>\n",
              "    <tr>\n",
              "        <td>12</td>\n",
              "        <td>2010</td>\n",
              "        <td>5</td>\n",
              "        <td>3167.54492188</td>\n",
              "    </tr>\n",
              "    <tr>\n",
              "        <td>13</td>\n",
              "        <td>1997</td>\n",
              "        <td>6</td>\n",
              "        <td>3291.47900391</td>\n",
              "    </tr>\n",
              "    <tr>\n",
              "        <td>1</td>\n",
              "        <td>1997</td>\n",
              "        <td>7</td>\n",
              "        <td>3758.95239258</td>\n",
              "    </tr>\n",
              "    <tr>\n",
              "        <td>5</td>\n",
              "        <td>1997</td>\n",
              "        <td>7</td>\n",
              "        <td>3961.94506836</td>\n",
              "    </tr>\n",
              "    <tr>\n",
              "        <td>8</td>\n",
              "        <td>1994</td>\n",
              "        <td>5</td>\n",
              "        <td>7693.54345703</td>\n",
              "    </tr>\n",
              "    <tr>\n",
              "        <td>9</td>\n",
              "        <td>1994</td>\n",
              "        <td>5</td>\n",
              "        <td>7507.53515625</td>\n",
              "    </tr>\n",
              "    <tr>\n",
              "        <td>11</td>\n",
              "        <td>1994</td>\n",
              "        <td>5</td>\n",
              "        <td>7375.59814453</td>\n",
              "    </tr>\n",
              "    <tr>\n",
              "        <td>6</td>\n",
              "        <td>1992</td>\n",
              "        <td>6</td>\n",
              "        <td>10503.7236328</td>\n",
              "    </tr>\n",
              "</table>"
            ],
            "text/plain": [
              "[(12, 2010, 5, 3167.544921875),\n",
              " (13, 1997, 6, 3291.47900390625),\n",
              " (1, 1997, 7, 3758.952392578125),\n",
              " (5, 1997, 7, 3961.945068359375),\n",
              " (8, 1994, 5, 7693.54345703125),\n",
              " (9, 1994, 5, 7507.53515625),\n",
              " (11, 1994, 5, 7375.59814453125),\n",
              " (6, 1992, 6, 10503.7236328125)]"
            ]
          },
          "metadata": {
            "tags": []
          },
          "execution_count": 12
        }
      ]
    },
    {
      "cell_type": "markdown",
      "metadata": {
        "id": "0KqR6LHFqBW6"
      },
      "source": [
        "### Conclusion du notebook \n",
        "\n",
        "Dans ce TP, nous avons appris à utiliser l'opérateur DISTINCT afin d'obtenir des résultats distincts dans nos requêtes, et ainsi éliminer les doublons.\n",
        "\n",
        "Ensuite, nous avons appris comment agréger et trier les données à l'aide de GROUP BY et ORDER BY.\n",
        "\n",
        "Nous avons également montré la puissance des fonctions d'agrégation de SUM(), MAX(), MIN(), AVG() et COUNT().\n",
        "\n",
        "De plus, nous avons utilisé la clause HAVING pour filtrer les champs agrégés, ce qui ne peut pas être traité avec la clause WHERE.\n"
      ]
    }
  ]
}