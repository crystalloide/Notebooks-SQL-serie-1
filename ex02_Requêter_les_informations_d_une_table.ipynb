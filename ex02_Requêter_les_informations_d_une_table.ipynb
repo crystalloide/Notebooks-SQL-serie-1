{
  "nbformat": 4,
  "nbformat_minor": 0,
  "metadata": {
    "kernelspec": {
      "display_name": "Python [conda root]",
      "language": "python",
      "name": "conda-root-py"
    },
    "language_info": {
      "codemirror_mode": {
        "name": "ipython",
        "version": 2
      },
      "file_extension": ".py",
      "mimetype": "text/x-python",
      "name": "python",
      "nbconvert_exporter": "python",
      "pygments_lexer": "ipython2",
      "version": "2.7.12"
    },
    "colab": {
      "name": "ex02_Requêter_les_informations_d_une_table.ipynb",
      "provenance": [],
      "collapsed_sections": []
    }
  },
  "cells": [
    {
      "cell_type": "markdown",
      "metadata": {
        "id": "Lm7lk4czOr6o"
      },
      "source": [
        "# ex02 - Requêter les informations d'une Table\n",
        "\n",
        "Ce notebook va permettre d'interroger le nombre de tables et les colonnes d'une table présents dans une database (base de données) via une commande **SELECT**"
      ]
    },
    {
      "cell_type": "code",
      "metadata": {
        "id": "gC9qMLalOr6p"
      },
      "source": [
        "%load_ext sql"
      ],
      "execution_count": 8,
      "outputs": []
    },
    {
      "cell_type": "markdown",
      "metadata": {
        "deletable": false,
        "editable": false,
        "nbgrader": {
          "cell_type": "markdown",
          "checksum": "cee8e933b07ec562a7ac002fbe442c68",
          "grade": false,
          "grade_id": "cell-731e862b0a98531c",
          "locked": true,
          "schema_version": 3,
          "solution": false,
          "task": false
        },
        "id": "rU0songMemi3"
      },
      "source": [
        "# Découverte de Google Colaboratory\n",
        "\n",
        "\n",
        "### Quelques astuces avant de débuter le notebook SQL"
      ]
    },
    {
      "cell_type": "markdown",
      "metadata": {
        "id": "PX8IB5LdjqtC"
      },
      "source": [
        "Rappel : Pour modifier une cellule : Double-cliquez (ou appuyez sur Entrée) "
      ]
    },
    {
      "cell_type": "markdown",
      "metadata": {
        "id": "V_7yXjyakPgy"
      },
      "source": [
        "Pour connecter son espace Google Drive et donc ensuite pouvoir : \n",
        "\n",
        "**- récupérer un fichier** prélablement enregistré\n",
        "\n",
        "**- sauvegarder un résultat**\n",
        "\n",
        "**- rendre persistant un fichier** que nous ré-utiliserons plus tard dans un autre notebook\n"
      ]
    },
    {
      "cell_type": "code",
      "metadata": {
        "colab": {
          "base_uri": "https://localhost:8080/"
        },
        "id": "89Juyv_XBgSJ",
        "outputId": "9d169ba7-e4e5-45ed-d15c-c00ebaaf8ed6"
      },
      "source": [
        "from google.colab import drive\n",
        "# drive.mount('/content/gdrive')\n",
        "drive.mount(\"/content/gdrive\", force_remount=True)\n"
      ],
      "execution_count": 1,
      "outputs": [
        {
          "output_type": "stream",
          "name": "stdout",
          "text": [
            "Mounted at /content/gdrive\n"
          ]
        }
      ]
    },
    {
      "cell_type": "code",
      "metadata": {
        "id": "HD8msEfjgNmF"
      },
      "source": [
        "# Pour récupérer dans votre notebook Google Colaboratory un fichier situé sur votre poste de travail :\n",
        "# from google.colab import files\n",
        "# files.upload()"
      ],
      "execution_count": 2,
      "outputs": []
    },
    {
      "cell_type": "markdown",
      "metadata": {
        "id": "OSwTfT57ngAM"
      },
      "source": [
        "***Attention, le contexte de travail d'un notebook n'est pas persistant : ***\n",
        "\n",
        "si vous relancez ou redémarrez un environnement d'exécution, les données de la dernière fois ne seront plus présentes, d'où l'intérêt de travailler sur un espace Google Drive si besoin de conserver des fichiers de façon permanente."
      ]
    },
    {
      "cell_type": "markdown",
      "metadata": {
        "id": "i3G3M4trmbu4"
      },
      "source": [
        "Pour se placer dans le répertoire de travail \"Partage/Notebooks_Serie_1\" dans mon Drive Google :\n",
        "\n",
        "(c'est-à-dire en réalité, vu de mon notebook, dans :\n",
        "/content/gdrive/MyDrive/Partage/Notebooks_Serie_1/)"
      ]
    },
    {
      "cell_type": "code",
      "metadata": {
        "colab": {
          "base_uri": "https://localhost:8080/"
        },
        "id": "r0XYDX-yEs12",
        "outputId": "c623b426-ad5d-4be2-d5a0-dfc20282a6bd"
      },
      "source": [
        "# Pour se placer dans le répertoire de travail /content/gdrive/MyDrive/Partage/Notebooks-SQL-serie-1-main/  :\n",
        "%cd /content/gdrive/MyDrive/Partage/Notebooks-SQL-serie-1-main/ \n"
      ],
      "execution_count": 3,
      "outputs": [
        {
          "output_type": "stream",
          "name": "stdout",
          "text": [
            "/content/gdrive/MyDrive/Partage/Notebooks-SQL-serie-1-main\n"
          ]
        }
      ]
    },
    {
      "cell_type": "markdown",
      "metadata": {
        "id": "feVRtUqZnWuq"
      },
      "source": [
        "\n",
        "\n",
        "Pour afficher le contenu du répertoire courant dans notre notebook : "
      ]
    },
    {
      "cell_type": "code",
      "metadata": {
        "colab": {
          "base_uri": "https://localhost:8080/"
        },
        "id": "QoNNjGE3CaQZ",
        "outputId": "890a73f8-a3e0-43d0-cc3e-e1040d01e4dd"
      },
      "source": [
        "%ls "
      ],
      "execution_count": 4,
      "outputs": [
        {
          "output_type": "stream",
          "name": "stdout",
          "text": [
            "\u001b[0m\u001b[01;34m'Annexes URL'\u001b[0m/\n",
            " \u001b[01;34mdata\u001b[0m/\n",
            " ex00_Introduction.ipynb\n",
            " ex01_Premières_requêtes_sur_une_database_vide.ipynb\n",
            " ex02_Requêter_les_informations_d_une_table.ipynb\n",
            " ex03_Récupération_de_données_avec_SELECT.ipynb\n",
            " ex04_Limiter_le_nombre_de_lignes_renvoyées_par_une_requête_SELECT.ipynb\n",
            " ex05_Filtrage_d_une_requête_avec_WHERE.ipynb\n",
            " ex06_Faire_des_opérations_mathématiques_sur_les_colonnes_d_une_table.ipynb\n",
            " ex07_Agrégation_des_données_avec_GROUP_BY_et_ORDER_BY.ipynb\n",
            " ex08_Jointure_entre_Tables.ipynb\n",
            " ex09_Techniques_avancées_de_requête_avec_utilisation_de_CASE_et_de_sous_requête.ipynb\n",
            " ex10_Utilisation_des_vues_pour_simplifier_les_requêtes.ipynb\n",
            " ex11_Gérer_des_valeurs_NULL.ipynb\n",
            " ex12_Bonus_interactions_avec_Panda.ipynb\n",
            " ex13_Utilisation_de_SQLite_comme_base_de_données_Time_Series.ipynb\n",
            " README.md\n",
            "'s01-Transaction (Begin, Commit, Rollback).ipynb'\n",
            "'s02-Accessing a SQLite Database with Pandas.ipynb'\n"
          ]
        }
      ]
    },
    {
      "cell_type": "markdown",
      "metadata": {
        "id": "p7ocqz3rmO7o"
      },
      "source": [
        "\n",
        "Remarque : Pour supprimer un fichier si besoin :\n",
        "\n",
        "%rm **chemin_et_nom_du_fichier_à_supprimer**"
      ]
    },
    {
      "cell_type": "code",
      "metadata": {
        "id": "RVrM0v6nRyDi"
      },
      "source": [
        "# Si besoin de supprimer les fichiers \"livre*\" déjà présents dans le répertoire de travail /content/gdrive/MyDrive/Partage \n",
        "# %rm /content/gdrive/MyDrive/Partage/livre*.*"
      ],
      "execution_count": null,
      "outputs": []
    },
    {
      "cell_type": "code",
      "metadata": {
        "id": "-SLxCwqSfich"
      },
      "source": [
        "# Pour télécharger, sur votre poste de travail, le fichier /content/gdrive/MyDrive/Partage/livres_db créé dans le notebook :\n",
        "\n",
        "# from google.colab import files\n",
        "# files.download('/content/gdrive/MyDrive/Partage/livres_db')\n"
      ],
      "execution_count": null,
      "outputs": []
    },
    {
      "cell_type": "markdown",
      "metadata": {
        "id": "FVe6WPiUk76_"
      },
      "source": [
        "Pour modifier le répertoire courant utilisé dans votre notebook Google Colaboratory : "
      ]
    },
    {
      "cell_type": "code",
      "metadata": {
        "colab": {
          "base_uri": "https://localhost:8080/"
        },
        "id": "4BA1A_enCXYH",
        "outputId": "eb14fed6-14a6-4e90-9622-9b447ee9ca6a"
      },
      "source": [
        "%cd /content/"
      ],
      "execution_count": 5,
      "outputs": [
        {
          "output_type": "stream",
          "name": "stdout",
          "text": [
            "/content\n"
          ]
        }
      ]
    },
    {
      "cell_type": "markdown",
      "metadata": {
        "id": "_n4JHCmeo7uD"
      },
      "source": [
        "Pour afficher l'arborescence du répertoire courant utilisé dans votre notebook Google Colaboratory :"
      ]
    },
    {
      "cell_type": "code",
      "metadata": {
        "colab": {
          "base_uri": "https://localhost:8080/",
          "height": 35
        },
        "id": "3r4W95EYE2nX",
        "outputId": "2d691444-a09f-4429-d3c2-3b91543e8671"
      },
      "source": [
        "%pwd"
      ],
      "execution_count": 6,
      "outputs": [
        {
          "output_type": "execute_result",
          "data": {
            "application/vnd.google.colaboratory.intrinsic+json": {
              "type": "string"
            },
            "text/plain": [
              "'/content'"
            ]
          },
          "metadata": {},
          "execution_count": 6
        }
      ]
    },
    {
      "cell_type": "markdown",
      "metadata": {
        "id": "B9k_FV17Or6q"
      },
      "source": [
        "### Connexion à la Database fournie pour le TP : demo.db3"
      ]
    },
    {
      "cell_type": "code",
      "metadata": {
        "colab": {
          "base_uri": "https://localhost:8080/",
          "height": 35
        },
        "id": "Jxq7_jluOr6q",
        "outputId": "7ea7de95-502c-48ae-a0f2-deed1d7d2ecb"
      },
      "source": [
        "%sql sqlite:////content/gdrive/MyDrive/Partage/Notebooks-SQL-serie-1-main/data/demo.db3"
      ],
      "execution_count": 9,
      "outputs": [
        {
          "output_type": "execute_result",
          "data": {
            "application/vnd.google.colaboratory.intrinsic+json": {
              "type": "string"
            },
            "text/plain": [
              "'Connected: @/content/gdrive/MyDrive/Partage/Notebooks-SQL-serie-1-main/data/demo.db3'"
            ]
          },
          "metadata": {},
          "execution_count": 9
        }
      ]
    },
    {
      "cell_type": "markdown",
      "metadata": {
        "id": "YZda64NhOr6r"
      },
      "source": [
        "### Lister les tables contenues dans une database (base de données)\n",
        "\n",
        "Les noms de table et d'index peuvent être listés en faisant un **SELECT** sur une table spéciale nommée \"***SQLITE_MASTER***\". \n",
        "\n",
        "Chaque base de données SQLite possède une table SQLITE_MASTER qui définit le schéma de la base de données. \n",
        "\n",
        "Pour les tables, le champ ***type*** sera toujours '***table***' et le champ '***nom***' sera le nom de la table. \n",
        "\n",
        "Donc, pour obtenir une liste de toutes les tables de la base de données, utilisez la commande SELECT suivante:\n",
        "\n",
        "En savoir plus sur https://www.sqlite.org/faq.html#q7."
      ]
    },
    {
      "cell_type": "code",
      "metadata": {
        "colab": {
          "base_uri": "https://localhost:8080/",
          "height": 451
        },
        "id": "B__GkYoYOr6r",
        "outputId": "522d7623-0c20-4d85-c4b2-9ad49a6e0fb1"
      },
      "source": [
        "%sql SELECT name FROM sqlite_master WHERE type='table'"
      ],
      "execution_count": 10,
      "outputs": [
        {
          "output_type": "stream",
          "name": "stdout",
          "text": [
            " * sqlite:////content/gdrive/MyDrive/Partage/Notebooks-SQL-serie-1-main/data/demo.db3\n",
            "Done.\n"
          ]
        },
        {
          "output_type": "execute_result",
          "data": {
            "text/html": [
              "<table>\n",
              "    <thead>\n",
              "        <tr>\n",
              "            <th>name</th>\n",
              "        </tr>\n",
              "    </thead>\n",
              "    <tbody>\n",
              "        <tr>\n",
              "            <td>rch</td>\n",
              "        </tr>\n",
              "        <tr>\n",
              "            <td>hru</td>\n",
              "        </tr>\n",
              "        <tr>\n",
              "            <td>sub</td>\n",
              "        </tr>\n",
              "        <tr>\n",
              "            <td>sed</td>\n",
              "        </tr>\n",
              "        <tr>\n",
              "            <td>watershed_daily</td>\n",
              "        </tr>\n",
              "        <tr>\n",
              "            <td>watershed_monthly</td>\n",
              "        </tr>\n",
              "        <tr>\n",
              "            <td>watershed_yearly</td>\n",
              "        </tr>\n",
              "        <tr>\n",
              "            <td>channel_dimension</td>\n",
              "        </tr>\n",
              "        <tr>\n",
              "            <td>hru_info</td>\n",
              "        </tr>\n",
              "        <tr>\n",
              "            <td>sub_info</td>\n",
              "        </tr>\n",
              "        <tr>\n",
              "            <td>rch_info</td>\n",
              "        </tr>\n",
              "        <tr>\n",
              "            <td>ave_plant</td>\n",
              "        </tr>\n",
              "        <tr>\n",
              "            <td>ave_annual_hru</td>\n",
              "        </tr>\n",
              "        <tr>\n",
              "            <td>ave_monthly_basin</td>\n",
              "        </tr>\n",
              "        <tr>\n",
              "            <td>ave_annual_basin</td>\n",
              "        </tr>\n",
              "        <tr>\n",
              "            <td>sqlite_sequence</td>\n",
              "        </tr>\n",
              "        <tr>\n",
              "            <td>watershed_yearly_bk</td>\n",
              "        </tr>\n",
              "        <tr>\n",
              "            <td>Temperature</td>\n",
              "        </tr>\n",
              "    </tbody>\n",
              "</table>"
            ],
            "text/plain": [
              "[('rch',),\n",
              " ('hru',),\n",
              " ('sub',),\n",
              " ('sed',),\n",
              " ('watershed_daily',),\n",
              " ('watershed_monthly',),\n",
              " ('watershed_yearly',),\n",
              " ('channel_dimension',),\n",
              " ('hru_info',),\n",
              " ('sub_info',),\n",
              " ('rch_info',),\n",
              " ('ave_plant',),\n",
              " ('ave_annual_hru',),\n",
              " ('ave_monthly_basin',),\n",
              " ('ave_annual_basin',),\n",
              " ('sqlite_sequence',),\n",
              " ('watershed_yearly_bk',),\n",
              " ('Temperature',)]"
            ]
          },
          "metadata": {},
          "execution_count": 10
        }
      ]
    },
    {
      "cell_type": "markdown",
      "metadata": {
        "id": "4ToH77rLOr6r"
      },
      "source": [
        "### Lister les colonnes d'une table donnée :\n",
        "\n",
        "Nous prenons ici l'exemple de la table \"***rch***\""
      ]
    },
    {
      "cell_type": "code",
      "metadata": {
        "colab": {
          "base_uri": "https://localhost:8080/",
          "height": 96
        },
        "id": "hQOizILlOr6s",
        "outputId": "9e79ab06-a94d-47d8-f5f2-20ef824d626c"
      },
      "source": [
        "%sql select * from rch where 1=0"
      ],
      "execution_count": null,
      "outputs": [
        {
          "output_type": "stream",
          "text": [
            " * sqlite:////content/gdrive/MyDrive/Partage/Notebooks_Serie_1/demo.db3\n",
            "Done.\n"
          ],
          "name": "stdout"
        },
        {
          "output_type": "execute_result",
          "data": {
            "text/html": [
              "<table>\n",
              "    <thead>\n",
              "        <tr>\n",
              "            <th>RCH</th>\n",
              "            <th>YR</th>\n",
              "            <th>MO</th>\n",
              "            <th>FLOW_INcms</th>\n",
              "            <th>FLOW_OUTcms</th>\n",
              "            <th>EVAPcms</th>\n",
              "            <th>TLOSScms</th>\n",
              "            <th>SED_INtons</th>\n",
              "            <th>SED_OUTtons</th>\n",
              "            <th>SEDCONCmg_kg</th>\n",
              "            <th>ORGN_INkg</th>\n",
              "            <th>ORGN_OUTkg</th>\n",
              "            <th>ORGP_INkg</th>\n",
              "            <th>ORGP_OUTkg</th>\n",
              "            <th>NO3_INkg</th>\n",
              "            <th>NO3_OUTkg</th>\n",
              "            <th>NH4_INkg</th>\n",
              "            <th>NH4_OUTkg</th>\n",
              "            <th>NO2_INkg</th>\n",
              "            <th>NO2_OUTkg</th>\n",
              "            <th>MINP_INkg</th>\n",
              "            <th>MINP_OUTkg</th>\n",
              "            <th>CHLA_INkg</th>\n",
              "            <th>CHLA_OUTkg</th>\n",
              "            <th>CBOD_INkg</th>\n",
              "            <th>CBOD_OUTkg</th>\n",
              "            <th>DISOX_INkg</th>\n",
              "            <th>DISOX_OUTkg</th>\n",
              "            <th>SOLPST_INmg</th>\n",
              "            <th>SOLPST_OUTmg</th>\n",
              "            <th>SORPST_INmg</th>\n",
              "            <th>SORPST_OUTmg</th>\n",
              "            <th>REACTPSTmg</th>\n",
              "            <th>VOLPSTmg</th>\n",
              "            <th>SETTLPSTmg</th>\n",
              "            <th>RESUSP_PSTmg</th>\n",
              "            <th>DIFFUSEPSTmg</th>\n",
              "            <th>REACBEDPSTmg</th>\n",
              "            <th>BURYPSTmg</th>\n",
              "            <th>BED_PSTmg</th>\n",
              "            <th>BACTP_OUTct</th>\n",
              "            <th>BACTLP_OUTct</th>\n",
              "            <th>CMETAL_1kg</th>\n",
              "            <th>CMETAL_2kg</th>\n",
              "            <th>CMETAL_3kg</th>\n",
              "            <th>TOT_Nkg</th>\n",
              "            <th>TOT_Pkg</th>\n",
              "            <th>NO3ConcMg_l</th>\n",
              "            <th>WTMPdegc</th>\n",
              "        </tr>\n",
              "    </thead>\n",
              "    <tbody>\n",
              "    </tbody>\n",
              "</table>"
            ],
            "text/plain": [
              "[]"
            ]
          },
          "metadata": {
            "tags": []
          },
          "execution_count": 21
        }
      ]
    },
    {
      "cell_type": "markdown",
      "metadata": {
        "id": "ykI2oxPMUbbS"
      },
      "source": [
        "Une requête comme celle-ci peut être vue comme une sorte de requête ping à la base de données. \n",
        "\n",
        "La clause: ***where 1 = 0*** permet qu'aucune donnée ne soit renvoyée en retour (donc sans aucune charge de processeur, aucun trafic réseau ou autre consommation de ressources)\n",
        "\n",
        "Une requête comme celle-ci peut :\n",
        "- Tester la disponibilité du serveur\n",
        "- Vérifier l'existence de la table requêtée\n",
        "- Vérifier l'existence de la ou des colonne(s) requêtées\n",
        "- Garder une connexion vivante\n",
        "- Provoquer le déclenchement d'un (trigger) déclencheur \n",
        "- Gérer de nombreuses conditions OR dans les requêtes dynamiques (par exemple WHERE 1 = 0 OR <condition>)"
      ]
    },
    {
      "cell_type": "markdown",
      "metadata": {
        "id": "8MKzjKe_Or6s"
      },
      "source": [
        "#### Recherche des informations de la table en utilisant simplement SELECT * mais cette fois avec le mot clé ***LIMIT***\n",
        "\n",
        "Changez le nombre dans LIMIT à 1, 2 pour vérifier les résultats.\n"
      ]
    },
    {
      "cell_type": "code",
      "metadata": {
        "colab": {
          "base_uri": "https://localhost:8080/",
          "height": 173
        },
        "id": "rfKg2fsNOr6s",
        "outputId": "93e84dbf-4f2a-4625-f767-cd52f3205bef"
      },
      "source": [
        "# %sql select * from rch LIMIT 0\n",
        "# %sql select * from rch LIMIT 1\n",
        "%sql select * from rch LIMIT 2"
      ],
      "execution_count": null,
      "outputs": [
        {
          "output_type": "stream",
          "text": [
            " * sqlite:////content/gdrive/MyDrive/Partage/Notebooks_Serie_1/demo.db3\n",
            "Done.\n"
          ],
          "name": "stdout"
        },
        {
          "output_type": "execute_result",
          "data": {
            "text/html": [
              "<table>\n",
              "    <thead>\n",
              "        <tr>\n",
              "            <th>RCH</th>\n",
              "            <th>YR</th>\n",
              "            <th>MO</th>\n",
              "            <th>FLOW_INcms</th>\n",
              "            <th>FLOW_OUTcms</th>\n",
              "            <th>EVAPcms</th>\n",
              "            <th>TLOSScms</th>\n",
              "            <th>SED_INtons</th>\n",
              "            <th>SED_OUTtons</th>\n",
              "            <th>SEDCONCmg_kg</th>\n",
              "            <th>ORGN_INkg</th>\n",
              "            <th>ORGN_OUTkg</th>\n",
              "            <th>ORGP_INkg</th>\n",
              "            <th>ORGP_OUTkg</th>\n",
              "            <th>NO3_INkg</th>\n",
              "            <th>NO3_OUTkg</th>\n",
              "            <th>NH4_INkg</th>\n",
              "            <th>NH4_OUTkg</th>\n",
              "            <th>NO2_INkg</th>\n",
              "            <th>NO2_OUTkg</th>\n",
              "            <th>MINP_INkg</th>\n",
              "            <th>MINP_OUTkg</th>\n",
              "            <th>CHLA_INkg</th>\n",
              "            <th>CHLA_OUTkg</th>\n",
              "            <th>CBOD_INkg</th>\n",
              "            <th>CBOD_OUTkg</th>\n",
              "            <th>DISOX_INkg</th>\n",
              "            <th>DISOX_OUTkg</th>\n",
              "            <th>SOLPST_INmg</th>\n",
              "            <th>SOLPST_OUTmg</th>\n",
              "            <th>SORPST_INmg</th>\n",
              "            <th>SORPST_OUTmg</th>\n",
              "            <th>REACTPSTmg</th>\n",
              "            <th>VOLPSTmg</th>\n",
              "            <th>SETTLPSTmg</th>\n",
              "            <th>RESUSP_PSTmg</th>\n",
              "            <th>DIFFUSEPSTmg</th>\n",
              "            <th>REACBEDPSTmg</th>\n",
              "            <th>BURYPSTmg</th>\n",
              "            <th>BED_PSTmg</th>\n",
              "            <th>BACTP_OUTct</th>\n",
              "            <th>BACTLP_OUTct</th>\n",
              "            <th>CMETAL_1kg</th>\n",
              "            <th>CMETAL_2kg</th>\n",
              "            <th>CMETAL_3kg</th>\n",
              "            <th>TOT_Nkg</th>\n",
              "            <th>TOT_Pkg</th>\n",
              "            <th>NO3ConcMg_l</th>\n",
              "            <th>WTMPdegc</th>\n",
              "        </tr>\n",
              "    </thead>\n",
              "    <tbody>\n",
              "        <tr>\n",
              "            <td>1</td>\n",
              "            <td>1981</td>\n",
              "            <td>1</td>\n",
              "            <td>146.34376525878906</td>\n",
              "            <td>146.2524871826172</td>\n",
              "            <td>0.09128088504076004</td>\n",
              "            <td>0.0</td>\n",
              "            <td>2.3320461650655488e-07</td>\n",
              "            <td>61619.46484375</td>\n",
              "            <td>155.3719024658203</td>\n",
              "            <td>0.016086287796497345</td>\n",
              "            <td>0.0</td>\n",
              "            <td>0.04825887829065323</td>\n",
              "            <td>0.0</td>\n",
              "            <td>362.0486755371094</td>\n",
              "            <td>361.8135070800781</td>\n",
              "            <td>203.620849609375</td>\n",
              "            <td>421.18377685546875</td>\n",
              "            <td>0.0</td>\n",
              "            <td>23.0184326171875</td>\n",
              "            <td>0.016107244417071342</td>\n",
              "            <td>0.0</td>\n",
              "            <td>1.1839052307949238e-11</td>\n",
              "            <td>0.0</td>\n",
              "            <td>0.0</td>\n",
              "            <td>0.0</td>\n",
              "            <td>5627225.0</td>\n",
              "            <td>5623486.5</td>\n",
              "            <td>0.0</td>\n",
              "            <td>0.0</td>\n",
              "            <td>0.0</td>\n",
              "            <td>0.0</td>\n",
              "            <td>0.0</td>\n",
              "            <td>0.0</td>\n",
              "            <td>0.0</td>\n",
              "            <td>0.0</td>\n",
              "            <td>0.0</td>\n",
              "            <td>0.0</td>\n",
              "            <td>0.0</td>\n",
              "            <td>0.0</td>\n",
              "            <td>0.0</td>\n",
              "            <td>0.0</td>\n",
              "            <td>0.0</td>\n",
              "            <td>0.0</td>\n",
              "            <td>0.0</td>\n",
              "            <td>806.0157470703125</td>\n",
              "            <td>0.0</td>\n",
              "            <td>0.0</td>\n",
              "            <td>0.0</td>\n",
              "        </tr>\n",
              "        <tr>\n",
              "            <td>2</td>\n",
              "            <td>1981</td>\n",
              "            <td>1</td>\n",
              "            <td>96.22569274902344</td>\n",
              "            <td>96.18285369873047</td>\n",
              "            <td>0.042821284383535385</td>\n",
              "            <td>0.0</td>\n",
              "            <td>1.6426764659627224e-07</td>\n",
              "            <td>0.0</td>\n",
              "            <td>0.0</td>\n",
              "            <td>0.01363153662532568</td>\n",
              "            <td>0.0</td>\n",
              "            <td>0.04089462012052536</td>\n",
              "            <td>0.0</td>\n",
              "            <td>315.60052490234375</td>\n",
              "            <td>315.4579772949219</td>\n",
              "            <td>0.0</td>\n",
              "            <td>127.00502014160156</td>\n",
              "            <td>0.0</td>\n",
              "            <td>0.0</td>\n",
              "            <td>0.013656049966812134</td>\n",
              "            <td>0.0</td>\n",
              "            <td>4.136972177163251e-16</td>\n",
              "            <td>0.0</td>\n",
              "            <td>0.0</td>\n",
              "            <td>0.0</td>\n",
              "            <td>3757606.5</td>\n",
              "            <td>3698301.5</td>\n",
              "            <td>0.0</td>\n",
              "            <td>0.0</td>\n",
              "            <td>0.0</td>\n",
              "            <td>0.0</td>\n",
              "            <td>0.0</td>\n",
              "            <td>0.0</td>\n",
              "            <td>0.0</td>\n",
              "            <td>0.0</td>\n",
              "            <td>0.0</td>\n",
              "            <td>0.0</td>\n",
              "            <td>0.0</td>\n",
              "            <td>0.0</td>\n",
              "            <td>0.0</td>\n",
              "            <td>0.0</td>\n",
              "            <td>0.0</td>\n",
              "            <td>0.0</td>\n",
              "            <td>0.0</td>\n",
              "            <td>442.4630126953125</td>\n",
              "            <td>0.0</td>\n",
              "            <td>0.0</td>\n",
              "            <td>0.0</td>\n",
              "        </tr>\n",
              "    </tbody>\n",
              "</table>"
            ],
            "text/plain": [
              "[(1, 1981, 1, 146.34376525878906, 146.2524871826172, 0.09128088504076004, 0.0, 2.3320461650655488e-07, 61619.46484375, 155.3719024658203, 0.016086287796497345, 0.0, 0.04825887829065323, 0.0, 362.0486755371094, 361.8135070800781, 203.620849609375, 421.18377685546875, 0.0, 23.0184326171875, 0.016107244417071342, 0.0, 1.1839052307949238e-11, 0.0, 0.0, 0.0, 5627225.0, 5623486.5, 0.0, 0.0, 0.0, 0.0, 0.0, 0.0, 0.0, 0.0, 0.0, 0.0, 0.0, 0.0, 0.0, 0.0, 0.0, 0.0, 0.0, 806.0157470703125, 0.0, 0.0, 0.0),\n",
              " (2, 1981, 1, 96.22569274902344, 96.18285369873047, 0.042821284383535385, 0.0, 1.6426764659627224e-07, 0.0, 0.0, 0.01363153662532568, 0.0, 0.04089462012052536, 0.0, 315.60052490234375, 315.4579772949219, 0.0, 127.00502014160156, 0.0, 0.0, 0.013656049966812134, 0.0, 4.136972177163251e-16, 0.0, 0.0, 0.0, 3757606.5, 3698301.5, 0.0, 0.0, 0.0, 0.0, 0.0, 0.0, 0.0, 0.0, 0.0, 0.0, 0.0, 0.0, 0.0, 0.0, 0.0, 0.0, 0.0, 442.4630126953125, 0.0, 0.0, 0.0)]"
            ]
          },
          "metadata": {
            "tags": []
          },
          "execution_count": 22
        }
      ]
    },
    {
      "cell_type": "markdown",
      "metadata": {
        "id": "H6FAkAmcOr6s"
      },
      "source": [
        "#### Ou faisons carrément un select *\n",
        "\n",
        "***Attention***! Cette table contient trop d'enregistrements. Donc il vaut mieux ne pas les sélectionner tous...."
      ]
    },
    {
      "cell_type": "code",
      "metadata": {
        "id": "RS3-0R9-Or6t"
      },
      "source": [
        "## %sql select * from rch\n",
        "%sql select * from rch LIMIT 100\n"
      ],
      "execution_count": null,
      "outputs": []
    }
  ]
}