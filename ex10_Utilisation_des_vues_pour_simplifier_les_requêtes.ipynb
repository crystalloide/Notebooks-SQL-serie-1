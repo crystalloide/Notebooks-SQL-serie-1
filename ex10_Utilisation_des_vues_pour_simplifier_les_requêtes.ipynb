{
  "nbformat": 4,
  "nbformat_minor": 0,
  "metadata": {
    "anaconda-cloud": {},
    "kernelspec": {
      "name": "python3",
      "display_name": "Python 3"
    },
    "colab": {
      "name": "ex10_Utilisation_des_vues_pour_simplifier_les_requêtes.ipynb",
      "provenance": [],
      "collapsed_sections": [],
      "include_colab_link": true
    }
  },
  "cells": [
    {
      "cell_type": "markdown",
      "metadata": {
        "id": "view-in-github",
        "colab_type": "text"
      },
      "source": [
        "<a href=\"https://colab.research.google.com/github/crystalloide/Notebooks-SQL-serie-1/blob/main/ex10_Utilisation_des_vues_pour_simplifier_les_requ%C3%AAtes.ipynb\" target=\"_parent\"><img src=\"https://colab.research.google.com/assets/colab-badge.svg\" alt=\"Open In Colab\"/></a>"
      ]
    },
    {
      "cell_type": "markdown",
      "metadata": {
        "id": "r4g4c4dggJsU"
      },
      "source": [
        "## ex10 - Utilisation des vues pour simplifier les requêtes\n",
        "\n",
        "L'un des beaux aspects du modèle de données relationnel et SQL est que la sortie d'une requête est également une table, une relation pour être précis. \n",
        "\n",
        "Il peut s'agir d'une seule colonne ou d'une seule ligne, mais il s'agit néanmoins d'un tableau. \n",
        "\n",
        "Une vue est une requête qui peut être utilisée comme une table. Une vue peut être considérée comme une table virtuelle qui ne contient pas de données. \n",
        "\n",
        "Elle correspond juste à une requête. Chaque fois qu'une vue est accédée, la requête sous-jacente est exécutée et les résultats renvoyés peuvent être utilisés comme s'ils constituaient une table réelle.\n",
        "\n",
        "Il y a plusieurs raisons (http://www.sqlitetutorial.net/sqlite-create-view/) pour utiliser les vues. Gardez à l’esprit le principe de programmation DRY: ne vous répétez pas. Éviter les répétitions permet de gagner du temps et d'éviter les erreurs inutiles. C'est l'une des bonnes raisons pour lesquelles nous enregistrons les requêtes sous forme de vues de base de données réutilisables.\n",
        "\n",
        "Les vues SQLite sont créées à l'aide de l'instruction CREATE VIEW. \n",
        "\n",
        "Les vues SQLite peuvent être créées à partir d'une seule table, de plusieurs tables ou d'une autre vue. \n",
        "\n",
        "Voici la syntaxe de la commande ***CREATE VIEW*** de base (http://www.sqlitetutorial.net/sqlite-create-view/):\n",
        "\n",
        ">CREATE [TEMP | TEMPORARY] VIEW view_name AS<br>\n",
        ">SELECT column1, column2.....<br>\n",
        ">FROM table_name<br>\n",
        ">WHERE [condition];\n",
        "\n",
        "\n",
        "La vue dans SQLite est en lecture seule. Cela signifie que vous ne pouvez pas utiliser les instructions INSERT, DELETE et UPDATE pour mettre à jour les données dans les tables de base via la vue.\n"
      ]
    },
    {
      "cell_type": "code",
      "metadata": {
        "id": "5z444uBDgJsW"
      },
      "source": [
        "%load_ext sql"
      ],
      "execution_count": 1,
      "outputs": []
    },
    {
      "cell_type": "code",
      "metadata": {
        "colab": {
          "base_uri": "https://localhost:8080/"
        },
        "id": "89Juyv_XBgSJ",
        "outputId": "4149d673-a7ba-4d6e-f4a1-96d0baa3058f"
      },
      "source": [
        "from google.colab import drive\r\n",
        "# drive.mount('/content/gdrive')\r\n",
        "drive.mount(\"/content/gdrive\", force_remount=True)\r\n"
      ],
      "execution_count": 2,
      "outputs": [
        {
          "output_type": "stream",
          "text": [
            "Mounted at /content/gdrive\n"
          ],
          "name": "stdout"
        }
      ]
    },
    {
      "cell_type": "markdown",
      "metadata": {
        "id": "_XyvbtebGHn2"
      },
      "source": [
        "### 1. Connection à la database demo.db3"
      ]
    },
    {
      "cell_type": "code",
      "metadata": {
        "colab": {
          "base_uri": "https://localhost:8080/",
          "height": 35
        },
        "id": "Jxq7_jluOr6q",
        "outputId": "9700ddb0-582a-42fc-9eb4-e633ed30d173"
      },
      "source": [
        "%sql sqlite:////content/gdrive/MyDrive/Partage/Notebooks_Serie_1/demo.db3"
      ],
      "execution_count": 3,
      "outputs": [
        {
          "output_type": "execute_result",
          "data": {
            "application/vnd.google.colaboratory.intrinsic+json": {
              "type": "string"
            },
            "text/plain": [
              "'Connected: @/content/gdrive/MyDrive/Partage/Notebooks_Serie_1/demo.db3'"
            ]
          },
          "metadata": {
            "tags": []
          },
          "execution_count": 3
        }
      ]
    },
    {
      "cell_type": "markdown",
      "metadata": {
        "id": "uN-ZnGL9GHn3"
      },
      "source": [
        "Si vous ne vous souvenez pas des tables présentes dans la database de démonstration, vous pouvez toujours utiliser la commande suivante pour les retrouver."
      ]
    },
    {
      "cell_type": "code",
      "metadata": {
        "id": "lXj1i8sVgJsY",
        "colab": {
          "base_uri": "https://localhost:8080/",
          "height": 453
        },
        "outputId": "d3e3afa8-57fe-4f3c-bbc6-f406462a044e"
      },
      "source": [
        "%sql SELECT name FROM sqlite_master WHERE type='table'"
      ],
      "execution_count": 4,
      "outputs": [
        {
          "output_type": "stream",
          "text": [
            " * sqlite:////content/gdrive/MyDrive/Partage/Notebooks_Serie_1/demo.db3\n",
            "Done.\n"
          ],
          "name": "stdout"
        },
        {
          "output_type": "execute_result",
          "data": {
            "text/html": [
              "<table>\n",
              "    <thead>\n",
              "        <tr>\n",
              "            <th>name</th>\n",
              "        </tr>\n",
              "    </thead>\n",
              "    <tbody>\n",
              "        <tr>\n",
              "            <td>rch</td>\n",
              "        </tr>\n",
              "        <tr>\n",
              "            <td>hru</td>\n",
              "        </tr>\n",
              "        <tr>\n",
              "            <td>sub</td>\n",
              "        </tr>\n",
              "        <tr>\n",
              "            <td>sed</td>\n",
              "        </tr>\n",
              "        <tr>\n",
              "            <td>watershed_daily</td>\n",
              "        </tr>\n",
              "        <tr>\n",
              "            <td>watershed_monthly</td>\n",
              "        </tr>\n",
              "        <tr>\n",
              "            <td>watershed_yearly</td>\n",
              "        </tr>\n",
              "        <tr>\n",
              "            <td>channel_dimension</td>\n",
              "        </tr>\n",
              "        <tr>\n",
              "            <td>hru_info</td>\n",
              "        </tr>\n",
              "        <tr>\n",
              "            <td>sub_info</td>\n",
              "        </tr>\n",
              "        <tr>\n",
              "            <td>rch_info</td>\n",
              "        </tr>\n",
              "        <tr>\n",
              "            <td>ave_plant</td>\n",
              "        </tr>\n",
              "        <tr>\n",
              "            <td>ave_annual_hru</td>\n",
              "        </tr>\n",
              "        <tr>\n",
              "            <td>ave_monthly_basin</td>\n",
              "        </tr>\n",
              "        <tr>\n",
              "            <td>ave_annual_basin</td>\n",
              "        </tr>\n",
              "        <tr>\n",
              "            <td>sqlite_sequence</td>\n",
              "        </tr>\n",
              "        <tr>\n",
              "            <td>watershed_yearly_bk</td>\n",
              "        </tr>\n",
              "        <tr>\n",
              "            <td>Temperature</td>\n",
              "        </tr>\n",
              "    </tbody>\n",
              "</table>"
            ],
            "text/plain": [
              "[('rch',),\n",
              " ('hru',),\n",
              " ('sub',),\n",
              " ('sed',),\n",
              " ('watershed_daily',),\n",
              " ('watershed_monthly',),\n",
              " ('watershed_yearly',),\n",
              " ('channel_dimension',),\n",
              " ('hru_info',),\n",
              " ('sub_info',),\n",
              " ('rch_info',),\n",
              " ('ave_plant',),\n",
              " ('ave_annual_hru',),\n",
              " ('ave_monthly_basin',),\n",
              " ('ave_annual_basin',),\n",
              " ('sqlite_sequence',),\n",
              " ('watershed_yearly_bk',),\n",
              " ('Temperature',)]"
            ]
          },
          "metadata": {
            "tags": []
          },
          "execution_count": 4
        }
      ]
    },
    {
      "cell_type": "markdown",
      "metadata": {
        "id": "jZcaCwzYgJsY"
      },
      "source": [
        "### 2. Simplifier les requêtes avec l'utilisation de vues\n",
        "\n",
        "Dans le Notebook précédent, nous avons utilisé CASE et Subquery pour calculer le ruissellement saisonnier à partir du tableau de rch. \n",
        "\n",
        "Ici, nous utiliserons une vue pour simplifier le calcul.\n",
        "\n",
        "#### 2.1 Rappel sur le calcul du ruissellement saisonnier"
      ]
    },
    {
      "cell_type": "code",
      "metadata": {
        "id": "nCrCduT4gJsZ",
        "colab": {
          "base_uri": "https://localhost:8080/",
          "height": 163
        },
        "outputId": "c61b6752-6782-48e9-c045-82e36ec03a5d"
      },
      "source": [
        "%%sql sqlite://\n",
        "SELECT RCH, Quarter, AVG(FLOW_OUTcms) as Runoff\n",
        "FROM(\n",
        "SELECT RCH, YR, \n",
        "CASE \n",
        "    WHEN (MO) BETWEEN 3 AND 5 THEN 'MAM'   \n",
        "    WHEN (MO) BETWEEN 6 and 8 THEN 'JJA'\n",
        "    WHEN (MO) BETWEEN 9 and 11 THEN 'SON'\n",
        "    ELSE 'DJF' \n",
        "END Quarter,\n",
        "FLOW_OUTcms\n",
        "from rch)\n",
        "GROUP BY RCH, Quarter\n",
        "LIMIT 5"
      ],
      "execution_count": 5,
      "outputs": [
        {
          "output_type": "stream",
          "text": [
            "Done.\n"
          ],
          "name": "stdout"
        },
        {
          "output_type": "execute_result",
          "data": {
            "text/html": [
              "<table>\n",
              "    <thead>\n",
              "        <tr>\n",
              "            <th>RCH</th>\n",
              "            <th>Quarter</th>\n",
              "            <th>Runoff</th>\n",
              "        </tr>\n",
              "    </thead>\n",
              "    <tbody>\n",
              "        <tr>\n",
              "            <td>1</td>\n",
              "            <td>DJF</td>\n",
              "            <td>99.20499053531223</td>\n",
              "        </tr>\n",
              "        <tr>\n",
              "            <td>1</td>\n",
              "            <td>JJA</td>\n",
              "            <td>1405.262297990587</td>\n",
              "        </tr>\n",
              "        <tr>\n",
              "            <td>1</td>\n",
              "            <td>MAM</td>\n",
              "            <td>559.7469320191277</td>\n",
              "        </tr>\n",
              "        <tr>\n",
              "            <td>1</td>\n",
              "            <td>SON</td>\n",
              "            <td>454.73798531426326</td>\n",
              "        </tr>\n",
              "        <tr>\n",
              "            <td>2</td>\n",
              "            <td>DJF</td>\n",
              "            <td>56.328539085388186</td>\n",
              "        </tr>\n",
              "    </tbody>\n",
              "</table>"
            ],
            "text/plain": [
              "[(1, 'DJF', 99.20499053531223),\n",
              " (1, 'JJA', 1405.262297990587),\n",
              " (1, 'MAM', 559.7469320191277),\n",
              " (1, 'SON', 454.73798531426326),\n",
              " (2, 'DJF', 56.328539085388186)]"
            ]
          },
          "metadata": {
            "tags": []
          },
          "execution_count": 5
        }
      ]
    },
    {
      "cell_type": "markdown",
      "metadata": {
        "id": "nr7mvDEBgJsZ"
      },
      "source": [
        "#### 2.2 Création d'une view"
      ]
    },
    {
      "cell_type": "code",
      "metadata": {
        "id": "YNLjFYt3gJsZ",
        "colab": {
          "base_uri": "https://localhost:8080/"
        },
        "outputId": "7ea66d1e-4160-48da-b1dd-ddf733726dcc"
      },
      "source": [
        "%%sql sqlite://\n",
        "CREATE VIEW RCH_VW AS SELECT RCH, YR, \n",
        "CASE \n",
        "    WHEN (MO) BETWEEN 3 AND 5 THEN 'MAM'   \n",
        "    WHEN (MO) BETWEEN 6 and 8 THEN 'JJA'\n",
        "    WHEN (MO) BETWEEN 9 and 11 THEN 'SON'\n",
        "    ELSE 'DJF' \n",
        "END Quarter,\n",
        "FLOW_OUTcms\n",
        "from rch"
      ],
      "execution_count": 6,
      "outputs": [
        {
          "output_type": "stream",
          "text": [
            "Done.\n"
          ],
          "name": "stdout"
        },
        {
          "output_type": "execute_result",
          "data": {
            "text/plain": [
              "[]"
            ]
          },
          "metadata": {
            "tags": []
          },
          "execution_count": 6
        }
      ]
    },
    {
      "cell_type": "markdown",
      "metadata": {
        "id": "6sxNPW37gJsZ"
      },
      "source": [
        "Requêtons maintenant la vue SSN_RCH"
      ]
    },
    {
      "cell_type": "code",
      "metadata": {
        "id": "c_s5dknQgJsZ",
        "colab": {
          "base_uri": "https://localhost:8080/",
          "height": 163
        },
        "outputId": "1040b0ab-e7a0-4b54-cf11-7719bfab1de0"
      },
      "source": [
        "%%sql sqlite://\n",
        "SELECT * \n",
        "FROM RCH_VW \n",
        "LIMIT 5"
      ],
      "execution_count": 7,
      "outputs": [
        {
          "output_type": "stream",
          "text": [
            "Done.\n"
          ],
          "name": "stdout"
        },
        {
          "output_type": "execute_result",
          "data": {
            "text/html": [
              "<table>\n",
              "    <thead>\n",
              "        <tr>\n",
              "            <th>RCH</th>\n",
              "            <th>YR</th>\n",
              "            <th>Quarter</th>\n",
              "            <th>FLOW_OUTcms</th>\n",
              "        </tr>\n",
              "    </thead>\n",
              "    <tbody>\n",
              "        <tr>\n",
              "            <td>1</td>\n",
              "            <td>1981</td>\n",
              "            <td>DJF</td>\n",
              "            <td>146.2524871826172</td>\n",
              "        </tr>\n",
              "        <tr>\n",
              "            <td>2</td>\n",
              "            <td>1981</td>\n",
              "            <td>DJF</td>\n",
              "            <td>96.18285369873047</td>\n",
              "        </tr>\n",
              "        <tr>\n",
              "            <td>3</td>\n",
              "            <td>1981</td>\n",
              "            <td>DJF</td>\n",
              "            <td>11.861368179321289</td>\n",
              "        </tr>\n",
              "        <tr>\n",
              "            <td>4</td>\n",
              "            <td>1981</td>\n",
              "            <td>DJF</td>\n",
              "            <td>49.40651321411133</td>\n",
              "        </tr>\n",
              "        <tr>\n",
              "            <td>5</td>\n",
              "            <td>1981</td>\n",
              "            <td>DJF</td>\n",
              "            <td>272.10601806640625</td>\n",
              "        </tr>\n",
              "    </tbody>\n",
              "</table>"
            ],
            "text/plain": [
              "[(1, 1981, 'DJF', 146.2524871826172),\n",
              " (2, 1981, 'DJF', 96.18285369873047),\n",
              " (3, 1981, 'DJF', 11.861368179321289),\n",
              " (4, 1981, 'DJF', 49.40651321411133),\n",
              " (5, 1981, 'DJF', 272.10601806640625)]"
            ]
          },
          "metadata": {
            "tags": []
          },
          "execution_count": 7
        }
      ]
    },
    {
      "cell_type": "markdown",
      "metadata": {
        "id": "RDoeKFpZgJsa"
      },
      "source": [
        "### 2.3 Recalculons le ruissellement avec la vue :\n",
        "\n",
        "Le code est réellement simplifié et plus court"
      ]
    },
    {
      "cell_type": "code",
      "metadata": {
        "id": "5lnPmgQhgJsa",
        "colab": {
          "base_uri": "https://localhost:8080/",
          "height": 163
        },
        "outputId": "08fae0e5-e98b-49e6-9512-7a45f99c1e05"
      },
      "source": [
        "%%sql sqlite://\n",
        "SELECT RCH, Quarter, AVG(FLOW_OUTcms) as Runoff\n",
        "FROM RCH_VW\n",
        "GROUP BY RCH, Quarter\n",
        "LIMIT 5"
      ],
      "execution_count": 8,
      "outputs": [
        {
          "output_type": "stream",
          "text": [
            "Done.\n"
          ],
          "name": "stdout"
        },
        {
          "output_type": "execute_result",
          "data": {
            "text/html": [
              "<table>\n",
              "    <thead>\n",
              "        <tr>\n",
              "            <th>RCH</th>\n",
              "            <th>Quarter</th>\n",
              "            <th>Runoff</th>\n",
              "        </tr>\n",
              "    </thead>\n",
              "    <tbody>\n",
              "        <tr>\n",
              "            <td>1</td>\n",
              "            <td>DJF</td>\n",
              "            <td>99.20499053531223</td>\n",
              "        </tr>\n",
              "        <tr>\n",
              "            <td>1</td>\n",
              "            <td>JJA</td>\n",
              "            <td>1405.262297990587</td>\n",
              "        </tr>\n",
              "        <tr>\n",
              "            <td>1</td>\n",
              "            <td>MAM</td>\n",
              "            <td>559.7469320191277</td>\n",
              "        </tr>\n",
              "        <tr>\n",
              "            <td>1</td>\n",
              "            <td>SON</td>\n",
              "            <td>454.73798531426326</td>\n",
              "        </tr>\n",
              "        <tr>\n",
              "            <td>2</td>\n",
              "            <td>DJF</td>\n",
              "            <td>56.328539085388186</td>\n",
              "        </tr>\n",
              "    </tbody>\n",
              "</table>"
            ],
            "text/plain": [
              "[(1, 'DJF', 99.20499053531223),\n",
              " (1, 'JJA', 1405.262297990587),\n",
              " (1, 'MAM', 559.7469320191277),\n",
              " (1, 'SON', 454.73798531426326),\n",
              " (2, 'DJF', 56.328539085388186)]"
            ]
          },
          "metadata": {
            "tags": []
          },
          "execution_count": 8
        }
      ]
    },
    {
      "cell_type": "markdown",
      "metadata": {
        "id": "A3jPRGCqgJsa"
      },
      "source": [
        "### 2.4 Suppression de vues\n",
        "\n",
        "Il est de plus assez facile de supprimer des vues : \n"
      ]
    },
    {
      "cell_type": "code",
      "metadata": {
        "id": "uzaSZS9tgJsa",
        "colab": {
          "base_uri": "https://localhost:8080/"
        },
        "outputId": "be17f636-99a6-4f18-fb9e-665e7306400b"
      },
      "source": [
        "%sql DROP VIEW RCH_VW"
      ],
      "execution_count": 9,
      "outputs": [
        {
          "output_type": "stream",
          "text": [
            " * sqlite:////content/gdrive/MyDrive/Partage/Notebooks_Serie_1/demo.db3\n",
            "Done.\n"
          ],
          "name": "stdout"
        },
        {
          "output_type": "execute_result",
          "data": {
            "text/plain": [
              "[]"
            ]
          },
          "metadata": {
            "tags": []
          },
          "execution_count": 9
        }
      ]
    },
    {
      "cell_type": "markdown",
      "metadata": {
        "id": "tkv9xDERgJsa"
      },
      "source": [
        "### Conclusion \n",
        "\n",
        "Les vues sont des tables virtuelles qui ne contiennent pas de données, uniquement des instructions SQL. \n",
        "\n",
        "Ces instructions sont exécutées à chaque accès à la vue. \n",
        "\n",
        "Étant donné que les vues sont créées de manière dynamique lors de leur accès et que les données de ces vues sont toujours fraîches et à jour, elles présentent certains avantages par rapport à la création de sous-tables à partir d'une table. \n",
        "\n",
        "Les données des sous-tableaux sont statiques et peuvent être obsolètes.\n",
        "\n",
        "Une vue est utile dans certains cas (http://www.sqlitetutorial.net/sqlite-create-view/):\n",
        "- Premièrement, les vues fournissent une couche d'abstraction sur les tables. Vous pouvez ajouter et supprimer des colonnes dans la vue sans toucher au schéma des tables sous-jacentes.\n",
        "- Deuxièmement, vous pouvez utiliser des vues pour encapsuler des requêtes complexes avec des jointures afin de simplifier l'accès aux données."
      ]
    }
  ]
}