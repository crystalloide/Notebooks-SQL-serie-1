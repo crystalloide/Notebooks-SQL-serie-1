{
  "nbformat": 4,
  "nbformat_minor": 0,
  "metadata": {
    "anaconda-cloud": {},
    "kernelspec": {
      "display_name": "Python [conda root]",
      "language": "python",
      "name": "conda-root-py"
    },
    "language_info": {
      "codemirror_mode": {
        "name": "ipython",
        "version": 2
      },
      "file_extension": ".py",
      "mimetype": "text/x-python",
      "name": "python",
      "nbconvert_exporter": "python",
      "pygments_lexer": "ipython2",
      "version": "2.7.12"
    },
    "colab": {
      "name": "ex10-Utilisation des vues pour simplifier les requêtes.ipynb",
      "provenance": [],
      "collapsed_sections": []
    }
  },
  "cells": [
    {
      "cell_type": "markdown",
      "metadata": {
        "id": "r4g4c4dggJsU"
      },
      "source": [
        "## ex10 - Utilisation des vues pour simplifier les requêtes\n",
        "\n",
        "L'un des beaux aspects du modèle de données relationnel et SQL est que la sortie d'une requête est également une table, une relation pour être précis. \n",
        "\n",
        "Il peut s'agir d'une seule colonne ou d'une seule ligne, mais il s'agit néanmoins d'un tableau. \n",
        "\n",
        "Une vue est une requête qui peut être utilisée comme une table. Une vue peut être considérée comme une table virtuelle qui ne contient pas de données. \n",
        "\n",
        "Elle correspond juste à une requête. Chaque fois qu'une vue est accédée, la requête sous-jacente est exécutée et les résultats renvoyés peuvent être utilisés comme s'ils constituaient une table réelle.\n",
        "\n",
        "Il y a plusieurs raisons (http://www.sqlitetutorial.net/sqlite-create-view/) pour utiliser les vues. Gardez à l’esprit le principe de programmation DRY: ne vous répétez pas. Éviter les répétitions permet de gagner du temps et d'éviter les erreurs inutiles. C'est l'une des bonnes raisons pour lesquelles nous enregistrons les requêtes sous forme de vues de base de données réutilisables.\n",
        "\n",
        "Les vues SQLite sont créées à l'aide de l'instruction CREATE VIEW. \n",
        "\n",
        "Les vues SQLite peuvent être créées à partir d'une seule table, de plusieurs tables ou d'une autre vue. \n",
        "\n",
        "Voici la syntaxe de la commande ***CREATE VIEW*** de base (http://www.sqlitetutorial.net/sqlite-create-view/):\n",
        "\n",
        ">CREATE [TEMP | TEMPORARY] VIEW view_name AS<br>\n",
        ">SELECT column1, column2.....<br>\n",
        ">FROM table_name<br>\n",
        ">WHERE [condition];\n",
        "\n",
        "\n",
        "La vue dans SQLite est en lecture seule. Cela signifie que vous ne pouvez pas utiliser les instructions INSERT, DELETE et UPDATE pour mettre à jour les données dans les tables de base via la vue.\n"
      ]
    },
    {
      "cell_type": "code",
      "metadata": {
        "id": "5z444uBDgJsW"
      },
      "source": [
        "%load_ext sql"
      ],
      "execution_count": null,
      "outputs": []
    },
    {
      "cell_type": "code",
      "metadata": {
        "colab": {
          "base_uri": "https://localhost:8080/"
        },
        "id": "89Juyv_XBgSJ",
        "outputId": "7f6490ae-1a56-4318-ba47-c89fd7b67314"
      },
      "source": [
        "from google.colab import drive\r\n",
        "# drive.mount('/content/gdrive')\r\n",
        "drive.mount(\"/content/gdrive\", force_remount=True)\r\n"
      ],
      "execution_count": null,
      "outputs": [
        {
          "output_type": "stream",
          "text": [
            "Mounted at /content/gdrive\n"
          ],
          "name": "stdout"
        }
      ]
    },
    {
      "cell_type": "markdown",
      "metadata": {
        "id": "_XyvbtebGHn2"
      },
      "source": [
        "### 1. Connection à la database demo.db3"
      ]
    },
    {
      "cell_type": "code",
      "metadata": {
        "colab": {
          "base_uri": "https://localhost:8080/",
          "height": 35
        },
        "id": "Jxq7_jluOr6q",
        "outputId": "bc85fd16-b136-4ceb-a6c1-f9d9dee43dd4"
      },
      "source": [
        "%sql sqlite:////content/gdrive/MyDrive/Partage/Notebooks_Serie_1/demo.db3"
      ],
      "execution_count": null,
      "outputs": [
        {
          "output_type": "execute_result",
          "data": {
            "application/vnd.google.colaboratory.intrinsic+json": {
              "type": "string"
            },
            "text/plain": [
              "'Connected: @/content/gdrive/MyDrive/Partage/Notebooks_Serie_1/demo.db3'"
            ]
          },
          "metadata": {
            "tags": []
          },
          "execution_count": 4
        }
      ]
    },
    {
      "cell_type": "markdown",
      "metadata": {
        "id": "uN-ZnGL9GHn3"
      },
      "source": [
        "Si vous ne vous souvenez pas des tables présentes dans la database de démonstration, vous pouvez toujours utiliser la commande suivante pour les retrouver."
      ]
    },
    {
      "cell_type": "code",
      "metadata": {
        "id": "lXj1i8sVgJsY",
        "outputId": "c48ffc07-f37d-4ed3-ee49-d3477278bd23"
      },
      "source": [
        "%sql SELECT name FROM sqlite_master WHERE type='table'"
      ],
      "execution_count": null,
      "outputs": [
        {
          "output_type": "stream",
          "text": [
            " * sqlite:///data/demo.db3\n",
            "Done.\n"
          ],
          "name": "stdout"
        },
        {
          "output_type": "execute_result",
          "data": {
            "text/html": [
              "<table>\n",
              "    <tr>\n",
              "        <th>name</th>\n",
              "    </tr>\n",
              "    <tr>\n",
              "        <td>rch</td>\n",
              "    </tr>\n",
              "    <tr>\n",
              "        <td>hru</td>\n",
              "    </tr>\n",
              "    <tr>\n",
              "        <td>sub</td>\n",
              "    </tr>\n",
              "    <tr>\n",
              "        <td>sed</td>\n",
              "    </tr>\n",
              "    <tr>\n",
              "        <td>watershed_daily</td>\n",
              "    </tr>\n",
              "    <tr>\n",
              "        <td>watershed_monthly</td>\n",
              "    </tr>\n",
              "    <tr>\n",
              "        <td>watershed_yearly</td>\n",
              "    </tr>\n",
              "    <tr>\n",
              "        <td>channel_dimension</td>\n",
              "    </tr>\n",
              "    <tr>\n",
              "        <td>hru_info</td>\n",
              "    </tr>\n",
              "    <tr>\n",
              "        <td>sub_info</td>\n",
              "    </tr>\n",
              "    <tr>\n",
              "        <td>rch_info</td>\n",
              "    </tr>\n",
              "    <tr>\n",
              "        <td>ave_plant</td>\n",
              "    </tr>\n",
              "    <tr>\n",
              "        <td>ave_annual_hru</td>\n",
              "    </tr>\n",
              "    <tr>\n",
              "        <td>ave_monthly_basin</td>\n",
              "    </tr>\n",
              "    <tr>\n",
              "        <td>ave_annual_basin</td>\n",
              "    </tr>\n",
              "    <tr>\n",
              "        <td>sqlite_sequence</td>\n",
              "    </tr>\n",
              "    <tr>\n",
              "        <td>watershed_yearly_bk</td>\n",
              "    </tr>\n",
              "</table>"
            ],
            "text/plain": [
              "[(u'rch',),\n",
              " (u'hru',),\n",
              " (u'sub',),\n",
              " (u'sed',),\n",
              " (u'watershed_daily',),\n",
              " (u'watershed_monthly',),\n",
              " (u'watershed_yearly',),\n",
              " (u'channel_dimension',),\n",
              " (u'hru_info',),\n",
              " (u'sub_info',),\n",
              " (u'rch_info',),\n",
              " (u'ave_plant',),\n",
              " (u'ave_annual_hru',),\n",
              " (u'ave_monthly_basin',),\n",
              " (u'ave_annual_basin',),\n",
              " (u'sqlite_sequence',),\n",
              " (u'watershed_yearly_bk',)]"
            ]
          },
          "metadata": {
            "tags": []
          },
          "execution_count": 3
        }
      ]
    },
    {
      "cell_type": "markdown",
      "metadata": {
        "id": "jZcaCwzYgJsY"
      },
      "source": [
        "### 2. Simplifying queries with views\n",
        "\n",
        "In the previous notebook, we used CASE and Subquery to calculate seasonal runoff from the table of rch. Here we use a view to simplify the calculation.\n",
        "\n",
        "#### 2.1 Have a recall of how to calculate season runoffs "
      ]
    },
    {
      "cell_type": "code",
      "metadata": {
        "id": "nCrCduT4gJsZ",
        "outputId": "e7185258-98ed-4f26-bdd9-b5d0e296dc65"
      },
      "source": [
        "%%sql sqlite://\n",
        "SELECT RCH, Quarter, AVG(FLOW_OUTcms) as Runoff\n",
        "FROM(\n",
        "SELECT RCH, YR, \n",
        "CASE \n",
        "    WHEN (MO) BETWEEN 3 AND 5 THEN 'MAM'   \n",
        "    WHEN (MO) BETWEEN 6 and 8 THEN 'JJA'\n",
        "    WHEN (MO) BETWEEN 9 and 11 THEN 'SON'\n",
        "    ELSE 'DJF' \n",
        "END Quarter,\n",
        "FLOW_OUTcms\n",
        "from rch)\n",
        "GROUP BY RCH, Quarter\n",
        "LIMIT 5"
      ],
      "execution_count": null,
      "outputs": [
        {
          "output_type": "stream",
          "text": [
            "Done.\n"
          ],
          "name": "stdout"
        },
        {
          "output_type": "execute_result",
          "data": {
            "text/html": [
              "<table>\n",
              "    <tr>\n",
              "        <th>RCH</th>\n",
              "        <th>Quarter</th>\n",
              "        <th>Runoff</th>\n",
              "    </tr>\n",
              "    <tr>\n",
              "        <td>1</td>\n",
              "        <td>DJF</td>\n",
              "        <td>99.2049905353</td>\n",
              "    </tr>\n",
              "    <tr>\n",
              "        <td>1</td>\n",
              "        <td>JJA</td>\n",
              "        <td>1405.26229799</td>\n",
              "    </tr>\n",
              "    <tr>\n",
              "        <td>1</td>\n",
              "        <td>MAM</td>\n",
              "        <td>559.746932019</td>\n",
              "    </tr>\n",
              "    <tr>\n",
              "        <td>1</td>\n",
              "        <td>SON</td>\n",
              "        <td>454.737985314</td>\n",
              "    </tr>\n",
              "    <tr>\n",
              "        <td>2</td>\n",
              "        <td>DJF</td>\n",
              "        <td>56.3285390854</td>\n",
              "    </tr>\n",
              "</table>"
            ],
            "text/plain": [
              "[(1, u'DJF', 99.20499053531223),\n",
              " (1, u'JJA', 1405.262297990587),\n",
              " (1, u'MAM', 559.7469320191277),\n",
              " (1, u'SON', 454.73798531426326),\n",
              " (2, u'DJF', 56.328539085388186)]"
            ]
          },
          "metadata": {
            "tags": []
          },
          "execution_count": 4
        }
      ]
    },
    {
      "cell_type": "markdown",
      "metadata": {
        "id": "nr7mvDEBgJsZ"
      },
      "source": [
        "#### 2.2 Creating a view"
      ]
    },
    {
      "cell_type": "code",
      "metadata": {
        "id": "YNLjFYt3gJsZ",
        "outputId": "3797b91e-fbd9-47c5-bd0b-4ba1b7afec07"
      },
      "source": [
        "%%sql sqlite://\n",
        "CREATE VIEW RCH_VW AS SELECT RCH, YR, \n",
        "CASE \n",
        "    WHEN (MO) BETWEEN 3 AND 5 THEN 'MAM'   \n",
        "    WHEN (MO) BETWEEN 6 and 8 THEN 'JJA'\n",
        "    WHEN (MO) BETWEEN 9 and 11 THEN 'SON'\n",
        "    ELSE 'DJF' \n",
        "END Quarter,\n",
        "FLOW_OUTcms\n",
        "from rch"
      ],
      "execution_count": null,
      "outputs": [
        {
          "output_type": "stream",
          "text": [
            "Done.\n"
          ],
          "name": "stdout"
        },
        {
          "output_type": "execute_result",
          "data": {
            "text/plain": [
              "[]"
            ]
          },
          "metadata": {
            "tags": []
          },
          "execution_count": 5
        }
      ]
    },
    {
      "cell_type": "markdown",
      "metadata": {
        "id": "6sxNPW37gJsZ"
      },
      "source": [
        "Let's query the SSN_RCH view"
      ]
    },
    {
      "cell_type": "code",
      "metadata": {
        "id": "c_s5dknQgJsZ",
        "outputId": "42c07641-0475-472e-c8bd-4a3150bbe9b8"
      },
      "source": [
        "%%sql sqlite://\n",
        "SELECT * \n",
        "FROM RCH_VW \n",
        "LIMIT 5"
      ],
      "execution_count": null,
      "outputs": [
        {
          "output_type": "stream",
          "text": [
            "Done.\n"
          ],
          "name": "stdout"
        },
        {
          "output_type": "execute_result",
          "data": {
            "text/html": [
              "<table>\n",
              "    <tr>\n",
              "        <th>RCH</th>\n",
              "        <th>YR</th>\n",
              "        <th>Quarter</th>\n",
              "        <th>FLOW_OUTcms</th>\n",
              "    </tr>\n",
              "    <tr>\n",
              "        <td>1</td>\n",
              "        <td>1981</td>\n",
              "        <td>DJF</td>\n",
              "        <td>146.252487183</td>\n",
              "    </tr>\n",
              "    <tr>\n",
              "        <td>2</td>\n",
              "        <td>1981</td>\n",
              "        <td>DJF</td>\n",
              "        <td>96.1828536987</td>\n",
              "    </tr>\n",
              "    <tr>\n",
              "        <td>3</td>\n",
              "        <td>1981</td>\n",
              "        <td>DJF</td>\n",
              "        <td>11.8613681793</td>\n",
              "    </tr>\n",
              "    <tr>\n",
              "        <td>4</td>\n",
              "        <td>1981</td>\n",
              "        <td>DJF</td>\n",
              "        <td>49.4065132141</td>\n",
              "    </tr>\n",
              "    <tr>\n",
              "        <td>5</td>\n",
              "        <td>1981</td>\n",
              "        <td>DJF</td>\n",
              "        <td>272.106018066</td>\n",
              "    </tr>\n",
              "</table>"
            ],
            "text/plain": [
              "[(1, 1981, u'DJF', 146.2524871826172),\n",
              " (2, 1981, u'DJF', 96.18285369873047),\n",
              " (3, 1981, u'DJF', 11.861368179321289),\n",
              " (4, 1981, u'DJF', 49.40651321411133),\n",
              " (5, 1981, u'DJF', 272.10601806640625)]"
            ]
          },
          "metadata": {
            "tags": []
          },
          "execution_count": 6
        }
      ]
    },
    {
      "cell_type": "markdown",
      "metadata": {
        "id": "RDoeKFpZgJsa"
      },
      "source": [
        "### 2.3 Recalculate seasonal runoffs with views\n",
        "\n",
        ":) The codes really really get shorter."
      ]
    },
    {
      "cell_type": "code",
      "metadata": {
        "id": "5lnPmgQhgJsa",
        "outputId": "b1f76871-5587-4b69-fd43-1d225677802c"
      },
      "source": [
        "%%sql sqlite://\n",
        "SELECT RCH, Quarter, AVG(FLOW_OUTcms) as Runoff\n",
        "FROM RCH_VW\n",
        "GROUP BY RCH, Quarter\n",
        "LIMIT 5"
      ],
      "execution_count": null,
      "outputs": [
        {
          "output_type": "stream",
          "text": [
            "Done.\n"
          ],
          "name": "stdout"
        },
        {
          "output_type": "execute_result",
          "data": {
            "text/html": [
              "<table>\n",
              "    <tr>\n",
              "        <th>RCH</th>\n",
              "        <th>Quarter</th>\n",
              "        <th>Runoff</th>\n",
              "    </tr>\n",
              "    <tr>\n",
              "        <td>1</td>\n",
              "        <td>DJF</td>\n",
              "        <td>99.2049905353</td>\n",
              "    </tr>\n",
              "    <tr>\n",
              "        <td>1</td>\n",
              "        <td>JJA</td>\n",
              "        <td>1405.26229799</td>\n",
              "    </tr>\n",
              "    <tr>\n",
              "        <td>1</td>\n",
              "        <td>MAM</td>\n",
              "        <td>559.746932019</td>\n",
              "    </tr>\n",
              "    <tr>\n",
              "        <td>1</td>\n",
              "        <td>SON</td>\n",
              "        <td>454.737985314</td>\n",
              "    </tr>\n",
              "    <tr>\n",
              "        <td>2</td>\n",
              "        <td>DJF</td>\n",
              "        <td>56.3285390854</td>\n",
              "    </tr>\n",
              "</table>"
            ],
            "text/plain": [
              "[(1, u'DJF', 99.20499053531223),\n",
              " (1, u'JJA', 1405.262297990587),\n",
              " (1, u'MAM', 559.7469320191277),\n",
              " (1, u'SON', 454.73798531426326),\n",
              " (2, u'DJF', 56.328539085388186)]"
            ]
          },
          "metadata": {
            "tags": []
          },
          "execution_count": 7
        }
      ]
    },
    {
      "cell_type": "markdown",
      "metadata": {
        "id": "A3jPRGCqgJsa"
      },
      "source": [
        "### 2.4 Deleting Views\n",
        "\n",
        "It is quite easy to delete views. Just drop it like the following."
      ]
    },
    {
      "cell_type": "code",
      "metadata": {
        "id": "uzaSZS9tgJsa",
        "outputId": "fe54b82f-af76-4ef1-accf-07c3aebe0338"
      },
      "source": [
        "%sql DROP VIEW RCH_VW"
      ],
      "execution_count": null,
      "outputs": [
        {
          "output_type": "stream",
          "text": [
            " * sqlite:///data/demo.db3\n",
            "Done.\n"
          ],
          "name": "stdout"
        },
        {
          "output_type": "execute_result",
          "data": {
            "text/plain": [
              "[]"
            ]
          },
          "metadata": {
            "tags": []
          },
          "execution_count": 8
        }
      ]
    },
    {
      "cell_type": "markdown",
      "metadata": {
        "id": "tkv9xDERgJsa"
      },
      "source": [
        "### Summary\n",
        "\n",
        "Views are virtual tables that do not hold data, only SQL statements. Those statements are executed each time the view is accessed. Because views are created dynamically as they are accessed and the data in those views are always fresh and up-to-date, they have some advantages over creating a subtables from a table. The data in subtables is static and could be out-to-date.\n",
        "\n",
        "A view is useful in some [cases](http://www.sqlitetutorial.net/sqlite-create-view/):\n",
        "- First, views provide an abstraction layer over tables. You can add and remove the columns in the view without touching the schema of the underlying tables.\n",
        "- Second, you can use views to encapsulate complex queries with joins to simplify the data access."
      ]
    },
    {
      "cell_type": "code",
      "metadata": {
        "id": "ot6BHEGbgJsb"
      },
      "source": [
        ""
      ],
      "execution_count": null,
      "outputs": []
    }
  ]
}