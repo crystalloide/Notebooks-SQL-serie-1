{
  "nbformat": 4,
  "nbformat_minor": 0,
  "metadata": {
    "anaconda-cloud": {},
    "kernelspec": {
      "name": "python3",
      "display_name": "Python 3"
    },
    "colab": {
      "name": "s01-Transaction (Begin, Commit, Rollback).ipynb",
      "provenance": [],
      "collapsed_sections": [],
      "include_colab_link": true
    }
  },
  "cells": [
    {
      "cell_type": "markdown",
      "metadata": {
        "id": "view-in-github",
        "colab_type": "text"
      },
      "source": [
        "<a href=\"https://colab.research.google.com/github/crystalloide/Notebooks-SQL-serie-1/blob/main/s01_Transaction_(Begin%2C_Commit%2C_Rollback).ipynb\" target=\"_parent\"><img src=\"https://colab.research.google.com/assets/colab-badge.svg\" alt=\"Open In Colab\"/></a>"
      ]
    },
    {
      "cell_type": "markdown",
      "metadata": {
        "id": "rffY56t94oLk"
      },
      "source": [
        "## s01-Transaction (Begin, Commit, Rollback)\n",
        "\n",
        "Generally the SQLite is in auto-commit mode that means SQLite automatically starts a transaction for each command, process and commit the transaction changes automatically to database. However, we still can disable auto-commit mode and use the following three commands to control these transactions to maintain data consistency and to handle database errors based on our requirements:\n",
        "\n",
        "- BEGIN – start the transaction;\n",
        "- COMMIT – commit the transaction that means all the changes saved to database;\n",
        "- ROLLBACK – rollback the complete transaction.\n",
        "\n",
        "Transactional control commands are only used with commands INSERT, UPDATE, and DELETE. They cannot be used while creating tables or dropping them because these operations are automatically committed in the database.\n",
        "\n",
        "In this notebook, we will have a test on the command of ***DELETE***, only because we already practiced UPDATE and INSERT before. In addition, we will use the ***[sqlite3](https://docs.python.org/2/library/sqlite3.html)*** package because ipython_sql does not support transactions.\n",
        "\n",
        "The ***DELETE*** is a very dangerous command so it is better to firstly back up your database before applying it. "
      ]
    },
    {
      "cell_type": "code",
      "metadata": {
        "id": "s7Oax0KY4oLp"
      },
      "source": [
        "import sqlite3 as lite\n",
        "import sys"
      ],
      "execution_count": 1,
      "outputs": []
    },
    {
      "cell_type": "code",
      "metadata": {
        "colab": {
          "base_uri": "https://localhost:8080/"
        },
        "id": "89Juyv_XBgSJ",
        "outputId": "890a102e-bcf2-428b-b139-34de54e4c480"
      },
      "source": [
        "from google.colab import drive\r\n",
        "# drive.mount('/content/gdrive')\r\n",
        "drive.mount(\"/content/gdrive\", force_remount=True)\r\n"
      ],
      "execution_count": 2,
      "outputs": [
        {
          "output_type": "stream",
          "text": [
            "Mounted at /content/gdrive\n"
          ],
          "name": "stdout"
        }
      ]
    },
    {
      "cell_type": "markdown",
      "metadata": {
        "id": "_XyvbtebGHn2"
      },
      "source": [
        "### 1. Connection à la database demo.db3"
      ]
    },
    {
      "cell_type": "code",
      "metadata": {
        "id": "Jxq7_jluOr6q"
      },
      "source": [
        "con = lite.connect('/content/gdrive/MyDrive/Partage/Notebooks_Serie_1/demo.db3')\r\n"
      ],
      "execution_count": 3,
      "outputs": []
    },
    {
      "cell_type": "markdown",
      "metadata": {
        "id": "f1Si_e7p4oLq"
      },
      "source": [
        "### 2. Make a test table\n",
        "\n",
        "This time, we still use the table of watershed_yearly to make a test table just as we did in the previous notebook."
      ]
    },
    {
      "cell_type": "code",
      "metadata": {
        "id": "dbYtqCah4oLq"
      },
      "source": [
        "with con:\n",
        "    cur = con.cursor() \n",
        "    \n",
        "    sql = \"\"\"\n",
        "    DROP TABLE  IF EXISTS watershed_yearly_bk;\n",
        "    CREATE TABLE watershed_yearly_bk AS SELECT YR, PREC_mm FROM watershed_yearly\n",
        "    \"\"\"\n",
        "    \n",
        "    cur.executescript(sql)    "
      ],
      "execution_count": 4,
      "outputs": []
    },
    {
      "cell_type": "markdown",
      "metadata": {
        "id": "n9Vnx0Xt4oLq"
      },
      "source": [
        "Make some NULLs"
      ]
    },
    {
      "cell_type": "code",
      "metadata": {
        "id": "0-3x12Xx4oLq"
      },
      "source": [
        "with con:\n",
        "    cur = con.cursor()\n",
        "    sql = \"\"\"\n",
        "    UPDATE watershed_yearly_bk\n",
        "    SET PREC_mm = NULL\n",
        "    WHERE\n",
        "    PREC_mm < 850.0\n",
        "    \"\"\"    \n",
        "    cur.executescript(sql)    "
      ],
      "execution_count": 5,
      "outputs": []
    },
    {
      "cell_type": "markdown",
      "metadata": {
        "id": "92aLlSve4oLr"
      },
      "source": [
        "Have a quick view"
      ]
    },
    {
      "cell_type": "code",
      "metadata": {
        "colab": {
          "base_uri": "https://localhost:8080/"
        },
        "id": "p61BSSup4oLr",
        "outputId": "cd886a0e-22f0-4d01-e403-ad852e667f80"
      },
      "source": [
        "with con:      \n",
        "    cur = con.cursor()    \n",
        "    cur.execute(\"SELECT * FROM watershed_yearly_bk\")\n",
        "\n",
        "    rows = cur.fetchall()\n",
        "\n",
        "    for row in rows:\n",
        "        print (row)"
      ],
      "execution_count": 7,
      "outputs": [
        {
          "output_type": "stream",
          "text": [
            "(1981, 895.6051025390625)\n",
            "(1982, 884.670654296875)\n",
            "(1983, None)\n",
            "(1984, 867.5743408203125)\n",
            "(1985, None)\n",
            "(1986, None)\n",
            "(1987, 1007.8944702148438)\n",
            "(1988, 895.8466186523438)\n",
            "(1989, 930.10546875)\n",
            "(1990, None)\n",
            "(1991, 984.4703369140625)\n",
            "(1992, 907.9463500976562)\n",
            "(1993, 1057.7733154296875)\n",
            "(1994, None)\n",
            "(1995, None)\n",
            "(1996, None)\n",
            "(1997, None)\n",
            "(1998, None)\n",
            "(1999, None)\n",
            "(2000, None)\n",
            "(2001, None)\n",
            "(2002, None)\n",
            "(2003, None)\n",
            "(2004, None)\n",
            "(2005, 855.0092163085938)\n",
            "(2006, None)\n",
            "(2007, None)\n",
            "(2008, None)\n",
            "(2009, 1040.9012451171875)\n",
            "(2010, 905.66845703125)\n"
          ],
          "name": "stdout"
        }
      ]
    },
    {
      "cell_type": "markdown",
      "metadata": {
        "id": "qO5JY8th4oLs"
      },
      "source": [
        "### 2. ROLLBACK a  DELETE transaction\n",
        "\n",
        "We'd like to drop/delete all rows with NULL values."
      ]
    },
    {
      "cell_type": "code",
      "metadata": {
        "colab": {
          "base_uri": "https://localhost:8080/"
        },
        "id": "3wR63SOH4oLs",
        "outputId": "15233e86-5302-413e-98b7-b8cd8a61ab1c"
      },
      "source": [
        "con.isolation_level = None\n",
        "cur = con.cursor()\n",
        "cur.execute(\"BEGIN\")\n",
        "sql = \"\"\"\n",
        "      DELETE FROM watershed_yearly_bk WHERE PREC_mm IS NULL\n",
        "      \"\"\"\n",
        "cur = con.execute(sql)\n",
        "cur.execute(\"ROLLBACK\")"
      ],
      "execution_count": 8,
      "outputs": [
        {
          "output_type": "execute_result",
          "data": {
            "text/plain": [
              "<sqlite3.Cursor at 0x7f943e749110>"
            ]
          },
          "metadata": {
            "tags": []
          },
          "execution_count": 8
        }
      ]
    },
    {
      "cell_type": "markdown",
      "metadata": {
        "id": "S2cUpZys4oLs"
      },
      "source": [
        "Now check the changes and you can find nothing happend."
      ]
    },
    {
      "cell_type": "code",
      "metadata": {
        "id": "FYpHYHgf4oLs"
      },
      "source": [
        "cur = con.cursor()    \n",
        "cur.execute(\"SELECT * FROM watershed_yearly_bk\")\n",
        "\n",
        "rows = cur.fetchall()\n",
        "\n",
        "for row in rows:\n",
        "    print row"
      ],
      "execution_count": null,
      "outputs": []
    },
    {
      "cell_type": "markdown",
      "metadata": {
        "id": "flP1eALc4oLs"
      },
      "source": [
        "### 3. COMMIT a DELETE transaction"
      ]
    },
    {
      "cell_type": "code",
      "metadata": {
        "id": "eV-_Hep64oLt"
      },
      "source": [
        "cur = con.cursor()\n",
        "cur.execute(\"BEGIN\")\n",
        "sql = \"\"\"\n",
        "      DELETE FROM watershed_yearly_bk WHERE PREC_mm IS NULL\n",
        "      \"\"\"\n",
        "cur = con.execute(sql)\n",
        "cur.execute(\"COMMIT\")"
      ],
      "execution_count": null,
      "outputs": []
    },
    {
      "cell_type": "markdown",
      "metadata": {
        "id": "mOY0dxWg4oLt"
      },
      "source": [
        "Now check the changes and you can find the rows with NULLs have been deleted."
      ]
    },
    {
      "cell_type": "code",
      "metadata": {
        "id": "wIiNBJMK4oLt"
      },
      "source": [
        "cur = con.cursor()    \n",
        "cur.execute(\"SELECT * FROM watershed_yearly_bk\")\n",
        "\n",
        "rows = cur.fetchall()\n",
        "\n",
        "for row in rows:\n",
        "    print row"
      ],
      "execution_count": null,
      "outputs": []
    },
    {
      "cell_type": "markdown",
      "metadata": {
        "id": "7fOg6ef04oLt"
      },
      "source": [
        "### 4. Close the db connection"
      ]
    },
    {
      "cell_type": "code",
      "metadata": {
        "id": "543VKJDg4oLt"
      },
      "source": [
        "con.close()"
      ],
      "execution_count": null,
      "outputs": []
    },
    {
      "cell_type": "markdown",
      "metadata": {
        "id": "yESZ5Qfw4oLt"
      },
      "source": [
        "### Summary and References\n",
        "\n",
        "Using ***sqlite3*** is not that panic because we can easily wrap the query sentences in the previous notebook into strings. This notebook also show there are other ways accessing SQLite database. If you are intested in it, you can try [SQLAlchemy](https://docs.sqlalchemy.org/en/latest/dialects/sqlite.html), which is the Python SQL toolkit and Object Relational Mapper that gives application developers the full power and flexibility of SQL.\n",
        "\n",
        "https://www.tutorialspoint.com/sqlite/sqlite_transactions.htm\n",
        "\n",
        "https://www.tutlane.com/tutorial/sqlite/sqlite-transactions-begin-commit-rollback.\n",
        "\n",
        "http://zetcode.com/db/sqlitepythontutorial/\n",
        "\n",
        "https://docs.sqlalchemy.org/en/latest/dialects/sqlite.html\n",
        "\n",
        "https://docs.python.org/2/library/sqlite3.html"
      ]
    },
    {
      "cell_type": "code",
      "metadata": {
        "id": "uxyMJ-oh4oLu"
      },
      "source": [
        ""
      ],
      "execution_count": null,
      "outputs": []
    }
  ]
}