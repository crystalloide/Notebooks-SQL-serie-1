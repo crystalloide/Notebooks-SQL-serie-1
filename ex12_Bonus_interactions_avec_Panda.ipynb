{
  "nbformat": 4,
  "nbformat_minor": 0,
  "metadata": {
    "kernelspec": {
      "display_name": "Python [conda root]",
      "language": "python",
      "name": "conda-root-py"
    },
    "language_info": {
      "codemirror_mode": {
        "name": "ipython",
        "version": 2
      },
      "file_extension": ".py",
      "mimetype": "text/x-python",
      "name": "python",
      "nbconvert_exporter": "python",
      "pygments_lexer": "ipython2",
      "version": "2.7.12"
    },
    "colab": {
      "name": "ex12-Bonus: interactions avec Panda.ipynb",
      "provenance": [],
      "collapsed_sections": []
    }
  },
  "cells": [
    {
      "cell_type": "markdown",
      "metadata": {
        "id": "8JG9Rc-shLwE"
      },
      "source": [
        "## ex12-Bonus: interactions avec Panda\n",
        "\n",
        "Dans les notebooks précédents, nous avons mis en pratique la syntaxe SQL de base avec sql% (SQL magic), tout comme l'utilisation d'un outil de ligne de commande. \n",
        "\n",
        "En fait, SQL magic a une belle intégration avec la bibliothèque pandas. \n",
        "\n",
        "Le résultat de la requête SQL peut être converti en trame de données pandas standard via un appel DataFrame. \n",
        "\n",
        "Après avoir récupéré des données dans un Pandas DataFrame, nous pouvons effectuer une analyse de données plus exploratoire. \n",
        "\n",
        "Cependant, c'est une autre histoire qui dépasse la portée de SQL lui-même.\n"
      ]
    },
    {
      "cell_type": "code",
      "metadata": {
        "id": "1L00p_PdhLwG"
      },
      "source": [
        "%load_ext sql"
      ],
      "execution_count": null,
      "outputs": []
    },
    {
      "cell_type": "markdown",
      "metadata": {
        "id": "-QlvdyUphLwG"
      },
      "source": [
        "### 1. Load all needed libraries"
      ]
    },
    {
      "cell_type": "code",
      "metadata": {
        "id": "wPyx4idShLwH"
      },
      "source": [
        "import pandas as pd\n",
        "import matplotlib.pyplot as plt\n",
        "import matplotlib\n",
        "\n",
        "%matplotlib inline"
      ],
      "execution_count": null,
      "outputs": []
    },
    {
      "cell_type": "code",
      "metadata": {
        "colab": {
          "base_uri": "https://localhost:8080/"
        },
        "id": "89Juyv_XBgSJ",
        "outputId": "7f6490ae-1a56-4318-ba47-c89fd7b67314"
      },
      "source": [
        "from google.colab import drive\r\n",
        "# drive.mount('/content/gdrive')\r\n",
        "drive.mount(\"/content/gdrive\", force_remount=True)\r\n"
      ],
      "execution_count": null,
      "outputs": [
        {
          "output_type": "stream",
          "text": [
            "Mounted at /content/gdrive\n"
          ],
          "name": "stdout"
        }
      ]
    },
    {
      "cell_type": "markdown",
      "metadata": {
        "id": "PrdbsSyNhLwH"
      },
      "source": [
        "### 2. Read the table of rch in the demo.db3\n",
        "\n",
        "#### 2.1 Connection à la database demo.db3"
      ]
    },
    {
      "cell_type": "code",
      "metadata": {
        "colab": {
          "base_uri": "https://localhost:8080/",
          "height": 35
        },
        "id": "Jxq7_jluOr6q",
        "outputId": "bc85fd16-b136-4ceb-a6c1-f9d9dee43dd4"
      },
      "source": [
        "%sql sqlite:////content/gdrive/MyDrive/Partage/Notebooks_Serie_1/demo.db3"
      ],
      "execution_count": null,
      "outputs": [
        {
          "output_type": "execute_result",
          "data": {
            "application/vnd.google.colaboratory.intrinsic+json": {
              "type": "string"
            },
            "text/plain": [
              "'Connected: @/content/gdrive/MyDrive/Partage/Notebooks_Serie_1/demo.db3'"
            ]
          },
          "metadata": {
            "tags": []
          },
          "execution_count": 4
        }
      ]
    },
    {
      "cell_type": "markdown",
      "metadata": {
        "id": "ULr8whlOhLwI"
      },
      "source": [
        "#### 2.2 Save query into a variable"
      ]
    },
    {
      "cell_type": "code",
      "metadata": {
        "id": "loBM5w3chLwI",
        "outputId": "9b3a2eba-8110-4309-fe16-fb292e0a670c"
      },
      "source": [
        "%%sql sqlres << \n",
        "SELECT RCH, YR, MO, FLOW_OUTcms \n",
        "FROM rch"
      ],
      "execution_count": null,
      "outputs": [
        {
          "output_type": "stream",
          "text": [
            " * sqlite:///data/demo.db3\n",
            "Done.\n",
            "Returning data to local variable sqlres\n"
          ],
          "name": "stdout"
        }
      ]
    },
    {
      "cell_type": "markdown",
      "metadata": {
        "id": "5YyNMvTphLwI"
      },
      "source": [
        "#### 2.3 Retrieve dataframe from query results"
      ]
    },
    {
      "cell_type": "code",
      "metadata": {
        "id": "qfCBpnQvhLwJ",
        "outputId": "44a96d4e-5429-48c3-bb94-9fbd19590a55"
      },
      "source": [
        "df = sqlres.DataFrame()\n",
        "df.head()"
      ],
      "execution_count": null,
      "outputs": [
        {
          "output_type": "execute_result",
          "data": {
            "text/html": [
              "<div>\n",
              "<style scoped>\n",
              "    .dataframe tbody tr th:only-of-type {\n",
              "        vertical-align: middle;\n",
              "    }\n",
              "\n",
              "    .dataframe tbody tr th {\n",
              "        vertical-align: top;\n",
              "    }\n",
              "\n",
              "    .dataframe thead th {\n",
              "        text-align: right;\n",
              "    }\n",
              "</style>\n",
              "<table border=\"1\" class=\"dataframe\">\n",
              "  <thead>\n",
              "    <tr style=\"text-align: right;\">\n",
              "      <th></th>\n",
              "      <th>RCH</th>\n",
              "      <th>YR</th>\n",
              "      <th>MO</th>\n",
              "      <th>FLOW_OUTcms</th>\n",
              "    </tr>\n",
              "  </thead>\n",
              "  <tbody>\n",
              "    <tr>\n",
              "      <th>0</th>\n",
              "      <td>1</td>\n",
              "      <td>1981</td>\n",
              "      <td>1</td>\n",
              "      <td>146.252487</td>\n",
              "    </tr>\n",
              "    <tr>\n",
              "      <th>1</th>\n",
              "      <td>2</td>\n",
              "      <td>1981</td>\n",
              "      <td>1</td>\n",
              "      <td>96.182854</td>\n",
              "    </tr>\n",
              "    <tr>\n",
              "      <th>2</th>\n",
              "      <td>3</td>\n",
              "      <td>1981</td>\n",
              "      <td>1</td>\n",
              "      <td>11.861368</td>\n",
              "    </tr>\n",
              "    <tr>\n",
              "      <th>3</th>\n",
              "      <td>4</td>\n",
              "      <td>1981</td>\n",
              "      <td>1</td>\n",
              "      <td>49.406513</td>\n",
              "    </tr>\n",
              "    <tr>\n",
              "      <th>4</th>\n",
              "      <td>5</td>\n",
              "      <td>1981</td>\n",
              "      <td>1</td>\n",
              "      <td>272.106018</td>\n",
              "    </tr>\n",
              "  </tbody>\n",
              "</table>\n",
              "</div>"
            ],
            "text/plain": [
              "   RCH    YR  MO  FLOW_OUTcms\n",
              "0    1  1981   1   146.252487\n",
              "1    2  1981   1    96.182854\n",
              "2    3  1981   1    11.861368\n",
              "3    4  1981   1    49.406513\n",
              "4    5  1981   1   272.106018"
            ]
          },
          "metadata": {
            "tags": []
          },
          "execution_count": 5
        }
      ]
    },
    {
      "cell_type": "markdown",
      "metadata": {
        "id": "BwnQl1MXhLwJ"
      },
      "source": [
        "### 3. Further process with Pandas\n",
        "\n",
        "#### 3.1 Custom quarters definition"
      ]
    },
    {
      "cell_type": "code",
      "metadata": {
        "id": "6RUMRl2ihLwJ"
      },
      "source": [
        "quarters = {1: 'DJF', 2: 'DJF', 3: 'MAM', 4: 'MAM', 5: 'MAM', 6: 'JJA',\n",
        "            7: 'JJA', 8: 'JJA', 9: 'SON', 10: 'SON', 11: 'SON', 12: 'DJF'}"
      ],
      "execution_count": null,
      "outputs": []
    },
    {
      "cell_type": "markdown",
      "metadata": {
        "id": "p7tAU2f4hLwJ"
      },
      "source": [
        "#### 3.2 Carry out seasonal statistics for each reach"
      ]
    },
    {
      "cell_type": "code",
      "metadata": {
        "id": "cZvAHzhIhLwJ",
        "outputId": "80e0e504-8ecd-4934-f29b-1497518d4cb1"
      },
      "source": [
        "df = df.set_index(['MO'])\n",
        "ssndf = df.groupby(['RCH',quarters])['FLOW_OUTcms'].mean()\n",
        "ssndf.head(5)"
      ],
      "execution_count": null,
      "outputs": [
        {
          "output_type": "execute_result",
          "data": {
            "text/plain": [
              "RCH     \n",
              "1    DJF      99.204991\n",
              "     JJA    1405.262298\n",
              "     MAM     559.746932\n",
              "     SON     454.737985\n",
              "2    DJF      56.328539\n",
              "Name: FLOW_OUTcms, dtype: float64"
            ]
          },
          "metadata": {
            "tags": []
          },
          "execution_count": 7
        }
      ]
    },
    {
      "cell_type": "markdown",
      "metadata": {
        "id": "NWs97K3OhLwJ"
      },
      "source": [
        "#### Reset index"
      ]
    },
    {
      "cell_type": "code",
      "metadata": {
        "id": "APd887NrhLwK",
        "outputId": "02ebd5ad-b94d-49d3-ae8a-e86324abd311"
      },
      "source": [
        "ssndf = ssndf.reset_index()\n",
        "ssndf.set_index(['RCH'])\n",
        "ssndf.head(5)"
      ],
      "execution_count": null,
      "outputs": [
        {
          "output_type": "execute_result",
          "data": {
            "text/html": [
              "<div>\n",
              "<style scoped>\n",
              "    .dataframe tbody tr th:only-of-type {\n",
              "        vertical-align: middle;\n",
              "    }\n",
              "\n",
              "    .dataframe tbody tr th {\n",
              "        vertical-align: top;\n",
              "    }\n",
              "\n",
              "    .dataframe thead th {\n",
              "        text-align: right;\n",
              "    }\n",
              "</style>\n",
              "<table border=\"1\" class=\"dataframe\">\n",
              "  <thead>\n",
              "    <tr style=\"text-align: right;\">\n",
              "      <th></th>\n",
              "      <th>RCH</th>\n",
              "      <th>level_1</th>\n",
              "      <th>FLOW_OUTcms</th>\n",
              "    </tr>\n",
              "  </thead>\n",
              "  <tbody>\n",
              "    <tr>\n",
              "      <th>0</th>\n",
              "      <td>1</td>\n",
              "      <td>DJF</td>\n",
              "      <td>99.204991</td>\n",
              "    </tr>\n",
              "    <tr>\n",
              "      <th>1</th>\n",
              "      <td>1</td>\n",
              "      <td>JJA</td>\n",
              "      <td>1405.262298</td>\n",
              "    </tr>\n",
              "    <tr>\n",
              "      <th>2</th>\n",
              "      <td>1</td>\n",
              "      <td>MAM</td>\n",
              "      <td>559.746932</td>\n",
              "    </tr>\n",
              "    <tr>\n",
              "      <th>3</th>\n",
              "      <td>1</td>\n",
              "      <td>SON</td>\n",
              "      <td>454.737985</td>\n",
              "    </tr>\n",
              "    <tr>\n",
              "      <th>4</th>\n",
              "      <td>2</td>\n",
              "      <td>DJF</td>\n",
              "      <td>56.328539</td>\n",
              "    </tr>\n",
              "  </tbody>\n",
              "</table>\n",
              "</div>"
            ],
            "text/plain": [
              "   RCH level_1  FLOW_OUTcms\n",
              "0    1     DJF    99.204991\n",
              "1    1     JJA  1405.262298\n",
              "2    1     MAM   559.746932\n",
              "3    1     SON   454.737985\n",
              "4    2     DJF    56.328539"
            ]
          },
          "metadata": {
            "tags": []
          },
          "execution_count": 8
        }
      ]
    },
    {
      "cell_type": "code",
      "metadata": {
        "id": "AdValYvehLwK",
        "outputId": "44bf9b8b-c893-4619-fdd7-640262a564b4"
      },
      "source": [
        "ssndf = ssndf.rename(index=str, columns={\"level_1\":\"SSN\"})\n",
        "ssndf.head(5)"
      ],
      "execution_count": null,
      "outputs": [
        {
          "output_type": "execute_result",
          "data": {
            "text/html": [
              "<div>\n",
              "<style scoped>\n",
              "    .dataframe tbody tr th:only-of-type {\n",
              "        vertical-align: middle;\n",
              "    }\n",
              "\n",
              "    .dataframe tbody tr th {\n",
              "        vertical-align: top;\n",
              "    }\n",
              "\n",
              "    .dataframe thead th {\n",
              "        text-align: right;\n",
              "    }\n",
              "</style>\n",
              "<table border=\"1\" class=\"dataframe\">\n",
              "  <thead>\n",
              "    <tr style=\"text-align: right;\">\n",
              "      <th></th>\n",
              "      <th>RCH</th>\n",
              "      <th>SSN</th>\n",
              "      <th>FLOW_OUTcms</th>\n",
              "    </tr>\n",
              "  </thead>\n",
              "  <tbody>\n",
              "    <tr>\n",
              "      <th>0</th>\n",
              "      <td>1</td>\n",
              "      <td>DJF</td>\n",
              "      <td>99.204991</td>\n",
              "    </tr>\n",
              "    <tr>\n",
              "      <th>1</th>\n",
              "      <td>1</td>\n",
              "      <td>JJA</td>\n",
              "      <td>1405.262298</td>\n",
              "    </tr>\n",
              "    <tr>\n",
              "      <th>2</th>\n",
              "      <td>1</td>\n",
              "      <td>MAM</td>\n",
              "      <td>559.746932</td>\n",
              "    </tr>\n",
              "    <tr>\n",
              "      <th>3</th>\n",
              "      <td>1</td>\n",
              "      <td>SON</td>\n",
              "      <td>454.737985</td>\n",
              "    </tr>\n",
              "    <tr>\n",
              "      <th>4</th>\n",
              "      <td>2</td>\n",
              "      <td>DJF</td>\n",
              "      <td>56.328539</td>\n",
              "    </tr>\n",
              "  </tbody>\n",
              "</table>\n",
              "</div>"
            ],
            "text/plain": [
              "   RCH  SSN  FLOW_OUTcms\n",
              "0    1  DJF    99.204991\n",
              "1    1  JJA  1405.262298\n",
              "2    1  MAM   559.746932\n",
              "3    1  SON   454.737985\n",
              "4    2  DJF    56.328539"
            ]
          },
          "metadata": {
            "tags": []
          },
          "execution_count": 9
        }
      ]
    },
    {
      "cell_type": "markdown",
      "metadata": {
        "id": "xmBoVXjfhLwK"
      },
      "source": [
        "#### Convert data into pivoted table"
      ]
    },
    {
      "cell_type": "code",
      "metadata": {
        "id": "5uiUiG6WhLwK",
        "outputId": "c479b8f4-6817-4e5a-cff0-8997291e34c1"
      },
      "source": [
        "pivoted = ssndf.pivot(index='RCH', columns='SSN', values='FLOW_OUTcms')\n",
        "pivoted.head()"
      ],
      "execution_count": null,
      "outputs": [
        {
          "output_type": "execute_result",
          "data": {
            "text/html": [
              "<div>\n",
              "<style scoped>\n",
              "    .dataframe tbody tr th:only-of-type {\n",
              "        vertical-align: middle;\n",
              "    }\n",
              "\n",
              "    .dataframe tbody tr th {\n",
              "        vertical-align: top;\n",
              "    }\n",
              "\n",
              "    .dataframe thead th {\n",
              "        text-align: right;\n",
              "    }\n",
              "</style>\n",
              "<table border=\"1\" class=\"dataframe\">\n",
              "  <thead>\n",
              "    <tr style=\"text-align: right;\">\n",
              "      <th>SSN</th>\n",
              "      <th>DJF</th>\n",
              "      <th>JJA</th>\n",
              "      <th>MAM</th>\n",
              "      <th>SON</th>\n",
              "    </tr>\n",
              "    <tr>\n",
              "      <th>RCH</th>\n",
              "      <th></th>\n",
              "      <th></th>\n",
              "      <th></th>\n",
              "      <th></th>\n",
              "    </tr>\n",
              "  </thead>\n",
              "  <tbody>\n",
              "    <tr>\n",
              "      <th>1</th>\n",
              "      <td>99.204991</td>\n",
              "      <td>1405.262298</td>\n",
              "      <td>559.746932</td>\n",
              "      <td>454.737985</td>\n",
              "    </tr>\n",
              "    <tr>\n",
              "      <th>2</th>\n",
              "      <td>56.328539</td>\n",
              "      <td>773.664280</td>\n",
              "      <td>203.242828</td>\n",
              "      <td>297.934326</td>\n",
              "    </tr>\n",
              "    <tr>\n",
              "      <th>3</th>\n",
              "      <td>32.838328</td>\n",
              "      <td>166.310382</td>\n",
              "      <td>379.771358</td>\n",
              "      <td>27.425488</td>\n",
              "    </tr>\n",
              "    <tr>\n",
              "      <th>4</th>\n",
              "      <td>28.384519</td>\n",
              "      <td>619.184517</td>\n",
              "      <td>278.996801</td>\n",
              "      <td>155.766145</td>\n",
              "    </tr>\n",
              "    <tr>\n",
              "      <th>5</th>\n",
              "      <td>336.824441</td>\n",
              "      <td>1635.518864</td>\n",
              "      <td>1215.423962</td>\n",
              "      <td>499.265579</td>\n",
              "    </tr>\n",
              "  </tbody>\n",
              "</table>\n",
              "</div>"
            ],
            "text/plain": [
              "SSN         DJF          JJA          MAM         SON\n",
              "RCH                                                  \n",
              "1     99.204991  1405.262298   559.746932  454.737985\n",
              "2     56.328539   773.664280   203.242828  297.934326\n",
              "3     32.838328   166.310382   379.771358   27.425488\n",
              "4     28.384519   619.184517   278.996801  155.766145\n",
              "5    336.824441  1635.518864  1215.423962  499.265579"
            ]
          },
          "metadata": {
            "tags": []
          },
          "execution_count": 10
        }
      ]
    },
    {
      "cell_type": "markdown",
      "metadata": {
        "id": "TQwtXdnThLwK"
      },
      "source": [
        "### 4. Visualize\n",
        "Set some parameters to make figure pretty"
      ]
    },
    {
      "cell_type": "code",
      "metadata": {
        "id": "81ib_9KqhLwL",
        "outputId": "d08e660e-89e6-4355-f263-94c21ce31b55"
      },
      "source": [
        "# Plot size to 15\" x 7\"\n",
        "matplotlib.rc('figure', figsize = (15, 7))\n",
        "# Font size to 14\n",
        "matplotlib.rc('font', size = 14)\n",
        "# Display top and right frame lines\n",
        "matplotlib.rc('axes.spines', top = True, right = True)\n",
        "# Remove grid lines\n",
        "matplotlib.rc('axes', grid = False)\n",
        "# Set backgound color to white\n",
        "matplotlib.rc('axes', facecolor = 'white')\n",
        "\n",
        "pivoted.plot(kind='bar', title='Seasonal Mean Discharge from 1981 to 2010 ($m^3/s$)')"
      ],
      "execution_count": null,
      "outputs": [
        {
          "output_type": "execute_result",
          "data": {
            "text/plain": [
              "<matplotlib.axes._subplots.AxesSubplot at 0xc046b70>"
            ]
          },
          "metadata": {
            "tags": []
          },
          "execution_count": 11
        },
        {
          "output_type": "display_data",
          "data": {
            "image/png": "[encoded data removed]",
            "text/plain": [
              "<Figure size 1080x504 with 1 Axes>"
            ]
          },
          "metadata": {
            "tags": []
          }
        }
      ]
    },
    {
      "cell_type": "markdown",
      "metadata": {
        "id": "gIWoxVhChLwL"
      },
      "source": [
        "### Summary\n",
        "\n",
        "\n",
        "In this tutorial we have seen how easy it is to link a SQLite database operations to Pandas via sql%. Moreover, we use Python tools such as Pandas do more further analysis after retrieving data."
      ]
    },
    {
      "cell_type": "code",
      "metadata": {
        "id": "5s-o5EQzhLwL"
      },
      "source": [
        ""
      ],
      "execution_count": null,
      "outputs": []
    }
  ]
}