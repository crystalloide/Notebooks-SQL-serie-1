{
  "nbformat": 4,
  "nbformat_minor": 0,
  "metadata": {
    "anaconda-cloud": {},
    "kernelspec": {
      "display_name": "Python [default]",
      "language": "python",
      "name": "python2"
    },
    "language_info": {
      "codemirror_mode": {
        "name": "ipython",
        "version": 2
      },
      "file_extension": ".py",
      "mimetype": "text/x-python",
      "name": "python",
      "nbconvert_exporter": "python",
      "pygments_lexer": "ipython2",
      "version": "2.7.12"
    },
    "colab": {
      "name": "ex00_Introduction.ipynb",
      "provenance": [],
      "collapsed_sections": [],
      "toc_visible": true
    }
  },
  "cells": [
    {
      "cell_type": "markdown",
      "metadata": {
        "id": "hLdRIvXvFzDF"
      },
      "source": [
        "# Introduction\n",
        "\n",
        "[SQL] (https://en.wikipedia.org/wiki/SQL) (Structured Query Language, à prononcer \"sequel\" ou \"ess-cue-ell\") est un langage spécifique au domaine utilisé en programmation et conçu pour gérer les données contenues dans un système de gestion de base de données relationnelle (SGBD-R), ou pour le traitement de flux dans un système de gestion de flux de données relationnelles (RDSMS). Il est particulièrement utile dans le traitement de données structurées où il existe des relations entre différentes entités / variables des données. SQL est un outil très important que les datascientistes doivent maîtriser.\n",
        "\n",
        "Une base de données relationnelle est, tout simplement, une base de données qui stocke les informations associées sur plusieurs tables et vous permet d'interroger des informations dans plusieurs tables en même temps. Au sein d'un tableau, les données à stocker sont organisées dans un format tabulaire avec des lignes et des colonnes. Chaque ligne à l'intérieur d'une table représente un enregistrement distinct avec les en-têtes de colonne spécifiant le type correspondant de données stockées. Le logiciel utilisé pour gérer une base de données numérique est appelé un système de gestion de base de données (SGBD). Il existe de nombreux systèmes de bases de données disponibles (tels que MySQL, PostgreSQL, IBM Db2 et Oracle Database, etc.). Le site Web [DB-Engines] (https://db-engines.com/en/ranking/relational+dbms) recueille et présente des informations sur les SGBD et en fournit une liste mensuelle, classée en fonction de leur popularité actuelle. Vous vous retrouverez probablement à utiliser de nombreux types de bases de données tout au long de votre formation et de votre travail. Cependant, tous désormais acceptent et parlent le SQL, donc une fois que vous aurez maîtrisé la syntaxe SQL de base, vous pourrez travailler facilement avec n'importe lequel d'entre eux.\n",
        "\n",
        "Pour simplifier les choses, nous utiliserons un système de base de données appelé [SQLite] (https://www.sqlite.org/about.html) pour pratiquer la syntaxe SQL. SQLite implémente un moteur de base de données SQL transactionnel autonome, sans serveur, sans configuration. Contrairement à la plupart des autres bases de données SQL, SQLite n'a pas de processus serveur distinct. SQLite lit et écrit directement dans des fichiers de disque ordinaires. Une base de données SQL complète avec plusieurs tables, index, déclencheurs et vues est contenue dans un seul fichier disque. C'est la base de données la plus déployée au monde. Mais chaque technologie a un compromis. Puisqu'il n'a pas de serveur gérant l'accès à celui-ci, il échoue dans les environnements multi-utilisateurs où plusieurs personnes peuvent modifier simultanément le fichier SQLite.\n",
        "\n",
        "Il existe plusieurs façons d'interroger une base de données SQLite avec python comme sqlite3 et SQLAlchemy. Ici, nous utiliserons [ipython-sql] (https://github.com/catherinedevlin/ipython-sql) avec les fonctions magiques afin d'interroger une base de données sqllite. ipython-sql introduit les commmandes magiques %sql (ou %% sql) dans les notebooks, vous permettant de vous connecter à une base de données, d'utilisert les chaînes de connexion SQL Alchemy, puis de lancer des requêtesSQL dans IPython ou [Jupyter] (http://jupyter.org/) / Bloc-notes IPython. Cependant, si vous n'utilisez pas la commande magique %%sql dans votre notebook Jupyter, le résultat de vos requêtes SQL seront juste affichée sous forme d'une simple liste de tuples. Une meilleure façon de travailler avec les jeux de résultats renvoyés consiste à les dessiner sous forme de tableau avec des en-têtes. Et c'est là que IPython-SQL devient très pratique.\n",
        "\n",
        "Vous pouvez l'installer en utilisant **pip install ipython-sql** ou **conda install ipython-sql**. La bibliothèque ipython-sql est chargée en utilisant %load_ext comme toute autre syntaxe d'extension iPython.\n",
        "\n",
        "#### Avantages de l'utilisation de SQL (Rahul, 2018)\n",
        "\n",
        "- Il est standardisé\n",
        "> quelle que soit la base de données relationnelle que vous choisissez, elle aura un interpréteur de requêtes SQL intégré. La grande popularité de SQL en vaut la peine pour tous ceux qui interagissent avec un système de données.\n",
        "\n",
        "- Il a une syntaxe similaire à l'anglais.\n",
        "> Aucun des détails minutieux des langages de programmation comme C ou Java ne doit être spécifié lors de l'utilisation de SQL. Il est concis, facile à comprendre et facile à écrire des requêtes de base de données. Il est de nature déclarative, ce qui signifie que vous n'avez qu'à déclarer ce que vous voulez réaliser plutôt que de passer en revue les étapes pour atteindre les résultats.\n",
        "- Il permet une manière uniforme d'interroger et d'administrer une base de données relationnelle.\n",
        "> De nombreuses commandes d'administration de la base de données sont des commandes SQL standard facilitant grandement le transfert de compétences.\n",
        "- Il est mature - SQL existe depuis plus de 35 ans.\n",
        "> Si de nombreuses nouvelles fonctionnalités y ont été ajoutées, le cœur de SQL est resté en grande partie inchangé. Vous pouvez dériver\n",
        "beaucoup d'utilité connaissant quelques concepts et commandes SQL de base, et ils vous seront utiles dans le futur.\n",
        "\n",
        "Cependant, gardez à l'esprit que même s'il est similaire dans un SGBD, il existe des différences subtiles. Ces différences résultent d'interprétations différentes de la norme, de styles de développement différents ou d'architectures sous-jacentes différentes. En pratique, reportez-vous à leurs documents techniques pour plus de détails.\n",
        "\n",
        "\n",
        "### References\n",
        "\n",
        "SQL Primer: An Accelerated Introduction to SQL Basics by Rahul Batra. Rahul Batra (2018). https://doi.org/10.1007/978-1-4842-3576-8_7\n",
        "\n",
        "Effective SQL: 61 Specific Ways to Write Better SQL by by John L. Viescas, Douglas J. Steele, Ben G. Clothier (2016). ISBN-13: 978-0134578897.\n",
        "\n",
        "https://www.sqlite.org/about.html\n",
        "\n",
        "https://github.com/catherinedevlin/ipython-sql\n",
        "\n",
        "https://en.wikipedia.org/wiki/SQL\n",
        "\n",
        "http://jupyter.org/"
      ]
    }
  ]
}