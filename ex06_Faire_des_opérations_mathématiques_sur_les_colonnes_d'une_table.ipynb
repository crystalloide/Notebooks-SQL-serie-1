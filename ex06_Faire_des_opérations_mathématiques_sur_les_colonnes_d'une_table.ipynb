{
  "nbformat": 4,
  "nbformat_minor": 0,
  "metadata": {
    "anaconda-cloud": {},
    "kernelspec": {
      "name": "python3",
      "display_name": "Python 3"
    },
    "colab": {
      "name": "ex06_Faire_des_opérations_mathématiques_sur_les_colonnes_d'une_table.ipynb",
      "provenance": [],
      "collapsed_sections": [],
      "include_colab_link": true
    }
  },
  "cells": [
    {
      "cell_type": "markdown",
      "metadata": {
        "id": "view-in-github",
        "colab_type": "text"
      },
      "source": [
        "<a href=\"https://colab.research.google.com/github/crystalloide/Notebooks-SQL-serie-1/blob/main/ex06_Faire_des_op%C3%A9rations_math%C3%A9matiques_sur_les_colonnes_d'une_table.ipynb\" target=\"_parent\"><img src=\"https://colab.research.google.com/assets/colab-badge.svg\" alt=\"Open In Colab\"/></a>"
      ]
    },
    {
      "cell_type": "markdown",
      "metadata": {
        "id": "JfXyjwTvkaMR"
      },
      "source": [
        "# ex06 - Faire des opérations mathématiques sur les colonnes d'une table\n",
        "\n",
        "Comme nous le savons déjà, la base de données de démonstration (c'est-à-dire demo.db3) a été extraite d'une modélisation hydrologique numérique. \n",
        "\n",
        "Les principaux types de données sont des entiers, des décimales ou des virgules flottantes. \n",
        "\n",
        "Il est tout à fait naturel que nous voulions effectuer des calculs ou des analyses statistiques. \n",
        "\n",
        "SQL peut gérer des calculs allant d'opérations mathématiques de base à la réalisation de statistiques avancées.\n",
        "\n",
        "*** Opérateurs mathématiques de base ***\n",
        "<li>+ Addition\n",
        "<li>- Soustraction\n",
        "<li>* Multiplication\n",
        "<li>/ Division (renvoie le quotient uniquement, pas le reste)\n",
        "<li>% Modulo (ne renvoie que le reste)\n",
        "<li>^ Exponentielle\n",
        "<li> Autres\n",
        "    \n",
        "Essayons d’utiliser les opérateurs mathématiques SQL les plus fréquemment utilisés sur les données de démonstration. \n",
        "\n",
        "Au lieu d'utiliser des nombres dans les requêtes, nous utiliserons les noms des colonnes qui contiennent les nombres. \n",
        "\n",
        "Lorsque nous exécutons la requête, le calcul s'effectuera sur chaque ligne de la table."
      ]
    },
    {
      "cell_type": "code",
      "metadata": {
        "id": "T_kSqAKzkaMT"
      },
      "source": [
        "%load_ext sql"
      ],
      "execution_count": 1,
      "outputs": []
    },
    {
      "cell_type": "markdown",
      "metadata": {
        "id": "7tAUFUS2WYnn"
      },
      "source": [
        "### 0. Reconnectons notre Google Drive"
      ]
    },
    {
      "cell_type": "code",
      "metadata": {
        "colab": {
          "base_uri": "https://localhost:8080/"
        },
        "id": "89Juyv_XBgSJ",
        "outputId": "eece79de-1b98-47fa-a588-9a262d56e53d"
      },
      "source": [
        "from google.colab import drive\r\n",
        "# drive.mount('/content/gdrive')\r\n",
        "drive.mount(\"/content/gdrive\", force_remount=True)\r\n"
      ],
      "execution_count": 2,
      "outputs": [
        {
          "output_type": "stream",
          "text": [
            "Mounted at /content/gdrive\n"
          ],
          "name": "stdout"
        }
      ]
    },
    {
      "cell_type": "markdown",
      "metadata": {
        "id": "B9k_FV17Or6q"
      },
      "source": [
        "### 1. Connexion à la Database fournie pour le TP : demo.db3"
      ]
    },
    {
      "cell_type": "code",
      "metadata": {
        "colab": {
          "base_uri": "https://localhost:8080/",
          "height": 35
        },
        "id": "Jxq7_jluOr6q",
        "outputId": "f553a151-8660-4c4a-88c7-fc1a1aa71332"
      },
      "source": [
        "%sql sqlite:////content/gdrive/MyDrive/Partage/Notebooks_Serie_1/demo.db3"
      ],
      "execution_count": 3,
      "outputs": [
        {
          "output_type": "execute_result",
          "data": {
            "application/vnd.google.colaboratory.intrinsic+json": {
              "type": "string"
            },
            "text/plain": [
              "'Connected: @/content/gdrive/MyDrive/Partage/Notebooks_Serie_1/demo.db3'"
            ]
          },
          "metadata": {
            "tags": []
          },
          "execution_count": 3
        }
      ]
    },
    {
      "cell_type": "markdown",
      "metadata": {
        "id": "sg06XIocWYno"
      },
      "source": [
        "Si vous ne connaissez toujours pas les tables présentes dans la database de démonstration :-), vous pouvez toujours utiliser la commande suivante pour le savoir. "
      ]
    },
    {
      "cell_type": "code",
      "metadata": {
        "colab": {
          "base_uri": "https://localhost:8080/",
          "height": 453
        },
        "id": "BLERDV-PWYnp",
        "outputId": "ae7c6d06-78f4-48e7-979e-19bf7914d005"
      },
      "source": [
        "%sql SELECT name FROM sqlite_master WHERE type='table'"
      ],
      "execution_count": 4,
      "outputs": [
        {
          "output_type": "stream",
          "text": [
            " * sqlite:////content/gdrive/MyDrive/Partage/Notebooks_Serie_1/demo.db3\n",
            "Done.\n"
          ],
          "name": "stdout"
        },
        {
          "output_type": "execute_result",
          "data": {
            "text/html": [
              "<table>\n",
              "    <thead>\n",
              "        <tr>\n",
              "            <th>name</th>\n",
              "        </tr>\n",
              "    </thead>\n",
              "    <tbody>\n",
              "        <tr>\n",
              "            <td>rch</td>\n",
              "        </tr>\n",
              "        <tr>\n",
              "            <td>hru</td>\n",
              "        </tr>\n",
              "        <tr>\n",
              "            <td>sub</td>\n",
              "        </tr>\n",
              "        <tr>\n",
              "            <td>sed</td>\n",
              "        </tr>\n",
              "        <tr>\n",
              "            <td>watershed_daily</td>\n",
              "        </tr>\n",
              "        <tr>\n",
              "            <td>watershed_monthly</td>\n",
              "        </tr>\n",
              "        <tr>\n",
              "            <td>watershed_yearly</td>\n",
              "        </tr>\n",
              "        <tr>\n",
              "            <td>channel_dimension</td>\n",
              "        </tr>\n",
              "        <tr>\n",
              "            <td>hru_info</td>\n",
              "        </tr>\n",
              "        <tr>\n",
              "            <td>sub_info</td>\n",
              "        </tr>\n",
              "        <tr>\n",
              "            <td>rch_info</td>\n",
              "        </tr>\n",
              "        <tr>\n",
              "            <td>ave_plant</td>\n",
              "        </tr>\n",
              "        <tr>\n",
              "            <td>ave_annual_hru</td>\n",
              "        </tr>\n",
              "        <tr>\n",
              "            <td>ave_monthly_basin</td>\n",
              "        </tr>\n",
              "        <tr>\n",
              "            <td>ave_annual_basin</td>\n",
              "        </tr>\n",
              "        <tr>\n",
              "            <td>sqlite_sequence</td>\n",
              "        </tr>\n",
              "        <tr>\n",
              "            <td>watershed_yearly_bk</td>\n",
              "        </tr>\n",
              "        <tr>\n",
              "            <td>Temperature</td>\n",
              "        </tr>\n",
              "    </tbody>\n",
              "</table>"
            ],
            "text/plain": [
              "[('rch',),\n",
              " ('hru',),\n",
              " ('sub',),\n",
              " ('sed',),\n",
              " ('watershed_daily',),\n",
              " ('watershed_monthly',),\n",
              " ('watershed_yearly',),\n",
              " ('channel_dimension',),\n",
              " ('hru_info',),\n",
              " ('sub_info',),\n",
              " ('rch_info',),\n",
              " ('ave_plant',),\n",
              " ('ave_annual_hru',),\n",
              " ('ave_monthly_basin',),\n",
              " ('ave_annual_basin',),\n",
              " ('sqlite_sequence',),\n",
              " ('watershed_yearly_bk',),\n",
              " ('Temperature',)]"
            ]
          },
          "metadata": {
            "tags": []
          },
          "execution_count": 4
        }
      ]
    },
    {
      "cell_type": "markdown",
      "metadata": {
        "id": "MwPzP7aXkaMV"
      },
      "source": [
        "### 2. Testons un premier opérateur mathématique\n",
        "\n",
        "En utilisant l'instruction SELECT, nous pouvons facilement tester la chose :"
      ]
    },
    {
      "cell_type": "code",
      "metadata": {
        "colab": {
          "base_uri": "https://localhost:8080/",
          "height": 97
        },
        "id": "GsJO7N5lkaMV",
        "outputId": "6b9817d2-914b-4f28-b36e-916453c35168"
      },
      "source": [
        "%sql SELECT 3+4"
      ],
      "execution_count": 5,
      "outputs": [
        {
          "output_type": "stream",
          "text": [
            " * sqlite:////content/gdrive/MyDrive/Partage/Notebooks_Serie_1/demo.db3\n",
            "Done.\n"
          ],
          "name": "stdout"
        },
        {
          "output_type": "execute_result",
          "data": {
            "text/html": [
              "<table>\n",
              "    <thead>\n",
              "        <tr>\n",
              "            <th>3+4</th>\n",
              "        </tr>\n",
              "    </thead>\n",
              "    <tbody>\n",
              "        <tr>\n",
              "            <td>7</td>\n",
              "        </tr>\n",
              "    </tbody>\n",
              "</table>"
            ],
            "text/plain": [
              "[(7,)]"
            ]
          },
          "metadata": {
            "tags": []
          },
          "execution_count": 5
        }
      ]
    },
    {
      "cell_type": "code",
      "metadata": {
        "colab": {
          "base_uri": "https://localhost:8080/",
          "height": 97
        },
        "id": "57yfLwbFkaMV",
        "outputId": "ba9a4d19-c8d8-4795-fc20-44bce97cf29c"
      },
      "source": [
        "%sql SELECT 12 * 4"
      ],
      "execution_count": 6,
      "outputs": [
        {
          "output_type": "stream",
          "text": [
            " * sqlite:////content/gdrive/MyDrive/Partage/Notebooks_Serie_1/demo.db3\n",
            "Done.\n"
          ],
          "name": "stdout"
        },
        {
          "output_type": "execute_result",
          "data": {
            "text/html": [
              "<table>\n",
              "    <thead>\n",
              "        <tr>\n",
              "            <th>12 * 4</th>\n",
              "        </tr>\n",
              "    </thead>\n",
              "    <tbody>\n",
              "        <tr>\n",
              "            <td>48</td>\n",
              "        </tr>\n",
              "    </tbody>\n",
              "</table>"
            ],
            "text/plain": [
              "[(48,)]"
            ]
          },
          "metadata": {
            "tags": []
          },
          "execution_count": 6
        }
      ]
    },
    {
      "cell_type": "code",
      "metadata": {
        "colab": {
          "base_uri": "https://localhost:8080/",
          "height": 97
        },
        "id": "RIZ1mCv8kaMW",
        "outputId": "49b442ac-7520-4883-cf3b-dc7194041b1f"
      },
      "source": [
        "%sql SELECT 12 % 4"
      ],
      "execution_count": 7,
      "outputs": [
        {
          "output_type": "stream",
          "text": [
            " * sqlite:////content/gdrive/MyDrive/Partage/Notebooks_Serie_1/demo.db3\n",
            "Done.\n"
          ],
          "name": "stdout"
        },
        {
          "output_type": "execute_result",
          "data": {
            "text/html": [
              "<table>\n",
              "    <thead>\n",
              "        <tr>\n",
              "            <th>12 % 4</th>\n",
              "        </tr>\n",
              "    </thead>\n",
              "    <tbody>\n",
              "        <tr>\n",
              "            <td>0</td>\n",
              "        </tr>\n",
              "    </tbody>\n",
              "</table>"
            ],
            "text/plain": [
              "[(0,)]"
            ]
          },
          "metadata": {
            "tags": []
          },
          "execution_count": 7
        }
      ]
    },
    {
      "cell_type": "code",
      "metadata": {
        "colab": {
          "base_uri": "https://localhost:8080/",
          "height": 97
        },
        "id": "C-mMgZpLkaMW",
        "outputId": "f89f8a0e-b3ce-417c-a779-9c4d14451cf5"
      },
      "source": [
        "%sql SELECT round(123.456,2) as Rounded"
      ],
      "execution_count": 8,
      "outputs": [
        {
          "output_type": "stream",
          "text": [
            " * sqlite:////content/gdrive/MyDrive/Partage/Notebooks_Serie_1/demo.db3\n",
            "Done.\n"
          ],
          "name": "stdout"
        },
        {
          "output_type": "execute_result",
          "data": {
            "text/html": [
              "<table>\n",
              "    <thead>\n",
              "        <tr>\n",
              "            <th>Rounded</th>\n",
              "        </tr>\n",
              "    </thead>\n",
              "    <tbody>\n",
              "        <tr>\n",
              "            <td>123.46</td>\n",
              "        </tr>\n",
              "    </tbody>\n",
              "</table>"
            ],
            "text/plain": [
              "[(123.46,)]"
            ]
          },
          "metadata": {
            "tags": []
          },
          "execution_count": 8
        }
      ]
    },
    {
      "cell_type": "markdown",
      "metadata": {
        "id": "9ovzGxKekaMW"
      },
      "source": [
        "### 3. Faire des maths dans les colonnes d'une table\n",
        "\n",
        "Prenons la table ***Watershed_monthly*** par exemple\n",
        "\n",
        "#### 3.1 Regardons tout d'abord les colonnes de la table\n"
      ]
    },
    {
      "cell_type": "code",
      "metadata": {
        "colab": {
          "base_uri": "https://localhost:8080/",
          "height": 159
        },
        "id": "s8HRb7VGkaMW",
        "outputId": "de16aebc-b75e-45bb-c0ae-4bb863e9e290"
      },
      "source": [
        "%sql SELECT * From watershed_monthly LIMIT 3"
      ],
      "execution_count": 9,
      "outputs": [
        {
          "output_type": "stream",
          "text": [
            " * sqlite:////content/gdrive/MyDrive/Partage/Notebooks_Serie_1/demo.db3\n",
            "Done.\n"
          ],
          "name": "stdout"
        },
        {
          "output_type": "execute_result",
          "data": {
            "text/html": [
              "<table>\n",
              "    <thead>\n",
              "        <tr>\n",
              "            <th>YR</th>\n",
              "            <th>MO</th>\n",
              "            <th>PREC_mm</th>\n",
              "            <th>SURQ_mm</th>\n",
              "            <th>LATQ_mm</th>\n",
              "            <th>GWQ_mm</th>\n",
              "            <th>PERCOLA_mm</th>\n",
              "            <th>TILEQ_mm</th>\n",
              "            <th>SW_mm</th>\n",
              "            <th>ET_mm</th>\n",
              "            <th>PET_mm</th>\n",
              "            <th>WYLD_mm</th>\n",
              "            <th>SYLD_tons</th>\n",
              "            <th>NO3_SURQ</th>\n",
              "            <th>NO3_LATQ</th>\n",
              "            <th>NO3_PERC</th>\n",
              "            <th>NO3_CROP</th>\n",
              "            <th>N_ORG</th>\n",
              "            <th>P_SOL</th>\n",
              "            <th>P_ORG</th>\n",
              "            <th>TILENO3</th>\n",
              "        </tr>\n",
              "    </thead>\n",
              "    <tbody>\n",
              "        <tr>\n",
              "            <td>1981</td>\n",
              "            <td>1</td>\n",
              "            <td>96.2901611328125</td>\n",
              "            <td>0.5159813761711121</td>\n",
              "            <td>0.4125469923019409</td>\n",
              "            <td>6.688113689422607</td>\n",
              "            <td>19.906705856323242</td>\n",
              "            <td>0.0</td>\n",
              "            <td>1854.2242431640625</td>\n",
              "            <td>6.871741771697998</td>\n",
              "            <td>12.269017219543457</td>\n",
              "            <td>8.681976318359375</td>\n",
              "            <td>0.17933471500873566</td>\n",
              "            <td>0.00021739966177847236</td>\n",
              "            <td>0.0022701763082295656</td>\n",
              "            <td>1.3104768991470337</td>\n",
              "            <td>0.0</td>\n",
              "            <td>0.1262282431125641</td>\n",
              "            <td>0.00011268912930972874</td>\n",
              "            <td>0.015406808815896511</td>\n",
              "            <td>0.0</td>\n",
              "        </tr>\n",
              "        <tr>\n",
              "            <td>1981</td>\n",
              "            <td>2</td>\n",
              "            <td>160.22804260253906</td>\n",
              "            <td>3.346802234649658</td>\n",
              "            <td>0.6452788710594177</td>\n",
              "            <td>9.148776054382324</td>\n",
              "            <td>34.36812210083008</td>\n",
              "            <td>0.0</td>\n",
              "            <td>1766.2530517578125</td>\n",
              "            <td>9.165532112121582</td>\n",
              "            <td>14.773177146911621</td>\n",
              "            <td>13.862184524536133</td>\n",
              "            <td>1.2127171754837036</td>\n",
              "            <td>0.0006267096032388508</td>\n",
              "            <td>0.001955678453668952</td>\n",
              "            <td>1.174126386642456</td>\n",
              "            <td>0.0</td>\n",
              "            <td>0.8965995907783508</td>\n",
              "            <td>0.0005604379111900926</td>\n",
              "            <td>0.10999998450279236</td>\n",
              "            <td>0.0</td>\n",
              "        </tr>\n",
              "        <tr>\n",
              "            <td>1981</td>\n",
              "            <td>3</td>\n",
              "            <td>136.6529083251953</td>\n",
              "            <td>3.8249943256378174</td>\n",
              "            <td>1.4813165664672852</td>\n",
              "            <td>18.518495559692383</td>\n",
              "            <td>34.367244720458984</td>\n",
              "            <td>0.0</td>\n",
              "            <td>1990.7535400390625</td>\n",
              "            <td>13.520476341247559</td>\n",
              "            <td>23.363500595092773</td>\n",
              "            <td>25.018510818481445</td>\n",
              "            <td>1.2629601955413818</td>\n",
              "            <td>0.0008495681686326861</td>\n",
              "            <td>0.007548550609499216</td>\n",
              "            <td>0.5044968724250793</td>\n",
              "            <td>0.0</td>\n",
              "            <td>0.6799346208572388</td>\n",
              "            <td>0.0005445934948511422</td>\n",
              "            <td>0.08338834345340729</td>\n",
              "            <td>0.0</td>\n",
              "        </tr>\n",
              "    </tbody>\n",
              "</table>"
            ],
            "text/plain": [
              "[(1981, 1, 96.2901611328125, 0.5159813761711121, 0.4125469923019409, 6.688113689422607, 19.906705856323242, 0.0, 1854.2242431640625, 6.871741771697998, 12.269017219543457, 8.681976318359375, 0.17933471500873566, 0.00021739966177847236, 0.0022701763082295656, 1.3104768991470337, 0.0, 0.1262282431125641, 0.00011268912930972874, 0.015406808815896511, 0.0),\n",
              " (1981, 2, 160.22804260253906, 3.346802234649658, 0.6452788710594177, 9.148776054382324, 34.36812210083008, 0.0, 1766.2530517578125, 9.165532112121582, 14.773177146911621, 13.862184524536133, 1.2127171754837036, 0.0006267096032388508, 0.001955678453668952, 1.174126386642456, 0.0, 0.8965995907783508, 0.0005604379111900926, 0.10999998450279236, 0.0),\n",
              " (1981, 3, 136.6529083251953, 3.8249943256378174, 1.4813165664672852, 18.518495559692383, 34.367244720458984, 0.0, 1990.7535400390625, 13.520476341247559, 23.363500595092773, 25.018510818481445, 1.2629601955413818, 0.0008495681686326861, 0.007548550609499216, 0.5044968724250793, 0.0, 0.6799346208572388, 0.0005445934948511422, 0.08338834345340729, 0.0)]"
            ]
          },
          "metadata": {
            "tags": []
          },
          "execution_count": 9
        }
      ]
    },
    {
      "cell_type": "markdown",
      "metadata": {
        "id": "hvRt4OzukaMW"
      },
      "source": [
        "#### 3.2 Calculer la différence entre deux colonnes\n",
        "\n",
        "Par exemple, nous nous intéressons à la différence entre l'évapo-transpiration potentielle (PET_mm) et les précipitations (PREC_mm). \n",
        "\n",
        "C'est ce qu'on appelle le déficit d'évapo-transpiration potentiel (PED). \n",
        "Le PED peut être considéré comme un indice de sécheresse. \n",
        "\n",
        "C'est la différence entre la quantité d'eau qui pourrait être perdue par le sol par évapotranspiration et la quantité réellement disponible. \n",
        "\n",
        "Lorsque la PED est élevée, les plantes n'ont pas la quantité totale d'eau disponible dont elles ont besoin pour leur croissance.\n"
      ]
    },
    {
      "cell_type": "code",
      "metadata": {
        "colab": {
          "base_uri": "https://localhost:8080/",
          "height": 267
        },
        "id": "nSIuvI5LkaMX",
        "outputId": "0fe5f488-c810-46d7-e6a0-f0de67143f33"
      },
      "source": [
        "%%sql sqlite://\n",
        "SELECT YR, MO,  \n",
        "PREC_mm as Precipitation, \n",
        "PET_mm as PET, \n",
        "PET_mm-PREC_mm as PED \n",
        "From watershed_monthly LIMIT 10"
      ],
      "execution_count": 10,
      "outputs": [
        {
          "output_type": "stream",
          "text": [
            "Done.\n"
          ],
          "name": "stdout"
        },
        {
          "output_type": "execute_result",
          "data": {
            "text/html": [
              "<table>\n",
              "    <thead>\n",
              "        <tr>\n",
              "            <th>YR</th>\n",
              "            <th>MO</th>\n",
              "            <th>Precipitation</th>\n",
              "            <th>PET</th>\n",
              "            <th>PED</th>\n",
              "        </tr>\n",
              "    </thead>\n",
              "    <tbody>\n",
              "        <tr>\n",
              "            <td>1981</td>\n",
              "            <td>1</td>\n",
              "            <td>96.2901611328125</td>\n",
              "            <td>12.269017219543457</td>\n",
              "            <td>-84.02114391326904</td>\n",
              "        </tr>\n",
              "        <tr>\n",
              "            <td>1981</td>\n",
              "            <td>2</td>\n",
              "            <td>160.22804260253906</td>\n",
              "            <td>14.773177146911621</td>\n",
              "            <td>-145.45486545562744</td>\n",
              "        </tr>\n",
              "        <tr>\n",
              "            <td>1981</td>\n",
              "            <td>3</td>\n",
              "            <td>136.6529083251953</td>\n",
              "            <td>23.363500595092773</td>\n",
              "            <td>-113.28940773010254</td>\n",
              "        </tr>\n",
              "        <tr>\n",
              "            <td>1981</td>\n",
              "            <td>4</td>\n",
              "            <td>118.85740661621094</td>\n",
              "            <td>36.195560455322266</td>\n",
              "            <td>-82.66184616088867</td>\n",
              "        </tr>\n",
              "        <tr>\n",
              "            <td>1981</td>\n",
              "            <td>5</td>\n",
              "            <td>84.54698181152344</td>\n",
              "            <td>89.7725601196289</td>\n",
              "            <td>5.225578308105469</td>\n",
              "        </tr>\n",
              "        <tr>\n",
              "            <td>1981</td>\n",
              "            <td>6</td>\n",
              "            <td>44.83718490600586</td>\n",
              "            <td>123.68331909179688</td>\n",
              "            <td>78.84613418579102</td>\n",
              "        </tr>\n",
              "        <tr>\n",
              "            <td>1981</td>\n",
              "            <td>7</td>\n",
              "            <td>32.325984954833984</td>\n",
              "            <td>174.00889587402344</td>\n",
              "            <td>141.68291091918945</td>\n",
              "        </tr>\n",
              "        <tr>\n",
              "            <td>1981</td>\n",
              "            <td>8</td>\n",
              "            <td>20.65149688720703</td>\n",
              "            <td>152.6374969482422</td>\n",
              "            <td>131.98600006103516</td>\n",
              "        </tr>\n",
              "        <tr>\n",
              "            <td>1981</td>\n",
              "            <td>9</td>\n",
              "            <td>16.57965660095215</td>\n",
              "            <td>115.8529052734375</td>\n",
              "            <td>99.27324867248535</td>\n",
              "        </tr>\n",
              "        <tr>\n",
              "            <td>1981</td>\n",
              "            <td>10</td>\n",
              "            <td>59.67293167114258</td>\n",
              "            <td>43.6953010559082</td>\n",
              "            <td>-15.977630615234375</td>\n",
              "        </tr>\n",
              "    </tbody>\n",
              "</table>"
            ],
            "text/plain": [
              "[(1981, 1, 96.2901611328125, 12.269017219543457, -84.02114391326904),\n",
              " (1981, 2, 160.22804260253906, 14.773177146911621, -145.45486545562744),\n",
              " (1981, 3, 136.6529083251953, 23.363500595092773, -113.28940773010254),\n",
              " (1981, 4, 118.85740661621094, 36.195560455322266, -82.66184616088867),\n",
              " (1981, 5, 84.54698181152344, 89.7725601196289, 5.225578308105469),\n",
              " (1981, 6, 44.83718490600586, 123.68331909179688, 78.84613418579102),\n",
              " (1981, 7, 32.325984954833984, 174.00889587402344, 141.68291091918945),\n",
              " (1981, 8, 20.65149688720703, 152.6374969482422, 131.98600006103516),\n",
              " (1981, 9, 16.57965660095215, 115.8529052734375, 99.27324867248535),\n",
              " (1981, 10, 59.67293167114258, 43.6953010559082, -15.977630615234375)]"
            ]
          },
          "metadata": {
            "tags": []
          },
          "execution_count": 10
        }
      ]
    },
    {
      "cell_type": "markdown",
      "metadata": {
        "id": "kpZ5mbf5kaMX"
      },
      "source": [
        "###### Nous pouvons également calculer le ratio entre PED et précipitations :\r\n"
      ]
    },
    {
      "cell_type": "code",
      "metadata": {
        "colab": {
          "base_uri": "https://localhost:8080/",
          "height": 267
        },
        "id": "E2HqizXvkaMX",
        "outputId": "52893bc4-8f3f-4a6a-bc2f-2456c5b36768"
      },
      "source": [
        "%%sql sqlite://\n",
        "SELECT YR, MO,  PREC_mm as Precipitation, \n",
        "PET_mm as PET, \n",
        "(PET_mm-PREC_mm)/PREC_mm*100.0 as PED_Ratio \n",
        "From watershed_monthly LIMIT 10"
      ],
      "execution_count": 11,
      "outputs": [
        {
          "output_type": "stream",
          "text": [
            "Done.\n"
          ],
          "name": "stdout"
        },
        {
          "output_type": "execute_result",
          "data": {
            "text/html": [
              "<table>\n",
              "    <thead>\n",
              "        <tr>\n",
              "            <th>YR</th>\n",
              "            <th>MO</th>\n",
              "            <th>Precipitation</th>\n",
              "            <th>PET</th>\n",
              "            <th>PED_Ratio</th>\n",
              "        </tr>\n",
              "    </thead>\n",
              "    <tbody>\n",
              "        <tr>\n",
              "            <td>1981</td>\n",
              "            <td>1</td>\n",
              "            <td>96.2901611328125</td>\n",
              "            <td>12.269017219543457</td>\n",
              "            <td>-87.25828571143332</td>\n",
              "        </tr>\n",
              "        <tr>\n",
              "            <td>1981</td>\n",
              "            <td>2</td>\n",
              "            <td>160.22804260253906</td>\n",
              "            <td>14.773177146911621</td>\n",
              "            <td>-90.7799053730202</td>\n",
              "        </tr>\n",
              "        <tr>\n",
              "            <td>1981</td>\n",
              "            <td>3</td>\n",
              "            <td>136.6529083251953</td>\n",
              "            <td>23.363500595092773</td>\n",
              "            <td>-82.90303449708202</td>\n",
              "        </tr>\n",
              "        <tr>\n",
              "            <td>1981</td>\n",
              "            <td>4</td>\n",
              "            <td>118.85740661621094</td>\n",
              "            <td>36.195560455322266</td>\n",
              "            <td>-69.54707200351655</td>\n",
              "        </tr>\n",
              "        <tr>\n",
              "            <td>1981</td>\n",
              "            <td>5</td>\n",
              "            <td>84.54698181152344</td>\n",
              "            <td>89.7725601196289</td>\n",
              "            <td>6.180679896716599</td>\n",
              "        </tr>\n",
              "        <tr>\n",
              "            <td>1981</td>\n",
              "            <td>6</td>\n",
              "            <td>44.83718490600586</td>\n",
              "            <td>123.68331909179688</td>\n",
              "            <td>175.84987628255342</td>\n",
              "        </tr>\n",
              "        <tr>\n",
              "            <td>1981</td>\n",
              "            <td>7</td>\n",
              "            <td>32.325984954833984</td>\n",
              "            <td>174.00889587402344</td>\n",
              "            <td>438.29418072534986</td>\n",
              "        </tr>\n",
              "        <tr>\n",
              "            <td>1981</td>\n",
              "            <td>8</td>\n",
              "            <td>20.65149688720703</td>\n",
              "            <td>152.6374969482422</td>\n",
              "            <td>639.1110570914423</td>\n",
              "        </tr>\n",
              "        <tr>\n",
              "            <td>1981</td>\n",
              "            <td>9</td>\n",
              "            <td>16.57965660095215</td>\n",
              "            <td>115.8529052734375</td>\n",
              "            <td>598.7654090904647</td>\n",
              "        </tr>\n",
              "        <tr>\n",
              "            <td>1981</td>\n",
              "            <td>10</td>\n",
              "            <td>59.67293167114258</td>\n",
              "            <td>43.6953010559082</td>\n",
              "            <td>-26.775340456351415</td>\n",
              "        </tr>\n",
              "    </tbody>\n",
              "</table>"
            ],
            "text/plain": [
              "[(1981, 1, 96.2901611328125, 12.269017219543457, -87.25828571143332),\n",
              " (1981, 2, 160.22804260253906, 14.773177146911621, -90.7799053730202),\n",
              " (1981, 3, 136.6529083251953, 23.363500595092773, -82.90303449708202),\n",
              " (1981, 4, 118.85740661621094, 36.195560455322266, -69.54707200351655),\n",
              " (1981, 5, 84.54698181152344, 89.7725601196289, 6.180679896716599),\n",
              " (1981, 6, 44.83718490600586, 123.68331909179688, 175.84987628255342),\n",
              " (1981, 7, 32.325984954833984, 174.00889587402344, 438.29418072534986),\n",
              " (1981, 8, 20.65149688720703, 152.6374969482422, 639.1110570914423),\n",
              " (1981, 9, 16.57965660095215, 115.8529052734375, 598.7654090904647),\n",
              " (1981, 10, 59.67293167114258, 43.6953010559082, -26.775340456351415)]"
            ]
          },
          "metadata": {
            "tags": []
          },
          "execution_count": 11
        }
      ]
    },
    {
      "cell_type": "markdown",
      "metadata": {
        "id": "9fK7ENYQkaMX"
      },
      "source": [
        "#### 3.3 Utiliser des opérateurs mathématiques dans une instruction WHERE\n",
        "\n",
        "Par exemple, nous pourrions utiliser l'opérateur modulo (%) pour filtrer les mois MO."
      ]
    },
    {
      "cell_type": "code",
      "metadata": {
        "colab": {
          "base_uri": "https://localhost:8080/",
          "height": 142
        },
        "id": "VyFvE4askaMX",
        "outputId": "db141a54-8b6a-4196-d27d-c8a11644d381"
      },
      "source": [
        "%%sql sqlite://\n",
        "SELECT RCH, YR, MO, FLOW_INcms, FLOW_OUTcms \n",
        "From rch \n",
        "WHERE YR>2009 \n",
        "and RCH=10 \n",
        "and MO % 3 = 0"
      ],
      "execution_count": 12,
      "outputs": [
        {
          "output_type": "stream",
          "text": [
            "Done.\n"
          ],
          "name": "stdout"
        },
        {
          "output_type": "execute_result",
          "data": {
            "text/html": [
              "<table>\n",
              "    <thead>\n",
              "        <tr>\n",
              "            <th>RCH</th>\n",
              "            <th>YR</th>\n",
              "            <th>MO</th>\n",
              "            <th>FLOW_INcms</th>\n",
              "            <th>FLOW_OUTcms</th>\n",
              "        </tr>\n",
              "    </thead>\n",
              "    <tbody>\n",
              "        <tr>\n",
              "            <td>10</td>\n",
              "            <td>2010</td>\n",
              "            <td>3</td>\n",
              "            <td>3.4298956394195557</td>\n",
              "            <td>3.0846056938171387</td>\n",
              "        </tr>\n",
              "        <tr>\n",
              "            <td>10</td>\n",
              "            <td>2010</td>\n",
              "            <td>6</td>\n",
              "            <td>736.3016357421875</td>\n",
              "            <td>734.9920654296875</td>\n",
              "        </tr>\n",
              "        <tr>\n",
              "            <td>10</td>\n",
              "            <td>2010</td>\n",
              "            <td>9</td>\n",
              "            <td>218.40797424316406</td>\n",
              "            <td>218.24456787109375</td>\n",
              "        </tr>\n",
              "        <tr>\n",
              "            <td>10</td>\n",
              "            <td>2010</td>\n",
              "            <td>12</td>\n",
              "            <td>36.9558219909668</td>\n",
              "            <td>36.877464294433594</td>\n",
              "        </tr>\n",
              "    </tbody>\n",
              "</table>"
            ],
            "text/plain": [
              "[(10, 2010, 3, 3.4298956394195557, 3.0846056938171387),\n",
              " (10, 2010, 6, 736.3016357421875, 734.9920654296875),\n",
              " (10, 2010, 9, 218.40797424316406, 218.24456787109375),\n",
              " (10, 2010, 12, 36.9558219909668, 36.877464294433594)]"
            ]
          },
          "metadata": {
            "tags": []
          },
          "execution_count": 12
        }
      ]
    },
    {
      "cell_type": "markdown",
      "metadata": {
        "id": "4hukBZvekaMY"
      },
      "source": [
        "### 4. Faites des statistiques avec les fonctions d'agrégation\n",
        "\n",
        "Jusqu'à présent, nous avons effectué des opérations mathématiques sur les colonnes de chaque ligne d'un tableau. \n",
        "\n",
        "Nous pouvons également calculer un résultat à partir des valeurs de la même colonne à l'aide de la fonction d'agrégation, qui calcule un seul résultat à partir de plusieurs entrées. \n",
        "\n",
        "Deux des fonctions d'agrégation les plus utilisées dans l'analyse des données sont avg() et sum().\n"
      ]
    },
    {
      "cell_type": "markdown",
      "metadata": {
        "id": "pPz0jIxikaMY"
      },
      "source": [
        "#### 4.1 Moyenne\n",
        "\n",
        "***avg*** : calcule la moyenne de toutes les valeurs de cette colonne (en omettant les valeurs nulles)."
      ]
    },
    {
      "cell_type": "code",
      "metadata": {
        "colab": {
          "base_uri": "https://localhost:8080/",
          "height": 79
        },
        "id": "18tBAZ2NkaMY",
        "outputId": "d063c124-44d6-4e5c-a5cc-1ad8031b507d"
      },
      "source": [
        "%%sql sqlite://\n",
        "SELECT avg(FLOW_INcms), avg(FLOW_OUTcms) \n",
        "From rch "
      ],
      "execution_count": 13,
      "outputs": [
        {
          "output_type": "stream",
          "text": [
            "Done.\n"
          ],
          "name": "stdout"
        },
        {
          "output_type": "execute_result",
          "data": {
            "text/html": [
              "<table>\n",
              "    <thead>\n",
              "        <tr>\n",
              "            <th>avg(FLOW_INcms)</th>\n",
              "            <th>avg(FLOW_OUTcms)</th>\n",
              "        </tr>\n",
              "    </thead>\n",
              "    <tbody>\n",
              "        <tr>\n",
              "            <td>559.361707683415</td>\n",
              "            <td>557.2792260827198</td>\n",
              "        </tr>\n",
              "    </tbody>\n",
              "</table>"
            ],
            "text/plain": [
              "[(559.361707683415, 557.2792260827198)]"
            ]
          },
          "metadata": {
            "tags": []
          },
          "execution_count": 13
        }
      ]
    },
    {
      "cell_type": "markdown",
      "metadata": {
        "id": "a2TYrQukkaMY"
      },
      "source": [
        "#### 4.2 Somme\n",
        "\n",
        "***sum*** : calcule la somme des valeurs de cette colonne (en omettant les valeurs nulles).\n"
      ]
    },
    {
      "cell_type": "code",
      "metadata": {
        "colab": {
          "base_uri": "https://localhost:8080/",
          "height": 79
        },
        "id": "HoV--GUlkaMY",
        "outputId": "309d5d0e-ece1-412a-afdb-4f3c5b707f5b"
      },
      "source": [
        "%%sql sqlite://\n",
        "SELECT sum(FLOW_INcms), sum(FLOW_OUTcms) \n",
        "From rch "
      ],
      "execution_count": 14,
      "outputs": [
        {
          "output_type": "stream",
          "text": [
            "Done.\n"
          ],
          "name": "stdout"
        },
        {
          "output_type": "execute_result",
          "data": {
            "text/html": [
              "<table>\n",
              "    <thead>\n",
              "        <tr>\n",
              "            <th>sum(FLOW_INcms)</th>\n",
              "            <th>sum(FLOW_OUTcms)</th>\n",
              "        </tr>\n",
              "    </thead>\n",
              "    <tbody>\n",
              "        <tr>\n",
              "            <td>4631514.939618677</td>\n",
              "            <td>4614271.9919649195</td>\n",
              "        </tr>\n",
              "    </tbody>\n",
              "</table>"
            ],
            "text/plain": [
              "[(4631514.939618677, 4614271.9919649195)]"
            ]
          },
          "metadata": {
            "tags": []
          },
          "execution_count": 14
        }
      ]
    },
    {
      "cell_type": "markdown",
      "metadata": {
        "id": "QjTh-Os2kaMY"
      },
      "source": [
        "#### 4.3 valeurs extrêmes\n",
        "\n",
        "***max*** : calcule la valeur maximale dans cette colonne (en omettant les valeurs nulles).\n",
        "\n",
        "***min*** : calcule la valeur minimale dans cette colonne (en omettant les valeurs nulles)."
      ]
    },
    {
      "cell_type": "code",
      "metadata": {
        "colab": {
          "base_uri": "https://localhost:8080/",
          "height": 79
        },
        "id": "nvdMNAOEkaMZ",
        "outputId": "370054de-85fe-4369-fbc0-a9a1a7edb4e3"
      },
      "source": [
        "%%sql sqlite://\n",
        "SELECT min(FLOW_INcms), max(FLOW_OUTcms) \n",
        "From rch "
      ],
      "execution_count": 15,
      "outputs": [
        {
          "output_type": "stream",
          "text": [
            "Done.\n"
          ],
          "name": "stdout"
        },
        {
          "output_type": "execute_result",
          "data": {
            "text/html": [
              "<table>\n",
              "    <thead>\n",
              "        <tr>\n",
              "            <th>min(FLOW_INcms)</th>\n",
              "            <th>max(FLOW_OUTcms)</th>\n",
              "        </tr>\n",
              "    </thead>\n",
              "    <tbody>\n",
              "        <tr>\n",
              "            <td>0.20121553540229797</td>\n",
              "            <td>10499.5498046875</td>\n",
              "        </tr>\n",
              "    </tbody>\n",
              "</table>"
            ],
            "text/plain": [
              "[(0.20121553540229797, 10499.5498046875)]"
            ]
          },
          "metadata": {
            "tags": []
          },
          "execution_count": 15
        }
      ]
    },
    {
      "cell_type": "markdown",
      "metadata": {
        "id": "KsU5rIOskaMZ"
      },
      "source": [
        "### 5. Calculez par vous-mêmes :\n",
        "\n",
        "Nous pouvons calculer certaines valeurs par la combinaison de ces opérateurs mathématiques. \n",
        "\n",
        "Par exemple, nous pouvons calculer les valeurs moyennes de Flow_In et Flow_Out.\n"
      ]
    },
    {
      "cell_type": "code",
      "metadata": {
        "colab": {
          "base_uri": "https://localhost:8080/",
          "height": 79
        },
        "id": "YKs2kttckaMZ",
        "outputId": "92bda1b0-1a3c-4c69-b302-6426967f455f"
      },
      "source": [
        "%%sql sqlite://\n",
        "SELECT sum(FLOW_INcms)/COUNT(FLOW_INcms) as AVG_FlowIn, \n",
        "sum(FLOW_OUTcms)/COUNT(FLOW_OUTcms) as AVG_FlowOut\n",
        "From rch "
      ],
      "execution_count": 16,
      "outputs": [
        {
          "output_type": "stream",
          "text": [
            "Done.\n"
          ],
          "name": "stdout"
        },
        {
          "output_type": "execute_result",
          "data": {
            "text/html": [
              "<table>\n",
              "    <thead>\n",
              "        <tr>\n",
              "            <th>AVG_FlowIn</th>\n",
              "            <th>AVG_FlowOut</th>\n",
              "        </tr>\n",
              "    </thead>\n",
              "    <tbody>\n",
              "        <tr>\n",
              "            <td>559.361707683415</td>\n",
              "            <td>557.2792260827198</td>\n",
              "        </tr>\n",
              "    </tbody>\n",
              "</table>"
            ],
            "text/plain": [
              "[(559.361707683415, 557.2792260827198)]"
            ]
          },
          "metadata": {
            "tags": []
          },
          "execution_count": 16
        }
      ]
    },
    {
      "cell_type": "markdown",
      "metadata": {
        "id": "oVUOyczpkaMZ"
      },
      "source": [
        "### Conclusion du notebook\n",
        "\n",
        "L'agrégation des données (également appelée cumul, récapitulation ou regroupement de données) crée une sorte de total à partir d'un certain nombre d'enregistrements. \n",
        "\n",
        "Sum, min, max, count et average sont des opérations d'agrégation courantes.\n",
        "\n",
        "En fait, l'exemple ci-dessus ne donne pas la puissance réelle de ces fonctions d'agrégation. \n",
        "\n",
        "\n",
        "Elles ne deviennent réellement puissantes que lorsqu'elles sont utilisées avec les clauses ***GROUP BY*** et ***ORDER BY***."
      ]
    }
  ]
}